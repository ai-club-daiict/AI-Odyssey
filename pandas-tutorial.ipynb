{
 "cells": [
  {
   "cell_type": "markdown",
   "id": "2a0d1d57",
   "metadata": {
    "papermill": {
     "duration": 0.031619,
     "end_time": "2023-02-02T06:00:40.627063",
     "exception": false,
     "start_time": "2023-02-02T06:00:40.595444",
     "status": "completed"
    },
    "tags": []
   },
   "source": [
    "In this notebook, we will learn:\n",
    "* How to import Pandas\n",
    "* How to create Pandas Series and DataFrames using various methods\n",
    "* How to access and change elements in Series and DataFrames\n",
    "* How to deal with missing values\n",
    "* How to load data into a DataFrame and extract, filter and transform data\n",
    "* How to calculate statistics and create visualizations\n",
    "* Different methods and attributes which helps in data manipulation and analysis\n",
    "\n",
    "<br>\n",
    "<img src = \"https://files.realpython.com/media/Intro-to-Exploratory-Data-Analysis-With-Pandas_Watermarked.81a7d7df468f.jpg\" width = \"600\"/>\n",
    "<br>\n",
    "<center><str><a target=\"_blank\" href=\"https://files.realpython.com/media/Intro-to-Exploratory-Data-Analysis-With-Pandas_Watermarked.81a7d7df468f.jpg\">Image Source</a></str></center>\n"
   ]
  },
  {
   "cell_type": "markdown",
   "id": "8c8bd3a4",
   "metadata": {
    "papermill": {
     "duration": 0.029283,
     "end_time": "2023-02-02T06:00:40.685579",
     "exception": false,
     "start_time": "2023-02-02T06:00:40.656296",
     "status": "completed"
    },
    "tags": []
   },
   "source": [
    "<a id = \"1.\"></a>\n",
    "# 1. Introduction\n",
    "\n",
    "<div class=\"alert alert-block alert-success\">\n",
    "Pandas is a package for the manipulation and analysis of data in Python. It is built on top of numpy. The name pandas is derived from the econometrics term Panel Data. It is fast, powerful, flexible, open source and easy to use. Pandas incorporates two additional data structures into Python, namely Pandas Series and Pandas DataFrame. We can load data of different formats into DataFrames.</div>\n"
   ]
  },
  {
   "cell_type": "markdown",
   "id": "26c8d8e7",
   "metadata": {
    "papermill": {
     "duration": 0.028588,
     "end_time": "2023-02-02T06:00:40.742944",
     "exception": false,
     "start_time": "2023-02-02T06:00:40.714356",
     "status": "completed"
    },
    "tags": []
   },
   "source": [
    "<div class=\"alert alert-block alert-info\">\n",
    "Importing necessary libraries:</div>"
   ]
  },
  {
   "cell_type": "code",
   "execution_count": 1,
   "id": "db21ffa3",
   "metadata": {
    "execution": {
     "iopub.execute_input": "2023-02-02T06:00:40.802893Z",
     "iopub.status.busy": "2023-02-02T06:00:40.802256Z",
     "iopub.status.idle": "2023-02-02T06:00:40.815155Z",
     "shell.execute_reply": "2023-02-02T06:00:40.813988Z"
    },
    "papermill": {
     "duration": 0.046055,
     "end_time": "2023-02-02T06:00:40.817699",
     "exception": false,
     "start_time": "2023-02-02T06:00:40.771644",
     "status": "completed"
    },
    "tags": []
   },
   "outputs": [],
   "source": [
    "import pandas as pd\n",
    "import numpy as np"
   ]
  },
  {
   "cell_type": "markdown",
   "id": "82f0d41a",
   "metadata": {
    "papermill": {
     "duration": 0.028618,
     "end_time": "2023-02-02T06:00:40.875390",
     "exception": false,
     "start_time": "2023-02-02T06:00:40.846772",
     "status": "completed"
    },
    "tags": []
   },
   "source": [
    "<a id = \"2.\"></a>\n",
    "# 2. Series\n",
    "\n",
    "<div class=\"alert alert-block alert-info\">\n",
    "A pandas series is a one-dimentional data structure which can store data such as strings, integers, floats and other python objects. <b>pandas.Series()</b> method is used to create pandas series. In sereis, indices are are stored in first column and data in the second column.\n",
    "</div>\n",
    "\n",
    "\n",
    "Let's see some examples:"
   ]
  },
  {
   "cell_type": "markdown",
   "id": "0bab717a",
   "metadata": {
    "papermill": {
     "duration": 0.028692,
     "end_time": "2023-02-02T06:00:40.933171",
     "exception": false,
     "start_time": "2023-02-02T06:00:40.904479",
     "status": "completed"
    },
    "tags": []
   },
   "source": [
    "<div class=\"alert alert-block alert-warning\">\n",
    "    If we don't specify the 'index' argument in <b>pd.Series</b> then the indices will be integers starting from 0.\n",
    "</div>"
   ]
  },
  {
   "cell_type": "code",
   "execution_count": 2,
   "id": "1dbb7fa1",
   "metadata": {
    "execution": {
     "iopub.execute_input": "2023-02-02T06:00:40.992526Z",
     "iopub.status.busy": "2023-02-02T06:00:40.992150Z",
     "iopub.status.idle": "2023-02-02T06:00:41.007678Z",
     "shell.execute_reply": "2023-02-02T06:00:41.006295Z"
    },
    "papermill": {
     "duration": 0.049716,
     "end_time": "2023-02-02T06:00:41.011712",
     "exception": false,
     "start_time": "2023-02-02T06:00:40.961996",
     "status": "completed"
    },
    "tags": []
   },
   "outputs": [
    {
     "name": "stdout",
     "output_type": "stream",
     "text": [
      "<class 'pandas.core.series.Series'>\n"
     ]
    },
    {
     "data": {
      "text/plain": [
       "0    Yes\n",
       "1     No\n",
       "2     12\n",
       "3     10\n",
       "dtype: object"
      ]
     },
     "execution_count": 2,
     "metadata": {},
     "output_type": "execute_result"
    }
   ],
   "source": [
    "my_list = [\"Yes\", \"No\", 12, 10]\n",
    "\n",
    "my_series = pd.Series(data = my_list)\n",
    "\n",
    "print(type(my_series))\n",
    "my_series"
   ]
  },
  {
   "cell_type": "markdown",
   "id": "2da5b332",
   "metadata": {
    "papermill": {
     "duration": 0.028924,
     "end_time": "2023-02-02T06:00:41.070385",
     "exception": false,
     "start_time": "2023-02-02T06:00:41.041461",
     "status": "completed"
    },
    "tags": []
   },
   "source": [
    "<div class=\"alert alert-block alert-warning\">\n",
    "    We can add indices of our own choice by specifying the 'index' argument in <b>pd.Series</b>.\n",
    "</div>"
   ]
  },
  {
   "cell_type": "code",
   "execution_count": 3,
   "id": "e7d6041b",
   "metadata": {
    "execution": {
     "iopub.execute_input": "2023-02-02T06:00:41.135078Z",
     "iopub.status.busy": "2023-02-02T06:00:41.133552Z",
     "iopub.status.idle": "2023-02-02T06:00:41.155133Z",
     "shell.execute_reply": "2023-02-02T06:00:41.154245Z"
    },
    "papermill": {
     "duration": 0.060233,
     "end_time": "2023-02-02T06:00:41.159970",
     "exception": false,
     "start_time": "2023-02-02T06:00:41.099737",
     "status": "completed"
    },
    "tags": []
   },
   "outputs": [
    {
     "data": {
      "text/plain": [
       "milk      Yes\n",
       "bread      No\n",
       "apples    100\n",
       "eggs       10\n",
       "dtype: object"
      ]
     },
     "execution_count": 3,
     "metadata": {},
     "output_type": "execute_result"
    }
   ],
   "source": [
    "my_list = [\"Yes\", \"No\", 100, 10]\n",
    "indices = ['milk', 'bread', 'apples', 'eggs']\n",
    "\n",
    "groceries = pd.Series(data = my_list, index = indices)\n",
    "groceries"
   ]
  },
  {
   "cell_type": "markdown",
   "id": "841326b0",
   "metadata": {
    "papermill": {
     "duration": 0.039121,
     "end_time": "2023-02-02T06:00:41.236255",
     "exception": false,
     "start_time": "2023-02-02T06:00:41.197134",
     "status": "completed"
    },
    "tags": []
   },
   "source": [
    "<div class=\"alert alert-block alert-warning\">\n",
    " We can also get the shape, number of dimensions and size of pandas Sereis by using <b>Series.attribute_name</b>.\n",
    "</div>"
   ]
  },
  {
   "cell_type": "code",
   "execution_count": 4,
   "id": "cd56d162",
   "metadata": {
    "execution": {
     "iopub.execute_input": "2023-02-02T06:00:41.297533Z",
     "iopub.status.busy": "2023-02-02T06:00:41.297153Z",
     "iopub.status.idle": "2023-02-02T06:00:41.302417Z",
     "shell.execute_reply": "2023-02-02T06:00:41.301591Z"
    },
    "papermill": {
     "duration": 0.038476,
     "end_time": "2023-02-02T06:00:41.304644",
     "exception": false,
     "start_time": "2023-02-02T06:00:41.266168",
     "status": "completed"
    },
    "tags": []
   },
   "outputs": [
    {
     "name": "stdout",
     "output_type": "stream",
     "text": [
      "groceries.shape:  (4,)\n",
      "grocereis.ndim:  1\n",
      "groceries.size:  4\n"
     ]
    }
   ],
   "source": [
    "print(\"groceries.shape: \", groceries.shape)\n",
    "print(\"grocereis.ndim: \", groceries.ndim) # number of dimensions\n",
    "print(\"groceries.size: \", groceries.size)"
   ]
  },
  {
   "cell_type": "markdown",
   "id": "b4a7d4a4",
   "metadata": {
    "papermill": {
     "duration": 0.030232,
     "end_time": "2023-02-02T06:00:41.365064",
     "exception": false,
     "start_time": "2023-02-02T06:00:41.334832",
     "status": "completed"
    },
    "tags": []
   },
   "source": [
    "<div class=\"alert alert-block alert-warning\">\n",
    "We can also get the values and indexes of a series:\n",
    "</div>"
   ]
  },
  {
   "cell_type": "code",
   "execution_count": 5,
   "id": "98e7afa6",
   "metadata": {
    "execution": {
     "iopub.execute_input": "2023-02-02T06:00:41.426145Z",
     "iopub.status.busy": "2023-02-02T06:00:41.425705Z",
     "iopub.status.idle": "2023-02-02T06:00:41.432357Z",
     "shell.execute_reply": "2023-02-02T06:00:41.431433Z"
    },
    "papermill": {
     "duration": 0.040313,
     "end_time": "2023-02-02T06:00:41.434943",
     "exception": false,
     "start_time": "2023-02-02T06:00:41.394630",
     "status": "completed"
    },
    "tags": []
   },
   "outputs": [
    {
     "name": "stdout",
     "output_type": "stream",
     "text": [
      "groceries.values:  ['Yes' 'No' 100 10]\n",
      "\n",
      "groceries.index:  Index(['milk', 'bread', 'apples', 'eggs'], dtype='object')\n"
     ]
    }
   ],
   "source": [
    "print(\"groceries.values: \", groceries.values)\n",
    "print()\n",
    "print(\"groceries.index: \", groceries.index)"
   ]
  },
  {
   "cell_type": "markdown",
   "id": "04c31c0b",
   "metadata": {
    "papermill": {
     "duration": 0.030885,
     "end_time": "2023-02-02T06:00:41.496906",
     "exception": false,
     "start_time": "2023-02-02T06:00:41.466021",
     "status": "completed"
    },
    "tags": []
   },
   "source": [
    "<div class=\"alert alert-block alert-warning\">\n",
    "We can also check if an index is availabe in the given Series\n",
    "</div>"
   ]
  },
  {
   "cell_type": "code",
   "execution_count": 6,
   "id": "4830f046",
   "metadata": {
    "execution": {
     "iopub.execute_input": "2023-02-02T06:00:41.562182Z",
     "iopub.status.busy": "2023-02-02T06:00:41.561016Z",
     "iopub.status.idle": "2023-02-02T06:00:41.573843Z",
     "shell.execute_reply": "2023-02-02T06:00:41.572279Z"
    },
    "papermill": {
     "duration": 0.04753,
     "end_time": "2023-02-02T06:00:41.577014",
     "exception": false,
     "start_time": "2023-02-02T06:00:41.529484",
     "status": "completed"
    },
    "tags": []
   },
   "outputs": [
    {
     "name": "stdout",
     "output_type": "stream",
     "text": [
      "False\n",
      "True\n"
     ]
    }
   ],
   "source": [
    "print(\"bananas\" in groceries)\n",
    "print(\"milk\" in groceries)"
   ]
  },
  {
   "cell_type": "markdown",
   "id": "3bd4e690",
   "metadata": {
    "papermill": {
     "duration": 0.030011,
     "end_time": "2023-02-02T06:00:41.637482",
     "exception": false,
     "start_time": "2023-02-02T06:00:41.607471",
     "status": "completed"
    },
    "tags": []
   },
   "source": [
    "## Accessing and Deleting Elements in Series\n",
    "\n",
    "<div class=\"alert alert-block alert-info\">\n",
    "We can access elements in a dataframe using index labels or numerical indices inside square brackets [ ]. Negative indices can be used to access elements from the end of the Series. Pandas has also provided the two methods <b>loc</b> and <b>iloc</b> to aceess elements with label index and numerical index, respectively.\n",
    "</div>\n",
    "\n",
    "Let's see some examples:\n",
    "\n",
    "### Access elements using index labels"
   ]
  },
  {
   "cell_type": "code",
   "execution_count": 7,
   "id": "5f84637f",
   "metadata": {
    "execution": {
     "iopub.execute_input": "2023-02-02T06:00:41.698043Z",
     "iopub.status.busy": "2023-02-02T06:00:41.697624Z",
     "iopub.status.idle": "2023-02-02T06:00:41.720194Z",
     "shell.execute_reply": "2023-02-02T06:00:41.719108Z"
    },
    "papermill": {
     "duration": 0.056277,
     "end_time": "2023-02-02T06:00:41.723269",
     "exception": false,
     "start_time": "2023-02-02T06:00:41.666992",
     "status": "completed"
    },
    "tags": []
   },
   "outputs": [
    {
     "name": "stdout",
     "output_type": "stream",
     "text": [
      "milk      Yes\n",
      "bread      No\n",
      "apples    100\n",
      "eggs       10\n",
      "dtype: object\n",
      "\n",
      "groceries['eggs']:\n",
      " 10\n",
      "\n",
      "groceries[['milk', 'bread']]:\n",
      " milk     Yes\n",
      "bread     No\n",
      "dtype: object\n",
      "\n",
      "groceries.loc['eggs', 'apples']:\n",
      " eggs       10\n",
      "apples    100\n",
      "dtype: object\n",
      "\n",
      "groceries.[[0, 1]]:\n",
      " milk     Yes\n",
      "bread     No\n",
      "dtype: object\n",
      "\n",
      "groceries[[-1]]:\n",
      " eggs    10\n",
      "dtype: object\n",
      "\n",
      "groceries[0]:\n",
      " Yes\n",
      "\n",
      "groceries.iloc[[2, 3]]:\n",
      " apples    100\n",
      "eggs       10\n",
      "dtype: object\n"
     ]
    }
   ],
   "source": [
    "print(groceries)\n",
    "print()\n",
    "\n",
    "# We access elements in Groceries using index labels:\n",
    "\n",
    "# We use a single index label\n",
    "print(\"groceries['eggs']:\\n\", groceries['eggs'])\n",
    "print()\n",
    "\n",
    "# we can access multiple index labels\n",
    "print(\"groceries[['milk', 'bread']]:\\n\", groceries[['milk', 'bread']])\n",
    "print()\n",
    "\n",
    "# we use loc to access multiple index labels\n",
    "print(\"groceries.loc['eggs', 'apples']:\\n\", groceries.loc[['eggs', 'apples']])\n",
    "print()\n",
    "\n",
    "# We access elements in Groceries using numerical indices:\n",
    "\n",
    "# we use multiple numerical indices\n",
    "print(\"groceries.[[0, 1]]:\\n\", groceries[[0, 1]])\n",
    "print()\n",
    "\n",
    "# We use a negative numerical index\n",
    "print(\"groceries[[-1]]:\\n\", groceries[[-1]])\n",
    "print()\n",
    "\n",
    "# We use a single numerical index\n",
    "print(\"groceries[0]:\\n\", groceries[0])\n",
    "print()\n",
    "\n",
    "# we use iloc to access multiple numerical indices\n",
    "print(\"groceries.iloc[[2, 3]]:\\n\", groceries.iloc[[2, 3]])"
   ]
  },
  {
   "cell_type": "markdown",
   "id": "d3aa1cc9",
   "metadata": {
    "papermill": {
     "duration": 0.02911,
     "end_time": "2023-02-02T06:00:41.784598",
     "exception": false,
     "start_time": "2023-02-02T06:00:41.755488",
     "status": "completed"
    },
    "tags": []
   },
   "source": [
    "### Changing elements of a Series\n",
    "\n",
    "<div class=\"alert alert-block alert-info\">\n",
    "Pandas Series is mutable and we can change its elements.\n",
    "</div>\n",
    "\n",
    "Let's see an example:"
   ]
  },
  {
   "cell_type": "code",
   "execution_count": 8,
   "id": "1ba9ebc7",
   "metadata": {
    "execution": {
     "iopub.execute_input": "2023-02-02T06:00:41.845228Z",
     "iopub.status.busy": "2023-02-02T06:00:41.844689Z",
     "iopub.status.idle": "2023-02-02T06:00:41.853282Z",
     "shell.execute_reply": "2023-02-02T06:00:41.852052Z"
    },
    "papermill": {
     "duration": 0.0424,
     "end_time": "2023-02-02T06:00:41.856527",
     "exception": false,
     "start_time": "2023-02-02T06:00:41.814127",
     "status": "completed"
    },
    "tags": []
   },
   "outputs": [
    {
     "name": "stdout",
     "output_type": "stream",
     "text": [
      "Before changing:\n",
      "\n",
      "milk      Yes\n",
      "bread      No\n",
      "apples    100\n",
      "eggs       10\n",
      "dtype: object\n",
      "\n",
      "After changing:\n",
      "\n",
      "milk      Yes\n",
      "bread      No\n",
      "apples     12\n",
      "eggs       10\n",
      "dtype: object\n"
     ]
    }
   ],
   "source": [
    "print(\"Before changing:\\n\")\n",
    "print(groceries)\n",
    "print()\n",
    "\n",
    "groceries['apples'] = 12\n",
    "\n",
    "print(\"After changing:\\n\")\n",
    "print(groceries)"
   ]
  },
  {
   "cell_type": "markdown",
   "id": "b139b387",
   "metadata": {
    "papermill": {
     "duration": 0.03013,
     "end_time": "2023-02-02T06:00:41.917076",
     "exception": false,
     "start_time": "2023-02-02T06:00:41.886946",
     "status": "completed"
    },
    "tags": []
   },
   "source": [
    "### Deleting element of  a Series\n",
    "\n",
    "<div class=\"alert alert-block alert-info\">\n",
    "    We can delete an element from a Series using <b>drop()</b> method.\n",
    "</div>\n",
    "\n",
    "Let's see an example:"
   ]
  },
  {
   "cell_type": "markdown",
   "id": "364d72d3",
   "metadata": {
    "papermill": {
     "duration": 0.029812,
     "end_time": "2023-02-02T06:00:41.977477",
     "exception": false,
     "start_time": "2023-02-02T06:00:41.947665",
     "status": "completed"
    },
    "tags": []
   },
   "source": [
    "<div class=\"alert alert-block alert-warning\">\n",
    "In Pandas Series, using <b>drop()</b> method will not remove an element from the original Series. For this, we will use an argument 'inplace = True'. This will delete an element from the original Series.\n",
    "</div>"
   ]
  },
  {
   "cell_type": "code",
   "execution_count": 9,
   "id": "1f433578",
   "metadata": {
    "execution": {
     "iopub.execute_input": "2023-02-02T06:00:42.040387Z",
     "iopub.status.busy": "2023-02-02T06:00:42.039990Z",
     "iopub.status.idle": "2023-02-02T06:00:42.047428Z",
     "shell.execute_reply": "2023-02-02T06:00:42.046470Z"
    },
    "papermill": {
     "duration": 0.041929,
     "end_time": "2023-02-02T06:00:42.050542",
     "exception": false,
     "start_time": "2023-02-02T06:00:42.008613",
     "status": "completed"
    },
    "tags": []
   },
   "outputs": [
    {
     "name": "stdout",
     "output_type": "stream",
     "text": [
      "Before deleting:\n",
      "\n",
      "milk      Yes\n",
      "bread      No\n",
      "apples     12\n",
      "eggs       10\n",
      "dtype: object\n",
      "\n",
      "After deleting:\n",
      "\n",
      "milk      Yes\n",
      "bread      No\n",
      "apples     12\n",
      "dtype: object\n"
     ]
    }
   ],
   "source": [
    "print(\"Before deleting:\\n\")\n",
    "print(groceries)\n",
    "print()\n",
    "\n",
    "groceries.drop('eggs', inplace = True)\n",
    "\n",
    "print(\"After deleting:\\n\")\n",
    "print(groceries)"
   ]
  },
  {
   "cell_type": "markdown",
   "id": "9b17aeee",
   "metadata": {
    "papermill": {
     "duration": 0.030395,
     "end_time": "2023-02-02T06:00:42.112135",
     "exception": false,
     "start_time": "2023-02-02T06:00:42.081740",
     "status": "completed"
    },
    "tags": []
   },
   "source": [
    "### Arithmetic Operations on Pandas Series\n",
    "\n",
    "<div class=\"alert alert-block alert-info\">\n",
    "We can do arithmetic operations between Pandas Series and single numbers. We can also apply mathematical functions from Numpy and perform arithmetic operations on selected elements.\n",
    "</div>\n",
    "\n",
    "Let's see some examples:"
   ]
  },
  {
   "cell_type": "code",
   "execution_count": 10,
   "id": "3fbe2458",
   "metadata": {
    "execution": {
     "iopub.execute_input": "2023-02-02T06:00:42.174582Z",
     "iopub.status.busy": "2023-02-02T06:00:42.174192Z",
     "iopub.status.idle": "2023-02-02T06:00:42.186259Z",
     "shell.execute_reply": "2023-02-02T06:00:42.184971Z"
    },
    "papermill": {
     "duration": 0.046611,
     "end_time": "2023-02-02T06:00:42.189282",
     "exception": false,
     "start_time": "2023-02-02T06:00:42.142671",
     "status": "completed"
    },
    "tags": []
   },
   "outputs": [
    {
     "name": "stdout",
     "output_type": "stream",
     "text": [
      "Tomatoes     6\n",
      "Carrots     18\n",
      "Potatoes    33\n",
      "dtype: int64\n",
      "\n",
      "veggies + 2:\n",
      " Tomatoes     8\n",
      "Carrots     20\n",
      "Potatoes    35\n",
      "dtype: int64\n",
      "\n",
      "veggies - 2:\n",
      " Tomatoes     4\n",
      "Carrots     16\n",
      "Potatoes    31\n",
      "dtype: int64\n",
      "\n",
      "veggies * 2:\n",
      " Tomatoes    12\n",
      "Carrots     36\n",
      "Potatoes    66\n",
      "dtype: int64\n",
      "\n",
      "veggies / 2:\n",
      " Tomatoes     3.0\n",
      "Carrots      9.0\n",
      "Potatoes    16.5\n",
      "dtype: float64\n"
     ]
    }
   ],
   "source": [
    "veggies = pd.Series(data = [6, 18, 33], index = [\"Tomatoes\", \"Carrots\", \"Potatoes\"])\n",
    "print(veggies)\n",
    "print()\n",
    "\n",
    "print(\"veggies + 2:\\n\", veggies + 2)\n",
    "print()\n",
    "\n",
    "print(\"veggies - 2:\\n\", veggies - 2)\n",
    "print()\n",
    "\n",
    "print(\"veggies * 2:\\n\", veggies * 2)\n",
    "print()\n",
    "\n",
    "print(\"veggies / 2:\\n\", veggies / 2)"
   ]
  },
  {
   "cell_type": "code",
   "execution_count": 11,
   "id": "31f260db",
   "metadata": {
    "execution": {
     "iopub.execute_input": "2023-02-02T06:00:42.254132Z",
     "iopub.status.busy": "2023-02-02T06:00:42.253680Z",
     "iopub.status.idle": "2023-02-02T06:00:42.263526Z",
     "shell.execute_reply": "2023-02-02T06:00:42.262272Z"
    },
    "papermill": {
     "duration": 0.044843,
     "end_time": "2023-02-02T06:00:42.266843",
     "exception": false,
     "start_time": "2023-02-02T06:00:42.222000",
     "status": "completed"
    },
    "tags": []
   },
   "outputs": [
    {
     "name": "stdout",
     "output_type": "stream",
     "text": [
      "Tomatoes     6\n",
      "Carrots     18\n",
      "Potatoes    33\n",
      "dtype: int64\n",
      "\n",
      "np.exp(veggies):\n",
      " Tomatoes    4.034288e+02\n",
      "Carrots     6.565997e+07\n",
      "Potatoes    2.146436e+14\n",
      "dtype: float64\n",
      "\n",
      "np.power(veggies, 2):\n",
      " Tomatoes      36\n",
      "Carrots      324\n",
      "Potatoes    1089\n",
      "dtype: int64\n",
      "\n",
      "np.sqrt(veggies):\n",
      " Tomatoes    2.449490\n",
      "Carrots     4.242641\n",
      "Potatoes    5.744563\n",
      "dtype: float64\n"
     ]
    }
   ],
   "source": [
    "print(veggies)\n",
    "print()\n",
    "\n",
    "print(\"np.exp(veggies):\\n\", np.exp(veggies))\n",
    "print()\n",
    "\n",
    "print(\"np.power(veggies, 2):\\n\", np.power(veggies, 2))\n",
    "print()\n",
    "\n",
    "print(\"np.sqrt(veggies):\\n\", np.sqrt(veggies))"
   ]
  },
  {
   "cell_type": "code",
   "execution_count": 12,
   "id": "e6edf816",
   "metadata": {
    "execution": {
     "iopub.execute_input": "2023-02-02T06:00:42.332951Z",
     "iopub.status.busy": "2023-02-02T06:00:42.332511Z",
     "iopub.status.idle": "2023-02-02T06:00:42.345266Z",
     "shell.execute_reply": "2023-02-02T06:00:42.343317Z"
    },
    "papermill": {
     "duration": 0.049392,
     "end_time": "2023-02-02T06:00:42.349015",
     "exception": false,
     "start_time": "2023-02-02T06:00:42.299623",
     "status": "completed"
    },
    "tags": []
   },
   "outputs": [
    {
     "name": "stdout",
     "output_type": "stream",
     "text": [
      "Tomatoes     6\n",
      "Carrots     18\n",
      "Potatoes    33\n",
      "dtype: int64\n",
      "\n",
      "veggies['Tomatoes'] + 10:  16\n",
      "\n",
      "veggies.iloc[2] - 5:  28\n",
      "\n",
      "veggies[['Carrots', 'Potatoes']] * 2:  Carrots     36\n",
      "Potatoes    66\n",
      "dtype: int64\n",
      "\n",
      "veggies.loc[['Carrots', 'Potatoes']] / 2:\n",
      " Carrots     36\n",
      "Potatoes    66\n",
      "dtype: int64\n"
     ]
    }
   ],
   "source": [
    "print(veggies)\n",
    "print()\n",
    "\n",
    "print(\"veggies['Tomatoes'] + 10: \", veggies['Tomatoes'] + 10)\n",
    "print()\n",
    "\n",
    "print(\"veggies.iloc[2] - 5: \", veggies.iloc[2] - 5)\n",
    "print()\n",
    "\n",
    "print(\"veggies[['Carrots', 'Potatoes']] * 2: \", veggies[['Carrots', 'Potatoes']] * 2)\n",
    "print()\n",
    "\n",
    "print(\"veggies.loc[['Carrots', 'Potatoes']] / 2:\\n\", veggies[['Carrots', 'Potatoes']] * 2)"
   ]
  },
  {
   "cell_type": "markdown",
   "id": "dca05b1a",
   "metadata": {
    "papermill": {
     "duration": 0.030338,
     "end_time": "2023-02-02T06:00:42.410567",
     "exception": false,
     "start_time": "2023-02-02T06:00:42.380229",
     "status": "completed"
    },
    "tags": []
   },
   "source": [
    "<div class=\"alert alert-block alert-info\">\n",
    " We can also do arithmetic operations on Pandas Series of mixed data types provided that the arithmetic opeeration is defined for all data types in the Series, otherwise we will get an error.\n",
    "</div>"
   ]
  },
  {
   "cell_type": "code",
   "execution_count": 13,
   "id": "1a736c02",
   "metadata": {
    "execution": {
     "iopub.execute_input": "2023-02-02T06:00:42.474128Z",
     "iopub.status.busy": "2023-02-02T06:00:42.473690Z",
     "iopub.status.idle": "2023-02-02T06:00:42.483574Z",
     "shell.execute_reply": "2023-02-02T06:00:42.482008Z"
    },
    "papermill": {
     "duration": 0.044763,
     "end_time": "2023-02-02T06:00:42.485963",
     "exception": false,
     "start_time": "2023-02-02T06:00:42.441200",
     "status": "completed"
    },
    "tags": []
   },
   "outputs": [
    {
     "name": "stdout",
     "output_type": "stream",
     "text": [
      "milk      Yes\n",
      "bread      No\n",
      "apples    100\n",
      "eggs       10\n",
      "dtype: object\n",
      "\n",
      "groceries * 2:\n",
      " milk      YesYes\n",
      "bread       NoNo\n",
      "apples       200\n",
      "eggs          20\n",
      "dtype: object\n"
     ]
    }
   ],
   "source": [
    "my_list = [\"Yes\", \"No\", 100, 10]\n",
    "indices = ['milk', 'bread', 'apples', 'eggs']\n",
    "\n",
    "groceries = pd.Series(data = my_list, index = indices)\n",
    "print(groceries)\n",
    "print()\n",
    "\n",
    "print(\"groceries * 2:\\n\", groceries * 2)"
   ]
  },
  {
   "cell_type": "markdown",
   "id": "58689165",
   "metadata": {
    "papermill": {
     "duration": 0.030206,
     "end_time": "2023-02-02T06:00:42.546532",
     "exception": false,
     "start_time": "2023-02-02T06:00:42.516326",
     "status": "completed"
    },
    "tags": []
   },
   "source": [
    "<a id = '3.'></a>\n",
    "# 3. DataFrames\n",
    "\n",
    "<div class=\"alert alert-block alert-info\">\n",
    "Pandas DataFrame is a two-dimentional data structure with labeled rows and columns, that can hold many data types. It is made up of many Pandas Series. A DataFrame is similar to an excel spredsheet. A Pandas DataFrame can be created manually or can be loaded from a file.\n",
    "<br>  \n",
    "<br>\n",
    "<b>pandas.DataFrame()</b> method is used to create a DataFrame manually. We will first create a dictionary and then pass it to the <b>pandas.DataFrame()</b> as an attribute. \n",
    "</div>\n",
    "\n",
    "<br>\n",
    "<img src = \"https://files.realpython.com/media/A-Guide-to-Pandas-Dataframes_Watermarked.7330c8fd51bb.jpg\" width = \"600\"/>\n",
    "<br>\n",
    "<center><str><a target=\"_blank\" href=\"https://files.realpython.com/media/A-Guide-to-Pandas-Dataframes_Watermarked.7330c8fd51bb.jpg\">Image Source</a></str></center>\n",
    "\n",
    "\n",
    "Let's see an example:"
   ]
  },
  {
   "cell_type": "code",
   "execution_count": 14,
   "id": "1150a689",
   "metadata": {
    "execution": {
     "iopub.execute_input": "2023-02-02T06:00:42.610604Z",
     "iopub.status.busy": "2023-02-02T06:00:42.609833Z",
     "iopub.status.idle": "2023-02-02T06:00:42.630434Z",
     "shell.execute_reply": "2023-02-02T06:00:42.628881Z"
    },
    "papermill": {
     "duration": 0.055165,
     "end_time": "2023-02-02T06:00:42.633156",
     "exception": false,
     "start_time": "2023-02-02T06:00:42.577991",
     "status": "completed"
    },
    "tags": []
   },
   "outputs": [
    {
     "name": "stdout",
     "output_type": "stream",
     "text": [
      "<class 'pandas.core.frame.DataFrame'>\n"
     ]
    },
    {
     "data": {
      "text/html": [
       "<div>\n",
       "<style scoped>\n",
       "    .dataframe tbody tr th:only-of-type {\n",
       "        vertical-align: middle;\n",
       "    }\n",
       "\n",
       "    .dataframe tbody tr th {\n",
       "        vertical-align: top;\n",
       "    }\n",
       "\n",
       "    .dataframe thead th {\n",
       "        text-align: right;\n",
       "    }\n",
       "</style>\n",
       "<table border=\"1\" class=\"dataframe\">\n",
       "  <thead>\n",
       "    <tr style=\"text-align: right;\">\n",
       "      <th></th>\n",
       "      <th>Ali</th>\n",
       "      <th>Bilal</th>\n",
       "    </tr>\n",
       "  </thead>\n",
       "  <tbody>\n",
       "    <tr>\n",
       "      <th>apples</th>\n",
       "      <td>NaN</td>\n",
       "      <td>7.0</td>\n",
       "    </tr>\n",
       "    <tr>\n",
       "      <th>bikes</th>\n",
       "      <td>34.0</td>\n",
       "      <td>NaN</td>\n",
       "    </tr>\n",
       "    <tr>\n",
       "      <th>books</th>\n",
       "      <td>NaN</td>\n",
       "      <td>87.0</td>\n",
       "    </tr>\n",
       "    <tr>\n",
       "      <th>cars</th>\n",
       "      <td>101.0</td>\n",
       "      <td>NaN</td>\n",
       "    </tr>\n",
       "    <tr>\n",
       "      <th>pants</th>\n",
       "      <td>78.0</td>\n",
       "      <td>NaN</td>\n",
       "    </tr>\n",
       "    <tr>\n",
       "      <th>peanuts</th>\n",
       "      <td>NaN</td>\n",
       "      <td>55.0</td>\n",
       "    </tr>\n",
       "    <tr>\n",
       "      <th>pencils</th>\n",
       "      <td>NaN</td>\n",
       "      <td>11.0</td>\n",
       "    </tr>\n",
       "  </tbody>\n",
       "</table>\n",
       "</div>"
      ],
      "text/plain": [
       "           Ali  Bilal\n",
       "apples     NaN    7.0\n",
       "bikes     34.0    NaN\n",
       "books      NaN   87.0\n",
       "cars     101.0    NaN\n",
       "pants     78.0    NaN\n",
       "peanuts    NaN   55.0\n",
       "pencils    NaN   11.0"
      ]
     },
     "execution_count": 14,
     "metadata": {},
     "output_type": "execute_result"
    }
   ],
   "source": [
    "items = {\n",
    "    \"Ali\" : pd.Series(data = [101, 34, 78], index = ['cars', 'bikes', 'pants']),\n",
    "    \"Bilal\" : pd.Series(data = [87, 11, 7, 55], index = ['books', 'pencils', 'apples', 'peanuts'])\n",
    "}\n",
    "\n",
    "df = pd.DataFrame(items)\n",
    "print(type(df))\n",
    "df"
   ]
  },
  {
   "cell_type": "markdown",
   "id": "34623c0a",
   "metadata": {
    "papermill": {
     "duration": 0.030464,
     "end_time": "2023-02-02T06:00:42.694042",
     "exception": false,
     "start_time": "2023-02-02T06:00:42.663578",
     "status": "completed"
    },
    "tags": []
   },
   "source": [
    "<div class=\"alert alert-block alert-info\">\n",
    "In above example, we see that the row labels of 'df' DataFrame are ordered alphabetically not in the order we gave in the dictionary. You can also see that there are some <b>NaN</b> values. But what are they?\n",
    "<br>\n",
    "    <b>NaN</b> stands for <i>Not a Number</i>, and is Pandas way of indicating the missing values. \n",
    "\n",
    "We can also pass lists as keys insted of Pandas Series:\n",
    "</div>"
   ]
  },
  {
   "cell_type": "code",
   "execution_count": 15,
   "id": "3c8d86c6",
   "metadata": {
    "execution": {
     "iopub.execute_input": "2023-02-02T06:00:42.757206Z",
     "iopub.status.busy": "2023-02-02T06:00:42.756035Z",
     "iopub.status.idle": "2023-02-02T06:00:42.768340Z",
     "shell.execute_reply": "2023-02-02T06:00:42.767040Z"
    },
    "papermill": {
     "duration": 0.046288,
     "end_time": "2023-02-02T06:00:42.770617",
     "exception": false,
     "start_time": "2023-02-02T06:00:42.724329",
     "status": "completed"
    },
    "tags": []
   },
   "outputs": [
    {
     "data": {
      "text/html": [
       "<div>\n",
       "<style scoped>\n",
       "    .dataframe tbody tr th:only-of-type {\n",
       "        vertical-align: middle;\n",
       "    }\n",
       "\n",
       "    .dataframe tbody tr th {\n",
       "        vertical-align: top;\n",
       "    }\n",
       "\n",
       "    .dataframe thead th {\n",
       "        text-align: right;\n",
       "    }\n",
       "</style>\n",
       "<table border=\"1\" class=\"dataframe\">\n",
       "  <thead>\n",
       "    <tr style=\"text-align: right;\">\n",
       "      <th></th>\n",
       "      <th>Apples</th>\n",
       "      <th>Mangoes</th>\n",
       "    </tr>\n",
       "  </thead>\n",
       "  <tbody>\n",
       "    <tr>\n",
       "      <th>0</th>\n",
       "      <td>11</td>\n",
       "      <td>99</td>\n",
       "    </tr>\n",
       "    <tr>\n",
       "      <th>1</th>\n",
       "      <td>22</td>\n",
       "      <td>77</td>\n",
       "    </tr>\n",
       "    <tr>\n",
       "      <th>2</th>\n",
       "      <td>33</td>\n",
       "      <td>44</td>\n",
       "    </tr>\n",
       "    <tr>\n",
       "      <th>3</th>\n",
       "      <td>101</td>\n",
       "      <td>45</td>\n",
       "    </tr>\n",
       "    <tr>\n",
       "      <th>4</th>\n",
       "      <td>302</td>\n",
       "      <td>100</td>\n",
       "    </tr>\n",
       "  </tbody>\n",
       "</table>\n",
       "</div>"
      ],
      "text/plain": [
       "   Apples  Mangoes\n",
       "0      11       99\n",
       "1      22       77\n",
       "2      33       44\n",
       "3     101       45\n",
       "4     302      100"
      ]
     },
     "execution_count": 15,
     "metadata": {},
     "output_type": "execute_result"
    }
   ],
   "source": [
    "data = {\"Apples\" : [11, 22, 33, 101, 302],\n",
    "       \"Mangoes\" : [99, 77, 44, 45, 100]}\n",
    "\n",
    "fruits_data = pd.DataFrame(data)\n",
    "\n",
    "fruits_data"
   ]
  },
  {
   "cell_type": "markdown",
   "id": "c7f93e1e",
   "metadata": {
    "papermill": {
     "duration": 0.030599,
     "end_time": "2023-02-02T06:00:42.831727",
     "exception": false,
     "start_time": "2023-02-02T06:00:42.801128",
     "status": "completed"
    },
    "tags": []
   },
   "source": [
    "### Creating a DataFrame using a dictionary of lists, and custom row-indexes (labels)"
   ]
  },
  {
   "cell_type": "code",
   "execution_count": 16,
   "id": "bff51f7b",
   "metadata": {
    "execution": {
     "iopub.execute_input": "2023-02-02T06:00:42.895167Z",
     "iopub.status.busy": "2023-02-02T06:00:42.894181Z",
     "iopub.status.idle": "2023-02-02T06:00:42.908530Z",
     "shell.execute_reply": "2023-02-02T06:00:42.907178Z"
    },
    "papermill": {
     "duration": 0.048634,
     "end_time": "2023-02-02T06:00:42.910833",
     "exception": false,
     "start_time": "2023-02-02T06:00:42.862199",
     "status": "completed"
    },
    "tags": []
   },
   "outputs": [
    {
     "data": {
      "text/html": [
       "<div>\n",
       "<style scoped>\n",
       "    .dataframe tbody tr th:only-of-type {\n",
       "        vertical-align: middle;\n",
       "    }\n",
       "\n",
       "    .dataframe tbody tr th {\n",
       "        vertical-align: top;\n",
       "    }\n",
       "\n",
       "    .dataframe thead th {\n",
       "        text-align: right;\n",
       "    }\n",
       "</style>\n",
       "<table border=\"1\" class=\"dataframe\">\n",
       "  <thead>\n",
       "    <tr style=\"text-align: right;\">\n",
       "      <th></th>\n",
       "      <th>Integers</th>\n",
       "      <th>Floats</th>\n",
       "      <th>Strings</th>\n",
       "    </tr>\n",
       "  </thead>\n",
       "  <tbody>\n",
       "    <tr>\n",
       "      <th>DataType 1</th>\n",
       "      <td>1</td>\n",
       "      <td>3.4</td>\n",
       "      <td>A</td>\n",
       "    </tr>\n",
       "    <tr>\n",
       "      <th>DataType 2</th>\n",
       "      <td>2</td>\n",
       "      <td>0.1</td>\n",
       "      <td>B</td>\n",
       "    </tr>\n",
       "    <tr>\n",
       "      <th>Datatype 3</th>\n",
       "      <td>3</td>\n",
       "      <td>5.6</td>\n",
       "      <td>C</td>\n",
       "    </tr>\n",
       "  </tbody>\n",
       "</table>\n",
       "</div>"
      ],
      "text/plain": [
       "            Integers  Floats Strings\n",
       "DataType 1         1     3.4       A\n",
       "DataType 2         2     0.1       B\n",
       "Datatype 3         3     5.6       C"
      ]
     },
     "execution_count": 16,
     "metadata": {},
     "output_type": "execute_result"
    }
   ],
   "source": [
    "data = {\"Integers\" : [1, 2, 3],\n",
    "       \"Floats\" : [3.4, 0.1, 5.6],\n",
    "       \"Strings\" : [\"A\", \"B\", \"C\"]}\n",
    "\n",
    "df = pd.DataFrame(data, index = [\"DataType 1\", \"DataType 2\", \"Datatype 3\"])\n",
    "\n",
    "df"
   ]
  },
  {
   "cell_type": "markdown",
   "id": "8de6c4be",
   "metadata": {
    "papermill": {
     "duration": 0.030193,
     "end_time": "2023-02-02T06:00:42.971977",
     "exception": false,
     "start_time": "2023-02-02T06:00:42.941784",
     "status": "completed"
    },
    "tags": []
   },
   "source": [
    "### Creating a DataFrame using a list of dictionaries"
   ]
  },
  {
   "cell_type": "code",
   "execution_count": 17,
   "id": "505d3d66",
   "metadata": {
    "execution": {
     "iopub.execute_input": "2023-02-02T06:00:43.034854Z",
     "iopub.status.busy": "2023-02-02T06:00:43.034477Z",
     "iopub.status.idle": "2023-02-02T06:00:43.055812Z",
     "shell.execute_reply": "2023-02-02T06:00:43.054669Z"
    },
    "papermill": {
     "duration": 0.055529,
     "end_time": "2023-02-02T06:00:43.058127",
     "exception": false,
     "start_time": "2023-02-02T06:00:43.002598",
     "status": "completed"
    },
    "tags": []
   },
   "outputs": [
    {
     "data": {
      "text/html": [
       "<div>\n",
       "<style scoped>\n",
       "    .dataframe tbody tr th:only-of-type {\n",
       "        vertical-align: middle;\n",
       "    }\n",
       "\n",
       "    .dataframe tbody tr th {\n",
       "        vertical-align: top;\n",
       "    }\n",
       "\n",
       "    .dataframe thead th {\n",
       "        text-align: right;\n",
       "    }\n",
       "</style>\n",
       "<table border=\"1\" class=\"dataframe\">\n",
       "  <thead>\n",
       "    <tr style=\"text-align: right;\">\n",
       "      <th></th>\n",
       "      <th>socks</th>\n",
       "      <th>shoes</th>\n",
       "      <th>watches</th>\n",
       "      <th>bikes</th>\n",
       "      <th>cycles</th>\n",
       "      <th>cars</th>\n",
       "      <th>trains</th>\n",
       "    </tr>\n",
       "  </thead>\n",
       "  <tbody>\n",
       "    <tr>\n",
       "      <th>collection 1</th>\n",
       "      <td>10.0</td>\n",
       "      <td>5.0</td>\n",
       "      <td>12.0</td>\n",
       "      <td>NaN</td>\n",
       "      <td>NaN</td>\n",
       "      <td>NaN</td>\n",
       "      <td>NaN</td>\n",
       "    </tr>\n",
       "    <tr>\n",
       "      <th>collection 2</th>\n",
       "      <td>NaN</td>\n",
       "      <td>NaN</td>\n",
       "      <td>NaN</td>\n",
       "      <td>2.0</td>\n",
       "      <td>5.0</td>\n",
       "      <td>3.0</td>\n",
       "      <td>8.0</td>\n",
       "    </tr>\n",
       "  </tbody>\n",
       "</table>\n",
       "</div>"
      ],
      "text/plain": [
       "              socks  shoes  watches  bikes  cycles  cars  trains\n",
       "collection 1   10.0    5.0     12.0    NaN     NaN   NaN     NaN\n",
       "collection 2    NaN    NaN      NaN    2.0     5.0   3.0     8.0"
      ]
     },
     "execution_count": 17,
     "metadata": {},
     "output_type": "execute_result"
    }
   ],
   "source": [
    "items = [{'socks' : 10, 'shoes' : 5, 'watches' : 12},\n",
    "        {'bikes' : 2, 'cycles' : 5, 'cars' : 3, 'trains' : 8}]\n",
    "\n",
    "data = pd.DataFrame(items, index = [\"collection 1\", \"collection 2\"])\n",
    "data"
   ]
  },
  {
   "cell_type": "markdown",
   "id": "8c9fdeac",
   "metadata": {
    "papermill": {
     "duration": 0.030908,
     "end_time": "2023-02-02T06:00:43.121154",
     "exception": false,
     "start_time": "2023-02-02T06:00:43.090246",
     "status": "completed"
    },
    "tags": []
   },
   "source": [
    "## Attributes of a DataFrame\n",
    "\n",
    "Let's see some attributes of a DataFrame and print some information about fruits_data:"
   ]
  },
  {
   "cell_type": "code",
   "execution_count": 18,
   "id": "7841c285",
   "metadata": {
    "execution": {
     "iopub.execute_input": "2023-02-02T06:00:43.184856Z",
     "iopub.status.busy": "2023-02-02T06:00:43.184454Z",
     "iopub.status.idle": "2023-02-02T06:00:43.192070Z",
     "shell.execute_reply": "2023-02-02T06:00:43.190777Z"
    },
    "papermill": {
     "duration": 0.042432,
     "end_time": "2023-02-02T06:00:43.194337",
     "exception": false,
     "start_time": "2023-02-02T06:00:43.151905",
     "status": "completed"
    },
    "tags": []
   },
   "outputs": [
    {
     "name": "stdout",
     "output_type": "stream",
     "text": [
      "fruits_data.shape:  (5, 2)\n",
      "fruits_data.ndim:  2\n",
      "fruits_data.size:  10\n",
      "\n",
      "fruits_data.values:\n",
      " [[ 11  99]\n",
      " [ 22  77]\n",
      " [ 33  44]\n",
      " [101  45]\n",
      " [302 100]]\n",
      "\n",
      "fruits_data.index:  RangeIndex(start=0, stop=5, step=1)\n",
      "fruits_data.columns:  Index(['Apples', 'Mangoes'], dtype='object')\n"
     ]
    }
   ],
   "source": [
    "print(\"fruits_data.shape: \", fruits_data.shape)\n",
    "print(\"fruits_data.ndim: \", fruits_data.ndim)\n",
    "print(\"fruits_data.size: \", fruits_data.size)\n",
    "print()\n",
    "print(\"fruits_data.values:\\n\", fruits_data.values)\n",
    "print()\n",
    "print(\"fruits_data.index: \", fruits_data.index)\n",
    "print(\"fruits_data.columns: \", fruits_data.columns)"
   ]
  },
  {
   "cell_type": "markdown",
   "id": "6a5fa7e2",
   "metadata": {
    "papermill": {
     "duration": 0.031618,
     "end_time": "2023-02-02T06:00:43.258238",
     "exception": false,
     "start_time": "2023-02-02T06:00:43.226620",
     "status": "completed"
    },
    "tags": []
   },
   "source": [
    "<div class=\"alert alert-block alert-info\">\n",
    "We can also create a DataFrame of rows and columns of our own choice:\n",
    "</div>"
   ]
  },
  {
   "cell_type": "code",
   "execution_count": 19,
   "id": "28da5b5d",
   "metadata": {
    "execution": {
     "iopub.execute_input": "2023-02-02T06:00:43.322904Z",
     "iopub.status.busy": "2023-02-02T06:00:43.322457Z",
     "iopub.status.idle": "2023-02-02T06:00:43.338063Z",
     "shell.execute_reply": "2023-02-02T06:00:43.336853Z"
    },
    "papermill": {
     "duration": 0.050624,
     "end_time": "2023-02-02T06:00:43.340322",
     "exception": false,
     "start_time": "2023-02-02T06:00:43.289698",
     "status": "completed"
    },
    "tags": []
   },
   "outputs": [
    {
     "data": {
      "text/html": [
       "<div>\n",
       "<style scoped>\n",
       "    .dataframe tbody tr th:only-of-type {\n",
       "        vertical-align: middle;\n",
       "    }\n",
       "\n",
       "    .dataframe tbody tr th {\n",
       "        vertical-align: top;\n",
       "    }\n",
       "\n",
       "    .dataframe thead th {\n",
       "        text-align: right;\n",
       "    }\n",
       "</style>\n",
       "<table border=\"1\" class=\"dataframe\">\n",
       "  <thead>\n",
       "    <tr style=\"text-align: right;\">\n",
       "      <th></th>\n",
       "      <th>Bilal</th>\n",
       "    </tr>\n",
       "  </thead>\n",
       "  <tbody>\n",
       "    <tr>\n",
       "      <th>apples</th>\n",
       "      <td>7.0</td>\n",
       "    </tr>\n",
       "    <tr>\n",
       "      <th>bikes</th>\n",
       "      <td>NaN</td>\n",
       "    </tr>\n",
       "    <tr>\n",
       "      <th>books</th>\n",
       "      <td>87.0</td>\n",
       "    </tr>\n",
       "  </tbody>\n",
       "</table>\n",
       "</div>"
      ],
      "text/plain": [
       "        Bilal\n",
       "apples    7.0\n",
       "bikes     NaN\n",
       "books    87.0"
      ]
     },
     "execution_count": 19,
     "metadata": {},
     "output_type": "execute_result"
    }
   ],
   "source": [
    "items = {\n",
    "    \"Ali\" : pd.Series(data = [101, 34, 78], index = ['cars', 'bikes', 'pants']),\n",
    "    \"Bilal\" : pd.Series(data = [87, 11, 7, 55], index = ['books', 'pencils', 'apples', 'peanuts'])\n",
    "}\n",
    "\n",
    "df = pd.DataFrame(items, columns = [\"Bilal\"], index = ['apples', 'bikes', 'books'])\n",
    "df"
   ]
  },
  {
   "cell_type": "markdown",
   "id": "0c77666b",
   "metadata": {
    "papermill": {
     "duration": 0.031919,
     "end_time": "2023-02-02T06:00:43.403389",
     "exception": false,
     "start_time": "2023-02-02T06:00:43.371470",
     "status": "completed"
    },
    "tags": []
   },
   "source": [
    "## Accessing and Adding elements in DataFrame\n",
    "\n",
    "<div class=\"alert alert-block alert-info\">\n",
    "Like Pandas Series, we can also access elements in a DataFrame by using index labels and column names. <b>loc[ ]</b> and <b>iloc[ ]</b> are also used for accessing elements\n",
    "</div>\n",
    "\n",
    "Let's have some examples:"
   ]
  },
  {
   "cell_type": "code",
   "execution_count": 20,
   "id": "ada77634",
   "metadata": {
    "execution": {
     "iopub.execute_input": "2023-02-02T06:00:43.468157Z",
     "iopub.status.busy": "2023-02-02T06:00:43.467648Z",
     "iopub.status.idle": "2023-02-02T06:00:43.485522Z",
     "shell.execute_reply": "2023-02-02T06:00:43.484117Z"
    },
    "papermill": {
     "duration": 0.053295,
     "end_time": "2023-02-02T06:00:43.488536",
     "exception": false,
     "start_time": "2023-02-02T06:00:43.435241",
     "status": "completed"
    },
    "tags": []
   },
   "outputs": [
    {
     "data": {
      "text/html": [
       "<div>\n",
       "<style scoped>\n",
       "    .dataframe tbody tr th:only-of-type {\n",
       "        vertical-align: middle;\n",
       "    }\n",
       "\n",
       "    .dataframe tbody tr th {\n",
       "        vertical-align: top;\n",
       "    }\n",
       "\n",
       "    .dataframe thead th {\n",
       "        text-align: right;\n",
       "    }\n",
       "</style>\n",
       "<table border=\"1\" class=\"dataframe\">\n",
       "  <thead>\n",
       "    <tr style=\"text-align: right;\">\n",
       "      <th></th>\n",
       "      <th>socks</th>\n",
       "      <th>shoes</th>\n",
       "      <th>watches</th>\n",
       "      <th>bikes</th>\n",
       "      <th>cycles</th>\n",
       "      <th>cars</th>\n",
       "      <th>trains</th>\n",
       "    </tr>\n",
       "  </thead>\n",
       "  <tbody>\n",
       "    <tr>\n",
       "      <th>collection 1</th>\n",
       "      <td>10.0</td>\n",
       "      <td>5.0</td>\n",
       "      <td>12.0</td>\n",
       "      <td>NaN</td>\n",
       "      <td>NaN</td>\n",
       "      <td>NaN</td>\n",
       "      <td>NaN</td>\n",
       "    </tr>\n",
       "    <tr>\n",
       "      <th>collection 2</th>\n",
       "      <td>NaN</td>\n",
       "      <td>NaN</td>\n",
       "      <td>NaN</td>\n",
       "      <td>2.0</td>\n",
       "      <td>5.0</td>\n",
       "      <td>3.0</td>\n",
       "      <td>8.0</td>\n",
       "    </tr>\n",
       "  </tbody>\n",
       "</table>\n",
       "</div>"
      ],
      "text/plain": [
       "              socks  shoes  watches  bikes  cycles  cars  trains\n",
       "collection 1   10.0    5.0     12.0    NaN     NaN   NaN     NaN\n",
       "collection 2    NaN    NaN      NaN    2.0     5.0   3.0     8.0"
      ]
     },
     "execution_count": 20,
     "metadata": {},
     "output_type": "execute_result"
    }
   ],
   "source": [
    "items = [{'socks' : 10, 'shoes' : 5, 'watches' : 12},\n",
    "        {'bikes' : 2, 'cycles' : 5, 'cars' : 3, 'trains' : 8}]\n",
    "\n",
    "data = pd.DataFrame(items, index = [\"collection 1\", \"collection 2\"])\n",
    "data"
   ]
  },
  {
   "cell_type": "code",
   "execution_count": 21,
   "id": "4c9c27ee",
   "metadata": {
    "execution": {
     "iopub.execute_input": "2023-02-02T06:00:43.554603Z",
     "iopub.status.busy": "2023-02-02T06:00:43.554174Z",
     "iopub.status.idle": "2023-02-02T06:00:43.567966Z",
     "shell.execute_reply": "2023-02-02T06:00:43.566668Z"
    },
    "papermill": {
     "duration": 0.049453,
     "end_time": "2023-02-02T06:00:43.570565",
     "exception": false,
     "start_time": "2023-02-02T06:00:43.521112",
     "status": "completed"
    },
    "tags": []
   },
   "outputs": [
    {
     "data": {
      "text/html": [
       "<div>\n",
       "<style scoped>\n",
       "    .dataframe tbody tr th:only-of-type {\n",
       "        vertical-align: middle;\n",
       "    }\n",
       "\n",
       "    .dataframe tbody tr th {\n",
       "        vertical-align: top;\n",
       "    }\n",
       "\n",
       "    .dataframe thead th {\n",
       "        text-align: right;\n",
       "    }\n",
       "</style>\n",
       "<table border=\"1\" class=\"dataframe\">\n",
       "  <thead>\n",
       "    <tr style=\"text-align: right;\">\n",
       "      <th></th>\n",
       "      <th>bikes</th>\n",
       "    </tr>\n",
       "  </thead>\n",
       "  <tbody>\n",
       "    <tr>\n",
       "      <th>collection 1</th>\n",
       "      <td>NaN</td>\n",
       "    </tr>\n",
       "    <tr>\n",
       "      <th>collection 2</th>\n",
       "      <td>2.0</td>\n",
       "    </tr>\n",
       "  </tbody>\n",
       "</table>\n",
       "</div>"
      ],
      "text/plain": [
       "              bikes\n",
       "collection 1    NaN\n",
       "collection 2    2.0"
      ]
     },
     "execution_count": 21,
     "metadata": {},
     "output_type": "execute_result"
    }
   ],
   "source": [
    "data[['bikes']]"
   ]
  },
  {
   "cell_type": "code",
   "execution_count": 22,
   "id": "9f237a17",
   "metadata": {
    "execution": {
     "iopub.execute_input": "2023-02-02T06:00:43.636172Z",
     "iopub.status.busy": "2023-02-02T06:00:43.635725Z",
     "iopub.status.idle": "2023-02-02T06:00:43.648541Z",
     "shell.execute_reply": "2023-02-02T06:00:43.647394Z"
    },
    "papermill": {
     "duration": 0.047689,
     "end_time": "2023-02-02T06:00:43.650668",
     "exception": false,
     "start_time": "2023-02-02T06:00:43.602979",
     "status": "completed"
    },
    "tags": []
   },
   "outputs": [
    {
     "data": {
      "text/html": [
       "<div>\n",
       "<style scoped>\n",
       "    .dataframe tbody tr th:only-of-type {\n",
       "        vertical-align: middle;\n",
       "    }\n",
       "\n",
       "    .dataframe tbody tr th {\n",
       "        vertical-align: top;\n",
       "    }\n",
       "\n",
       "    .dataframe thead th {\n",
       "        text-align: right;\n",
       "    }\n",
       "</style>\n",
       "<table border=\"1\" class=\"dataframe\">\n",
       "  <thead>\n",
       "    <tr style=\"text-align: right;\">\n",
       "      <th></th>\n",
       "      <th>bikes</th>\n",
       "      <th>socks</th>\n",
       "      <th>cycles</th>\n",
       "    </tr>\n",
       "  </thead>\n",
       "  <tbody>\n",
       "    <tr>\n",
       "      <th>collection 1</th>\n",
       "      <td>NaN</td>\n",
       "      <td>10.0</td>\n",
       "      <td>NaN</td>\n",
       "    </tr>\n",
       "    <tr>\n",
       "      <th>collection 2</th>\n",
       "      <td>2.0</td>\n",
       "      <td>NaN</td>\n",
       "      <td>5.0</td>\n",
       "    </tr>\n",
       "  </tbody>\n",
       "</table>\n",
       "</div>"
      ],
      "text/plain": [
       "              bikes  socks  cycles\n",
       "collection 1    NaN   10.0     NaN\n",
       "collection 2    2.0    NaN     5.0"
      ]
     },
     "execution_count": 22,
     "metadata": {},
     "output_type": "execute_result"
    }
   ],
   "source": [
    "data[['bikes', 'socks', 'cycles']]"
   ]
  },
  {
   "cell_type": "code",
   "execution_count": 23,
   "id": "f2f0e497",
   "metadata": {
    "execution": {
     "iopub.execute_input": "2023-02-02T06:00:43.715776Z",
     "iopub.status.busy": "2023-02-02T06:00:43.715125Z",
     "iopub.status.idle": "2023-02-02T06:00:43.729163Z",
     "shell.execute_reply": "2023-02-02T06:00:43.728000Z"
    },
    "papermill": {
     "duration": 0.049287,
     "end_time": "2023-02-02T06:00:43.731471",
     "exception": false,
     "start_time": "2023-02-02T06:00:43.682184",
     "status": "completed"
    },
    "tags": []
   },
   "outputs": [
    {
     "data": {
      "text/html": [
       "<div>\n",
       "<style scoped>\n",
       "    .dataframe tbody tr th:only-of-type {\n",
       "        vertical-align: middle;\n",
       "    }\n",
       "\n",
       "    .dataframe tbody tr th {\n",
       "        vertical-align: top;\n",
       "    }\n",
       "\n",
       "    .dataframe thead th {\n",
       "        text-align: right;\n",
       "    }\n",
       "</style>\n",
       "<table border=\"1\" class=\"dataframe\">\n",
       "  <thead>\n",
       "    <tr style=\"text-align: right;\">\n",
       "      <th></th>\n",
       "      <th>socks</th>\n",
       "      <th>shoes</th>\n",
       "      <th>watches</th>\n",
       "      <th>bikes</th>\n",
       "      <th>cycles</th>\n",
       "      <th>cars</th>\n",
       "      <th>trains</th>\n",
       "    </tr>\n",
       "  </thead>\n",
       "  <tbody>\n",
       "    <tr>\n",
       "      <th>collection 1</th>\n",
       "      <td>10.0</td>\n",
       "      <td>5.0</td>\n",
       "      <td>12.0</td>\n",
       "      <td>NaN</td>\n",
       "      <td>NaN</td>\n",
       "      <td>NaN</td>\n",
       "      <td>NaN</td>\n",
       "    </tr>\n",
       "  </tbody>\n",
       "</table>\n",
       "</div>"
      ],
      "text/plain": [
       "              socks  shoes  watches  bikes  cycles  cars  trains\n",
       "collection 1   10.0    5.0     12.0    NaN     NaN   NaN     NaN"
      ]
     },
     "execution_count": 23,
     "metadata": {},
     "output_type": "execute_result"
    }
   ],
   "source": [
    "data.loc[['collection 1']]"
   ]
  },
  {
   "cell_type": "markdown",
   "id": "ecf0d857",
   "metadata": {
    "papermill": {
     "duration": 0.031635,
     "end_time": "2023-02-02T06:00:43.794617",
     "exception": false,
     "start_time": "2023-02-02T06:00:43.762982",
     "status": "completed"
    },
    "tags": []
   },
   "source": [
    "<div class=\"alert alert-block alert-warning\">\n",
    "If we want to access individual elements in a DataFrame, the labels should always be provided with the column label first.\n",
    "</div>"
   ]
  },
  {
   "cell_type": "code",
   "execution_count": 24,
   "id": "999ca55b",
   "metadata": {
    "execution": {
     "iopub.execute_input": "2023-02-02T06:00:43.860869Z",
     "iopub.status.busy": "2023-02-02T06:00:43.860106Z",
     "iopub.status.idle": "2023-02-02T06:00:43.867303Z",
     "shell.execute_reply": "2023-02-02T06:00:43.866347Z"
    },
    "papermill": {
     "duration": 0.042518,
     "end_time": "2023-02-02T06:00:43.869533",
     "exception": false,
     "start_time": "2023-02-02T06:00:43.827015",
     "status": "completed"
    },
    "tags": []
   },
   "outputs": [
    {
     "data": {
      "text/plain": [
       "3.0"
      ]
     },
     "execution_count": 24,
     "metadata": {},
     "output_type": "execute_result"
    }
   ],
   "source": [
    "data['cars']['collection 2']"
   ]
  },
  {
   "cell_type": "markdown",
   "id": "55cc6af5",
   "metadata": {
    "papermill": {
     "duration": 0.03164,
     "end_time": "2023-02-02T06:00:43.933220",
     "exception": false,
     "start_time": "2023-02-02T06:00:43.901580",
     "status": "completed"
    },
    "tags": []
   },
   "source": [
    "## Adding a column to an existing DataFrame"
   ]
  },
  {
   "cell_type": "code",
   "execution_count": 25,
   "id": "135670b4",
   "metadata": {
    "execution": {
     "iopub.execute_input": "2023-02-02T06:00:43.998948Z",
     "iopub.status.busy": "2023-02-02T06:00:43.998150Z",
     "iopub.status.idle": "2023-02-02T06:00:44.015295Z",
     "shell.execute_reply": "2023-02-02T06:00:44.014009Z"
    },
    "papermill": {
     "duration": 0.052899,
     "end_time": "2023-02-02T06:00:44.017773",
     "exception": false,
     "start_time": "2023-02-02T06:00:43.964874",
     "status": "completed"
    },
    "tags": []
   },
   "outputs": [
    {
     "data": {
      "text/html": [
       "<div>\n",
       "<style scoped>\n",
       "    .dataframe tbody tr th:only-of-type {\n",
       "        vertical-align: middle;\n",
       "    }\n",
       "\n",
       "    .dataframe tbody tr th {\n",
       "        vertical-align: top;\n",
       "    }\n",
       "\n",
       "    .dataframe thead th {\n",
       "        text-align: right;\n",
       "    }\n",
       "</style>\n",
       "<table border=\"1\" class=\"dataframe\">\n",
       "  <thead>\n",
       "    <tr style=\"text-align: right;\">\n",
       "      <th></th>\n",
       "      <th>socks</th>\n",
       "      <th>shoes</th>\n",
       "      <th>watches</th>\n",
       "      <th>bikes</th>\n",
       "      <th>cycles</th>\n",
       "      <th>cars</th>\n",
       "      <th>trains</th>\n",
       "      <th>jets</th>\n",
       "    </tr>\n",
       "  </thead>\n",
       "  <tbody>\n",
       "    <tr>\n",
       "      <th>collection 1</th>\n",
       "      <td>10.0</td>\n",
       "      <td>5.0</td>\n",
       "      <td>12.0</td>\n",
       "      <td>NaN</td>\n",
       "      <td>NaN</td>\n",
       "      <td>NaN</td>\n",
       "      <td>NaN</td>\n",
       "      <td>9</td>\n",
       "    </tr>\n",
       "    <tr>\n",
       "      <th>collection 2</th>\n",
       "      <td>NaN</td>\n",
       "      <td>NaN</td>\n",
       "      <td>NaN</td>\n",
       "      <td>2.0</td>\n",
       "      <td>5.0</td>\n",
       "      <td>3.0</td>\n",
       "      <td>8.0</td>\n",
       "      <td>4</td>\n",
       "    </tr>\n",
       "  </tbody>\n",
       "</table>\n",
       "</div>"
      ],
      "text/plain": [
       "              socks  shoes  watches  bikes  cycles  cars  trains  jets\n",
       "collection 1   10.0    5.0     12.0    NaN     NaN   NaN     NaN     9\n",
       "collection 2    NaN    NaN      NaN    2.0     5.0   3.0     8.0     4"
      ]
     },
     "execution_count": 25,
     "metadata": {},
     "output_type": "execute_result"
    }
   ],
   "source": [
    "data['jets'] = [9, 4] \n",
    "\n",
    "data"
   ]
  },
  {
   "cell_type": "markdown",
   "id": "89aefe98",
   "metadata": {
    "papermill": {
     "duration": 0.031307,
     "end_time": "2023-02-02T06:00:44.080902",
     "exception": false,
     "start_time": "2023-02-02T06:00:44.049595",
     "status": "completed"
    },
    "tags": []
   },
   "source": [
    "### Add a new column based on the arithmetic operation between existing columns of a DataFrame\n",
    "\n",
    "<div class=\"alert alert-block alert-info\">\n",
    "We can also add new columns to our DataFrame by using arithmetic operations between other columns in our DataFrame. \n",
    "</div>\n",
    "\n",
    "Let's see an example:"
   ]
  },
  {
   "cell_type": "code",
   "execution_count": 26,
   "id": "36823be2",
   "metadata": {
    "execution": {
     "iopub.execute_input": "2023-02-02T06:00:44.147096Z",
     "iopub.status.busy": "2023-02-02T06:00:44.146352Z",
     "iopub.status.idle": "2023-02-02T06:00:44.162715Z",
     "shell.execute_reply": "2023-02-02T06:00:44.161588Z"
    },
    "papermill": {
     "duration": 0.052437,
     "end_time": "2023-02-02T06:00:44.165158",
     "exception": false,
     "start_time": "2023-02-02T06:00:44.112721",
     "status": "completed"
    },
    "scrolled": true,
    "tags": []
   },
   "outputs": [
    {
     "data": {
      "text/html": [
       "<div>\n",
       "<style scoped>\n",
       "    .dataframe tbody tr th:only-of-type {\n",
       "        vertical-align: middle;\n",
       "    }\n",
       "\n",
       "    .dataframe tbody tr th {\n",
       "        vertical-align: top;\n",
       "    }\n",
       "\n",
       "    .dataframe thead th {\n",
       "        text-align: right;\n",
       "    }\n",
       "</style>\n",
       "<table border=\"1\" class=\"dataframe\">\n",
       "  <thead>\n",
       "    <tr style=\"text-align: right;\">\n",
       "      <th></th>\n",
       "      <th>socks</th>\n",
       "      <th>shoes</th>\n",
       "      <th>watches</th>\n",
       "      <th>bikes</th>\n",
       "      <th>cycles</th>\n",
       "      <th>cars</th>\n",
       "      <th>trains</th>\n",
       "      <th>jets</th>\n",
       "      <th>foot wear</th>\n",
       "    </tr>\n",
       "  </thead>\n",
       "  <tbody>\n",
       "    <tr>\n",
       "      <th>collection 1</th>\n",
       "      <td>10.0</td>\n",
       "      <td>5.0</td>\n",
       "      <td>12.0</td>\n",
       "      <td>NaN</td>\n",
       "      <td>NaN</td>\n",
       "      <td>NaN</td>\n",
       "      <td>NaN</td>\n",
       "      <td>9</td>\n",
       "      <td>15.0</td>\n",
       "    </tr>\n",
       "    <tr>\n",
       "      <th>collection 2</th>\n",
       "      <td>NaN</td>\n",
       "      <td>NaN</td>\n",
       "      <td>NaN</td>\n",
       "      <td>2.0</td>\n",
       "      <td>5.0</td>\n",
       "      <td>3.0</td>\n",
       "      <td>8.0</td>\n",
       "      <td>4</td>\n",
       "      <td>NaN</td>\n",
       "    </tr>\n",
       "  </tbody>\n",
       "</table>\n",
       "</div>"
      ],
      "text/plain": [
       "              socks  shoes  watches  bikes  cycles  cars  trains  jets  \\\n",
       "collection 1   10.0    5.0     12.0    NaN     NaN   NaN     NaN     9   \n",
       "collection 2    NaN    NaN      NaN    2.0     5.0   3.0     8.0     4   \n",
       "\n",
       "              foot wear  \n",
       "collection 1       15.0  \n",
       "collection 2        NaN  "
      ]
     },
     "execution_count": 26,
     "metadata": {},
     "output_type": "execute_result"
    }
   ],
   "source": [
    "data[\"foot wear\"] = data[\"socks\"] + data[\"shoes\"]\n",
    "data"
   ]
  },
  {
   "cell_type": "markdown",
   "id": "52f25e9c",
   "metadata": {
    "papermill": {
     "duration": 0.032679,
     "end_time": "2023-02-02T06:00:44.230182",
     "exception": false,
     "start_time": "2023-02-02T06:00:44.197503",
     "status": "completed"
    },
    "tags": []
   },
   "source": [
    "### Adding new column at a specific location\n",
    "\n",
    "<div class=\"alert alert-block alert-info\">\n",
    "We can also add a new column anywhere we want by using <b>DataFrame.insert(loc, label, data)</b> method.\n",
    "</div>\n",
    "\n",
    "For example:"
   ]
  },
  {
   "cell_type": "code",
   "execution_count": 27,
   "id": "da0d4001",
   "metadata": {
    "execution": {
     "iopub.execute_input": "2023-02-02T06:00:44.300650Z",
     "iopub.status.busy": "2023-02-02T06:00:44.299797Z",
     "iopub.status.idle": "2023-02-02T06:00:44.317866Z",
     "shell.execute_reply": "2023-02-02T06:00:44.316688Z"
    },
    "papermill": {
     "duration": 0.055423,
     "end_time": "2023-02-02T06:00:44.320630",
     "exception": false,
     "start_time": "2023-02-02T06:00:44.265207",
     "status": "completed"
    },
    "tags": []
   },
   "outputs": [
    {
     "data": {
      "text/html": [
       "<div>\n",
       "<style scoped>\n",
       "    .dataframe tbody tr th:only-of-type {\n",
       "        vertical-align: middle;\n",
       "    }\n",
       "\n",
       "    .dataframe tbody tr th {\n",
       "        vertical-align: top;\n",
       "    }\n",
       "\n",
       "    .dataframe thead th {\n",
       "        text-align: right;\n",
       "    }\n",
       "</style>\n",
       "<table border=\"1\" class=\"dataframe\">\n",
       "  <thead>\n",
       "    <tr style=\"text-align: right;\">\n",
       "      <th></th>\n",
       "      <th>socks</th>\n",
       "      <th>shoes</th>\n",
       "      <th>drinks</th>\n",
       "      <th>watches</th>\n",
       "      <th>bikes</th>\n",
       "      <th>cycles</th>\n",
       "      <th>cars</th>\n",
       "      <th>trains</th>\n",
       "      <th>jets</th>\n",
       "      <th>foot wear</th>\n",
       "    </tr>\n",
       "  </thead>\n",
       "  <tbody>\n",
       "    <tr>\n",
       "      <th>collection 1</th>\n",
       "      <td>10.0</td>\n",
       "      <td>5.0</td>\n",
       "      <td>3</td>\n",
       "      <td>12.0</td>\n",
       "      <td>NaN</td>\n",
       "      <td>NaN</td>\n",
       "      <td>NaN</td>\n",
       "      <td>NaN</td>\n",
       "      <td>9</td>\n",
       "      <td>15.0</td>\n",
       "    </tr>\n",
       "    <tr>\n",
       "      <th>collection 2</th>\n",
       "      <td>NaN</td>\n",
       "      <td>NaN</td>\n",
       "      <td>4</td>\n",
       "      <td>NaN</td>\n",
       "      <td>2.0</td>\n",
       "      <td>5.0</td>\n",
       "      <td>3.0</td>\n",
       "      <td>8.0</td>\n",
       "      <td>4</td>\n",
       "      <td>NaN</td>\n",
       "    </tr>\n",
       "  </tbody>\n",
       "</table>\n",
       "</div>"
      ],
      "text/plain": [
       "              socks  shoes  drinks  watches  bikes  cycles  cars  trains  \\\n",
       "collection 1   10.0    5.0       3     12.0    NaN     NaN   NaN     NaN   \n",
       "collection 2    NaN    NaN       4      NaN    2.0     5.0   3.0     8.0   \n",
       "\n",
       "              jets  foot wear  \n",
       "collection 1     9       15.0  \n",
       "collection 2     4        NaN  "
      ]
     },
     "execution_count": 27,
     "metadata": {},
     "output_type": "execute_result"
    }
   ],
   "source": [
    "data.insert(2, 'drinks', [3, 4])\n",
    "data"
   ]
  },
  {
   "cell_type": "markdown",
   "id": "a3b838b3",
   "metadata": {
    "papermill": {
     "duration": 0.032036,
     "end_time": "2023-02-02T06:00:44.385124",
     "exception": false,
     "start_time": "2023-02-02T06:00:44.353088",
     "status": "completed"
    },
    "tags": []
   },
   "source": [
    "## Deleting column from a DataFrame\n",
    "\n",
    "<div class=\"alert alert-block alert-danger\">\n",
    "    We can delete columns with <b>DataFrame.pop()</b> and <b>DataFrame.drop()</b> method.\n",
    "</div>\n",
    "\n",
    "For example:"
   ]
  },
  {
   "cell_type": "code",
   "execution_count": 28,
   "id": "d1042085",
   "metadata": {
    "execution": {
     "iopub.execute_input": "2023-02-02T06:00:44.453129Z",
     "iopub.status.busy": "2023-02-02T06:00:44.452406Z",
     "iopub.status.idle": "2023-02-02T06:00:44.468073Z",
     "shell.execute_reply": "2023-02-02T06:00:44.466794Z"
    },
    "papermill": {
     "duration": 0.052672,
     "end_time": "2023-02-02T06:00:44.470541",
     "exception": false,
     "start_time": "2023-02-02T06:00:44.417869",
     "status": "completed"
    },
    "tags": []
   },
   "outputs": [
    {
     "data": {
      "text/html": [
       "<div>\n",
       "<style scoped>\n",
       "    .dataframe tbody tr th:only-of-type {\n",
       "        vertical-align: middle;\n",
       "    }\n",
       "\n",
       "    .dataframe tbody tr th {\n",
       "        vertical-align: top;\n",
       "    }\n",
       "\n",
       "    .dataframe thead th {\n",
       "        text-align: right;\n",
       "    }\n",
       "</style>\n",
       "<table border=\"1\" class=\"dataframe\">\n",
       "  <thead>\n",
       "    <tr style=\"text-align: right;\">\n",
       "      <th></th>\n",
       "      <th>socks</th>\n",
       "      <th>shoes</th>\n",
       "      <th>drinks</th>\n",
       "      <th>watches</th>\n",
       "      <th>bikes</th>\n",
       "      <th>cycles</th>\n",
       "      <th>trains</th>\n",
       "      <th>jets</th>\n",
       "      <th>foot wear</th>\n",
       "    </tr>\n",
       "  </thead>\n",
       "  <tbody>\n",
       "    <tr>\n",
       "      <th>collection 1</th>\n",
       "      <td>10.0</td>\n",
       "      <td>5.0</td>\n",
       "      <td>3</td>\n",
       "      <td>12.0</td>\n",
       "      <td>NaN</td>\n",
       "      <td>NaN</td>\n",
       "      <td>NaN</td>\n",
       "      <td>9</td>\n",
       "      <td>15.0</td>\n",
       "    </tr>\n",
       "    <tr>\n",
       "      <th>collection 2</th>\n",
       "      <td>NaN</td>\n",
       "      <td>NaN</td>\n",
       "      <td>4</td>\n",
       "      <td>NaN</td>\n",
       "      <td>2.0</td>\n",
       "      <td>5.0</td>\n",
       "      <td>8.0</td>\n",
       "      <td>4</td>\n",
       "      <td>NaN</td>\n",
       "    </tr>\n",
       "  </tbody>\n",
       "</table>\n",
       "</div>"
      ],
      "text/plain": [
       "              socks  shoes  drinks  watches  bikes  cycles  trains  jets  \\\n",
       "collection 1   10.0    5.0       3     12.0    NaN     NaN     NaN     9   \n",
       "collection 2    NaN    NaN       4      NaN    2.0     5.0     8.0     4   \n",
       "\n",
       "              foot wear  \n",
       "collection 1       15.0  \n",
       "collection 2        NaN  "
      ]
     },
     "execution_count": 28,
     "metadata": {},
     "output_type": "execute_result"
    }
   ],
   "source": [
    "data.pop(\"cars\")\n",
    "data"
   ]
  },
  {
   "cell_type": "markdown",
   "id": "f3af4f2f",
   "metadata": {
    "papermill": {
     "duration": 0.032789,
     "end_time": "2023-02-02T06:00:44.536550",
     "exception": false,
     "start_time": "2023-02-02T06:00:44.503761",
     "status": "completed"
    },
    "tags": []
   },
   "source": [
    "### Deleting multiple columns from a DataFrame\n",
    "\n",
    "<div class=\"alert alert-block alert-danger\">\n",
    "    With <b>DataFrame.drop()</b> method, we can delete multiple columns from a DataFrame. Here we will specify <i>aixs = 1</i> in order to delete columns.\n",
    "</div>"
   ]
  },
  {
   "cell_type": "code",
   "execution_count": 29,
   "id": "ab6aa9b7",
   "metadata": {
    "execution": {
     "iopub.execute_input": "2023-02-02T06:00:44.605109Z",
     "iopub.status.busy": "2023-02-02T06:00:44.604446Z",
     "iopub.status.idle": "2023-02-02T06:00:44.619528Z",
     "shell.execute_reply": "2023-02-02T06:00:44.618279Z"
    },
    "papermill": {
     "duration": 0.052572,
     "end_time": "2023-02-02T06:00:44.621727",
     "exception": false,
     "start_time": "2023-02-02T06:00:44.569155",
     "status": "completed"
    },
    "tags": []
   },
   "outputs": [
    {
     "data": {
      "text/html": [
       "<div>\n",
       "<style scoped>\n",
       "    .dataframe tbody tr th:only-of-type {\n",
       "        vertical-align: middle;\n",
       "    }\n",
       "\n",
       "    .dataframe tbody tr th {\n",
       "        vertical-align: top;\n",
       "    }\n",
       "\n",
       "    .dataframe thead th {\n",
       "        text-align: right;\n",
       "    }\n",
       "</style>\n",
       "<table border=\"1\" class=\"dataframe\">\n",
       "  <thead>\n",
       "    <tr style=\"text-align: right;\">\n",
       "      <th></th>\n",
       "      <th>shoes</th>\n",
       "      <th>drinks</th>\n",
       "      <th>watches</th>\n",
       "      <th>cycles</th>\n",
       "      <th>trains</th>\n",
       "      <th>jets</th>\n",
       "      <th>foot wear</th>\n",
       "    </tr>\n",
       "  </thead>\n",
       "  <tbody>\n",
       "    <tr>\n",
       "      <th>collection 1</th>\n",
       "      <td>5.0</td>\n",
       "      <td>3</td>\n",
       "      <td>12.0</td>\n",
       "      <td>NaN</td>\n",
       "      <td>NaN</td>\n",
       "      <td>9</td>\n",
       "      <td>15.0</td>\n",
       "    </tr>\n",
       "    <tr>\n",
       "      <th>collection 2</th>\n",
       "      <td>NaN</td>\n",
       "      <td>4</td>\n",
       "      <td>NaN</td>\n",
       "      <td>5.0</td>\n",
       "      <td>8.0</td>\n",
       "      <td>4</td>\n",
       "      <td>NaN</td>\n",
       "    </tr>\n",
       "  </tbody>\n",
       "</table>\n",
       "</div>"
      ],
      "text/plain": [
       "              shoes  drinks  watches  cycles  trains  jets  foot wear\n",
       "collection 1    5.0       3     12.0     NaN     NaN     9       15.0\n",
       "collection 2    NaN       4      NaN     5.0     8.0     4        NaN"
      ]
     },
     "execution_count": 29,
     "metadata": {},
     "output_type": "execute_result"
    }
   ],
   "source": [
    "data = data.drop(['socks', 'bikes'], axis = 1)\n",
    "data"
   ]
  },
  {
   "cell_type": "markdown",
   "id": "5906d204",
   "metadata": {
    "papermill": {
     "duration": 0.032134,
     "end_time": "2023-02-02T06:00:44.686432",
     "exception": false,
     "start_time": "2023-02-02T06:00:44.654298",
     "status": "completed"
    },
    "tags": []
   },
   "source": [
    "### Deleting rows from a DataFrame\n",
    "\n",
    "<div class=\"alert alert-block alert-danger\">\n",
    "    We can also delete rows from a DataFrame with the help of <b>DataFrame.drop()</b>. Here we will specify <i>aixs = 0</i> in order to delete rows.\n",
    "</div>"
   ]
  },
  {
   "cell_type": "code",
   "execution_count": 30,
   "id": "5eb98fe9",
   "metadata": {
    "execution": {
     "iopub.execute_input": "2023-02-02T06:00:44.753975Z",
     "iopub.status.busy": "2023-02-02T06:00:44.753317Z",
     "iopub.status.idle": "2023-02-02T06:00:44.767281Z",
     "shell.execute_reply": "2023-02-02T06:00:44.765890Z"
    },
    "papermill": {
     "duration": 0.050773,
     "end_time": "2023-02-02T06:00:44.769834",
     "exception": false,
     "start_time": "2023-02-02T06:00:44.719061",
     "status": "completed"
    },
    "tags": []
   },
   "outputs": [
    {
     "data": {
      "text/html": [
       "<div>\n",
       "<style scoped>\n",
       "    .dataframe tbody tr th:only-of-type {\n",
       "        vertical-align: middle;\n",
       "    }\n",
       "\n",
       "    .dataframe tbody tr th {\n",
       "        vertical-align: top;\n",
       "    }\n",
       "\n",
       "    .dataframe thead th {\n",
       "        text-align: right;\n",
       "    }\n",
       "</style>\n",
       "<table border=\"1\" class=\"dataframe\">\n",
       "  <thead>\n",
       "    <tr style=\"text-align: right;\">\n",
       "      <th></th>\n",
       "      <th>shoes</th>\n",
       "      <th>drinks</th>\n",
       "      <th>watches</th>\n",
       "      <th>cycles</th>\n",
       "      <th>trains</th>\n",
       "      <th>jets</th>\n",
       "      <th>foot wear</th>\n",
       "    </tr>\n",
       "  </thead>\n",
       "  <tbody>\n",
       "    <tr>\n",
       "      <th>collection 1</th>\n",
       "      <td>5.0</td>\n",
       "      <td>3</td>\n",
       "      <td>12.0</td>\n",
       "      <td>NaN</td>\n",
       "      <td>NaN</td>\n",
       "      <td>9</td>\n",
       "      <td>15.0</td>\n",
       "    </tr>\n",
       "  </tbody>\n",
       "</table>\n",
       "</div>"
      ],
      "text/plain": [
       "              shoes  drinks  watches  cycles  trains  jets  foot wear\n",
       "collection 1    5.0       3     12.0     NaN     NaN     9       15.0"
      ]
     },
     "execution_count": 30,
     "metadata": {},
     "output_type": "execute_result"
    }
   ],
   "source": [
    "data = data.drop([\"collection 2\"], axis = 0)\n",
    "data"
   ]
  },
  {
   "cell_type": "markdown",
   "id": "af1303e9",
   "metadata": {
    "papermill": {
     "duration": 0.032234,
     "end_time": "2023-02-02T06:00:44.834796",
     "exception": false,
     "start_time": "2023-02-02T06:00:44.802562",
     "status": "completed"
    },
    "tags": []
   },
   "source": [
    "### Renaming the column name in a DataFrame\n",
    "\n",
    "<div class=\"alert alert-block alert-info\">\n",
    "    We can change the name of columns with <b>rename()</b> method by giving <i>columns</i> argument in <b>rename()</b> method.\n",
    "</div>"
   ]
  },
  {
   "cell_type": "code",
   "execution_count": 31,
   "id": "5d9bb623",
   "metadata": {
    "execution": {
     "iopub.execute_input": "2023-02-02T06:00:44.901985Z",
     "iopub.status.busy": "2023-02-02T06:00:44.901561Z",
     "iopub.status.idle": "2023-02-02T06:00:44.915064Z",
     "shell.execute_reply": "2023-02-02T06:00:44.913937Z"
    },
    "papermill": {
     "duration": 0.050297,
     "end_time": "2023-02-02T06:00:44.917681",
     "exception": false,
     "start_time": "2023-02-02T06:00:44.867384",
     "status": "completed"
    },
    "tags": []
   },
   "outputs": [
    {
     "data": {
      "text/html": [
       "<div>\n",
       "<style scoped>\n",
       "    .dataframe tbody tr th:only-of-type {\n",
       "        vertical-align: middle;\n",
       "    }\n",
       "\n",
       "    .dataframe tbody tr th {\n",
       "        vertical-align: top;\n",
       "    }\n",
       "\n",
       "    .dataframe thead th {\n",
       "        text-align: right;\n",
       "    }\n",
       "</style>\n",
       "<table border=\"1\" class=\"dataframe\">\n",
       "  <thead>\n",
       "    <tr style=\"text-align: right;\">\n",
       "      <th></th>\n",
       "      <th>shoes</th>\n",
       "      <th>drinks</th>\n",
       "      <th>watches</th>\n",
       "      <th>cycles</th>\n",
       "      <th>trains</th>\n",
       "      <th>planes</th>\n",
       "      <th>foot wear</th>\n",
       "    </tr>\n",
       "  </thead>\n",
       "  <tbody>\n",
       "    <tr>\n",
       "      <th>collection 1</th>\n",
       "      <td>5.0</td>\n",
       "      <td>3</td>\n",
       "      <td>12.0</td>\n",
       "      <td>NaN</td>\n",
       "      <td>NaN</td>\n",
       "      <td>9</td>\n",
       "      <td>15.0</td>\n",
       "    </tr>\n",
       "  </tbody>\n",
       "</table>\n",
       "</div>"
      ],
      "text/plain": [
       "              shoes  drinks  watches  cycles  trains  planes  foot wear\n",
       "collection 1    5.0       3     12.0     NaN     NaN       9       15.0"
      ]
     },
     "execution_count": 31,
     "metadata": {},
     "output_type": "execute_result"
    }
   ],
   "source": [
    "data = data.rename(columns = {\"jets\" : \"planes\"})\n",
    "data"
   ]
  },
  {
   "cell_type": "markdown",
   "id": "064908dc",
   "metadata": {
    "papermill": {
     "duration": 0.032602,
     "end_time": "2023-02-02T06:00:44.983046",
     "exception": false,
     "start_time": "2023-02-02T06:00:44.950444",
     "status": "completed"
    },
    "tags": []
   },
   "source": [
    "### Renaming row label in a DataFrame\n",
    "\n",
    "<div class=\"alert alert-block alert-info\">\n",
    "    We can also rename a row label by using <b>rename()</b> method and giving <i>index</i> as an argument.\n",
    "</div>"
   ]
  },
  {
   "cell_type": "code",
   "execution_count": 32,
   "id": "0a46b991",
   "metadata": {
    "execution": {
     "iopub.execute_input": "2023-02-02T06:00:45.050209Z",
     "iopub.status.busy": "2023-02-02T06:00:45.049787Z",
     "iopub.status.idle": "2023-02-02T06:00:45.063351Z",
     "shell.execute_reply": "2023-02-02T06:00:45.062238Z"
    },
    "papermill": {
     "duration": 0.049906,
     "end_time": "2023-02-02T06:00:45.065672",
     "exception": false,
     "start_time": "2023-02-02T06:00:45.015766",
     "status": "completed"
    },
    "tags": []
   },
   "outputs": [
    {
     "data": {
      "text/html": [
       "<div>\n",
       "<style scoped>\n",
       "    .dataframe tbody tr th:only-of-type {\n",
       "        vertical-align: middle;\n",
       "    }\n",
       "\n",
       "    .dataframe tbody tr th {\n",
       "        vertical-align: top;\n",
       "    }\n",
       "\n",
       "    .dataframe thead th {\n",
       "        text-align: right;\n",
       "    }\n",
       "</style>\n",
       "<table border=\"1\" class=\"dataframe\">\n",
       "  <thead>\n",
       "    <tr style=\"text-align: right;\">\n",
       "      <th></th>\n",
       "      <th>shoes</th>\n",
       "      <th>drinks</th>\n",
       "      <th>watches</th>\n",
       "      <th>cycles</th>\n",
       "      <th>trains</th>\n",
       "      <th>planes</th>\n",
       "      <th>foot wear</th>\n",
       "    </tr>\n",
       "  </thead>\n",
       "  <tbody>\n",
       "    <tr>\n",
       "      <th>row 1</th>\n",
       "      <td>5.0</td>\n",
       "      <td>3</td>\n",
       "      <td>12.0</td>\n",
       "      <td>NaN</td>\n",
       "      <td>NaN</td>\n",
       "      <td>9</td>\n",
       "      <td>15.0</td>\n",
       "    </tr>\n",
       "  </tbody>\n",
       "</table>\n",
       "</div>"
      ],
      "text/plain": [
       "       shoes  drinks  watches  cycles  trains  planes  foot wear\n",
       "row 1    5.0       3     12.0     NaN     NaN       9       15.0"
      ]
     },
     "execution_count": 32,
     "metadata": {},
     "output_type": "execute_result"
    }
   ],
   "source": [
    "data = data.rename(index = {\"collection 1\" : \"row 1\"})\n",
    "data"
   ]
  },
  {
   "cell_type": "markdown",
   "id": "06397ac9",
   "metadata": {
    "papermill": {
     "duration": 0.033261,
     "end_time": "2023-02-02T06:00:45.132124",
     "exception": false,
     "start_time": "2023-02-02T06:00:45.098863",
     "status": "completed"
    },
    "tags": []
   },
   "source": [
    "### Setting column values as row index\n",
    "\n",
    "<div class=\"alert alert-block alert-info\">\n",
    "    We can also set a specific column to the row index by using <b>set_index()</b> method.\n",
    "</div>"
   ]
  },
  {
   "cell_type": "code",
   "execution_count": 33,
   "id": "333f4c9f",
   "metadata": {
    "execution": {
     "iopub.execute_input": "2023-02-02T06:00:45.200331Z",
     "iopub.status.busy": "2023-02-02T06:00:45.199906Z",
     "iopub.status.idle": "2023-02-02T06:00:45.214039Z",
     "shell.execute_reply": "2023-02-02T06:00:45.212764Z"
    },
    "papermill": {
     "duration": 0.05153,
     "end_time": "2023-02-02T06:00:45.216836",
     "exception": false,
     "start_time": "2023-02-02T06:00:45.165306",
     "status": "completed"
    },
    "scrolled": true,
    "tags": []
   },
   "outputs": [
    {
     "data": {
      "text/html": [
       "<div>\n",
       "<style scoped>\n",
       "    .dataframe tbody tr th:only-of-type {\n",
       "        vertical-align: middle;\n",
       "    }\n",
       "\n",
       "    .dataframe tbody tr th {\n",
       "        vertical-align: top;\n",
       "    }\n",
       "\n",
       "    .dataframe thead th {\n",
       "        text-align: right;\n",
       "    }\n",
       "</style>\n",
       "<table border=\"1\" class=\"dataframe\">\n",
       "  <thead>\n",
       "    <tr style=\"text-align: right;\">\n",
       "      <th></th>\n",
       "      <th>drinks</th>\n",
       "      <th>watches</th>\n",
       "      <th>cycles</th>\n",
       "      <th>trains</th>\n",
       "      <th>planes</th>\n",
       "      <th>foot wear</th>\n",
       "    </tr>\n",
       "    <tr>\n",
       "      <th>shoes</th>\n",
       "      <th></th>\n",
       "      <th></th>\n",
       "      <th></th>\n",
       "      <th></th>\n",
       "      <th></th>\n",
       "      <th></th>\n",
       "    </tr>\n",
       "  </thead>\n",
       "  <tbody>\n",
       "    <tr>\n",
       "      <th>5.0</th>\n",
       "      <td>3</td>\n",
       "      <td>12.0</td>\n",
       "      <td>NaN</td>\n",
       "      <td>NaN</td>\n",
       "      <td>9</td>\n",
       "      <td>15.0</td>\n",
       "    </tr>\n",
       "  </tbody>\n",
       "</table>\n",
       "</div>"
      ],
      "text/plain": [
       "       drinks  watches  cycles  trains  planes  foot wear\n",
       "shoes                                                    \n",
       "5.0         3     12.0     NaN     NaN       9       15.0"
      ]
     },
     "execution_count": 33,
     "metadata": {},
     "output_type": "execute_result"
    }
   ],
   "source": [
    "data = data.set_index(\"shoes\")\n",
    "data"
   ]
  },
  {
   "cell_type": "markdown",
   "id": "7d316c1f",
   "metadata": {
    "papermill": {
     "duration": 0.033981,
     "end_time": "2023-02-02T06:00:45.285666",
     "exception": false,
     "start_time": "2023-02-02T06:00:45.251685",
     "status": "completed"
    },
    "tags": []
   },
   "source": [
    "<a id = '4.'></a>\n",
    "# 4. Dealing with NaN\n",
    "\n",
    "### Counting NaN down the column\n",
    "\n",
    "<div class=\"alert alert-block alert-info\">\n",
    "    Pandas provides some methods and attributes to count NaN values. <b>DataFrame.isnull()</b> method will return True if a value in DataFrame has NaN value other wise False. <b>DataFrame.isnull().sum()</b> will return the number of NaN in each column & <b>DataFrame.isnull().sum().sum()</b> will return the number of all NaN values in that DataFrame.\n",
    "</div>\n",
    "\n",
    "Let's have an example:"
   ]
  },
  {
   "cell_type": "code",
   "execution_count": 34,
   "id": "43539ca8",
   "metadata": {
    "execution": {
     "iopub.execute_input": "2023-02-02T06:00:45.355453Z",
     "iopub.status.busy": "2023-02-02T06:00:45.355057Z",
     "iopub.status.idle": "2023-02-02T06:00:45.372071Z",
     "shell.execute_reply": "2023-02-02T06:00:45.370823Z"
    },
    "papermill": {
     "duration": 0.05463,
     "end_time": "2023-02-02T06:00:45.374353",
     "exception": false,
     "start_time": "2023-02-02T06:00:45.319723",
     "status": "completed"
    },
    "tags": []
   },
   "outputs": [
    {
     "data": {
      "text/html": [
       "<div>\n",
       "<style scoped>\n",
       "    .dataframe tbody tr th:only-of-type {\n",
       "        vertical-align: middle;\n",
       "    }\n",
       "\n",
       "    .dataframe tbody tr th {\n",
       "        vertical-align: top;\n",
       "    }\n",
       "\n",
       "    .dataframe thead th {\n",
       "        text-align: right;\n",
       "    }\n",
       "</style>\n",
       "<table border=\"1\" class=\"dataframe\">\n",
       "  <thead>\n",
       "    <tr style=\"text-align: right;\">\n",
       "      <th></th>\n",
       "      <th>bikes</th>\n",
       "      <th>pants</th>\n",
       "      <th>watches</th>\n",
       "      <th>shirts</th>\n",
       "      <th>shoes</th>\n",
       "      <th>suits</th>\n",
       "      <th>glasses</th>\n",
       "    </tr>\n",
       "  </thead>\n",
       "  <tbody>\n",
       "    <tr>\n",
       "      <th>shop 1</th>\n",
       "      <td>20</td>\n",
       "      <td>30</td>\n",
       "      <td>35</td>\n",
       "      <td>15.0</td>\n",
       "      <td>8</td>\n",
       "      <td>45.0</td>\n",
       "      <td>NaN</td>\n",
       "    </tr>\n",
       "    <tr>\n",
       "      <th>shop 2</th>\n",
       "      <td>15</td>\n",
       "      <td>5</td>\n",
       "      <td>10</td>\n",
       "      <td>2.0</td>\n",
       "      <td>5</td>\n",
       "      <td>7.0</td>\n",
       "      <td>50.0</td>\n",
       "    </tr>\n",
       "    <tr>\n",
       "      <th>shop 3</th>\n",
       "      <td>20</td>\n",
       "      <td>30</td>\n",
       "      <td>35</td>\n",
       "      <td>NaN</td>\n",
       "      <td>10</td>\n",
       "      <td>NaN</td>\n",
       "      <td>4.0</td>\n",
       "    </tr>\n",
       "  </tbody>\n",
       "</table>\n",
       "</div>"
      ],
      "text/plain": [
       "        bikes  pants  watches  shirts  shoes  suits  glasses\n",
       "shop 1     20     30       35    15.0      8   45.0      NaN\n",
       "shop 2     15      5       10     2.0      5    7.0     50.0\n",
       "shop 3     20     30       35     NaN     10    NaN      4.0"
      ]
     },
     "execution_count": 34,
     "metadata": {},
     "output_type": "execute_result"
    }
   ],
   "source": [
    "data = [{'bikes': 20, 'pants': 30, 'watches': 35, 'shirts': 15, 'shoes':8, 'suits':45},\n",
    "{'watches': 10, 'glasses': 50, 'bikes': 15, 'pants':5, 'shirts': 2, 'shoes':5, 'suits':7},\n",
    "{'bikes': 20, 'pants': 30, 'watches': 35, 'glasses': 4, 'shoes':10}]\n",
    "\n",
    "df = pd.DataFrame(data, index = [\"shop 1\", \"shop 2\", \"shop 3\"])\n",
    "df"
   ]
  },
  {
   "cell_type": "code",
   "execution_count": 35,
   "id": "041528a5",
   "metadata": {
    "execution": {
     "iopub.execute_input": "2023-02-02T06:00:45.444443Z",
     "iopub.status.busy": "2023-02-02T06:00:45.444058Z",
     "iopub.status.idle": "2023-02-02T06:00:45.456986Z",
     "shell.execute_reply": "2023-02-02T06:00:45.455967Z"
    },
    "papermill": {
     "duration": 0.051111,
     "end_time": "2023-02-02T06:00:45.459438",
     "exception": false,
     "start_time": "2023-02-02T06:00:45.408327",
     "status": "completed"
    },
    "tags": []
   },
   "outputs": [
    {
     "data": {
      "text/html": [
       "<div>\n",
       "<style scoped>\n",
       "    .dataframe tbody tr th:only-of-type {\n",
       "        vertical-align: middle;\n",
       "    }\n",
       "\n",
       "    .dataframe tbody tr th {\n",
       "        vertical-align: top;\n",
       "    }\n",
       "\n",
       "    .dataframe thead th {\n",
       "        text-align: right;\n",
       "    }\n",
       "</style>\n",
       "<table border=\"1\" class=\"dataframe\">\n",
       "  <thead>\n",
       "    <tr style=\"text-align: right;\">\n",
       "      <th></th>\n",
       "      <th>bikes</th>\n",
       "      <th>pants</th>\n",
       "      <th>watches</th>\n",
       "      <th>shirts</th>\n",
       "      <th>shoes</th>\n",
       "      <th>suits</th>\n",
       "      <th>glasses</th>\n",
       "    </tr>\n",
       "  </thead>\n",
       "  <tbody>\n",
       "    <tr>\n",
       "      <th>shop 1</th>\n",
       "      <td>False</td>\n",
       "      <td>False</td>\n",
       "      <td>False</td>\n",
       "      <td>False</td>\n",
       "      <td>False</td>\n",
       "      <td>False</td>\n",
       "      <td>True</td>\n",
       "    </tr>\n",
       "    <tr>\n",
       "      <th>shop 2</th>\n",
       "      <td>False</td>\n",
       "      <td>False</td>\n",
       "      <td>False</td>\n",
       "      <td>False</td>\n",
       "      <td>False</td>\n",
       "      <td>False</td>\n",
       "      <td>False</td>\n",
       "    </tr>\n",
       "    <tr>\n",
       "      <th>shop 3</th>\n",
       "      <td>False</td>\n",
       "      <td>False</td>\n",
       "      <td>False</td>\n",
       "      <td>True</td>\n",
       "      <td>False</td>\n",
       "      <td>True</td>\n",
       "      <td>False</td>\n",
       "    </tr>\n",
       "  </tbody>\n",
       "</table>\n",
       "</div>"
      ],
      "text/plain": [
       "        bikes  pants  watches  shirts  shoes  suits  glasses\n",
       "shop 1  False  False    False   False  False  False     True\n",
       "shop 2  False  False    False   False  False  False    False\n",
       "shop 3  False  False    False    True  False   True    False"
      ]
     },
     "execution_count": 35,
     "metadata": {},
     "output_type": "execute_result"
    }
   ],
   "source": [
    "df.isnull()"
   ]
  },
  {
   "cell_type": "code",
   "execution_count": 36,
   "id": "baf867e9",
   "metadata": {
    "execution": {
     "iopub.execute_input": "2023-02-02T06:00:45.528805Z",
     "iopub.status.busy": "2023-02-02T06:00:45.528435Z",
     "iopub.status.idle": "2023-02-02T06:00:45.537045Z",
     "shell.execute_reply": "2023-02-02T06:00:45.535986Z"
    },
    "papermill": {
     "duration": 0.046391,
     "end_time": "2023-02-02T06:00:45.539533",
     "exception": false,
     "start_time": "2023-02-02T06:00:45.493142",
     "status": "completed"
    },
    "tags": []
   },
   "outputs": [
    {
     "data": {
      "text/plain": [
       "bikes      0\n",
       "pants      0\n",
       "watches    0\n",
       "shirts     1\n",
       "shoes      0\n",
       "suits      1\n",
       "glasses    1\n",
       "dtype: int64"
      ]
     },
     "execution_count": 36,
     "metadata": {},
     "output_type": "execute_result"
    }
   ],
   "source": [
    "df.isnull().sum()"
   ]
  },
  {
   "cell_type": "code",
   "execution_count": 37,
   "id": "b1f08950",
   "metadata": {
    "execution": {
     "iopub.execute_input": "2023-02-02T06:00:45.611595Z",
     "iopub.status.busy": "2023-02-02T06:00:45.611200Z",
     "iopub.status.idle": "2023-02-02T06:00:45.618099Z",
     "shell.execute_reply": "2023-02-02T06:00:45.616927Z"
    },
    "papermill": {
     "duration": 0.046198,
     "end_time": "2023-02-02T06:00:45.621265",
     "exception": false,
     "start_time": "2023-02-02T06:00:45.575067",
     "status": "completed"
    },
    "tags": []
   },
   "outputs": [
    {
     "name": "stdout",
     "output_type": "stream",
     "text": [
      "Total number of NaN values =  3\n"
     ]
    }
   ],
   "source": [
    "print(\"Total number of NaN values = \", df.isnull().sum().sum())"
   ]
  },
  {
   "cell_type": "markdown",
   "id": "77efa48c",
   "metadata": {
    "papermill": {
     "duration": 0.040034,
     "end_time": "2023-02-02T06:00:45.696196",
     "exception": false,
     "start_time": "2023-02-02T06:00:45.656162",
     "status": "completed"
    },
    "tags": []
   },
   "source": [
    "<div class=\"alert alert-block alert-warning\">\n",
    "    We can also count the number of Non-NaN values in a DataFrame using <b>DataFrame.count()</b> method.\n",
    "</div>"
   ]
  },
  {
   "cell_type": "code",
   "execution_count": 38,
   "id": "98da5398",
   "metadata": {
    "execution": {
     "iopub.execute_input": "2023-02-02T06:00:45.766292Z",
     "iopub.status.busy": "2023-02-02T06:00:45.765855Z",
     "iopub.status.idle": "2023-02-02T06:00:45.775813Z",
     "shell.execute_reply": "2023-02-02T06:00:45.774675Z"
    },
    "papermill": {
     "duration": 0.047168,
     "end_time": "2023-02-02T06:00:45.778123",
     "exception": false,
     "start_time": "2023-02-02T06:00:45.730955",
     "status": "completed"
    },
    "tags": []
   },
   "outputs": [
    {
     "data": {
      "text/plain": [
       "bikes      3\n",
       "pants      3\n",
       "watches    3\n",
       "shirts     2\n",
       "shoes      3\n",
       "suits      2\n",
       "glasses    2\n",
       "dtype: int64"
      ]
     },
     "execution_count": 38,
     "metadata": {},
     "output_type": "execute_result"
    }
   ],
   "source": [
    "df.count()"
   ]
  },
  {
   "cell_type": "code",
   "execution_count": 39,
   "id": "f163cc44",
   "metadata": {
    "execution": {
     "iopub.execute_input": "2023-02-02T06:00:45.847443Z",
     "iopub.status.busy": "2023-02-02T06:00:45.847055Z",
     "iopub.status.idle": "2023-02-02T06:00:45.855585Z",
     "shell.execute_reply": "2023-02-02T06:00:45.854201Z"
    },
    "papermill": {
     "duration": 0.046587,
     "end_time": "2023-02-02T06:00:45.858341",
     "exception": false,
     "start_time": "2023-02-02T06:00:45.811754",
     "status": "completed"
    },
    "tags": []
   },
   "outputs": [
    {
     "name": "stdout",
     "output_type": "stream",
     "text": [
      "Total number of Non-NaN values =  18\n"
     ]
    }
   ],
   "source": [
    "print(\"Total number of Non-NaN values = \", df.count().sum())"
   ]
  },
  {
   "cell_type": "markdown",
   "id": "a8b1ba51",
   "metadata": {
    "papermill": {
     "duration": 0.034117,
     "end_time": "2023-02-02T06:00:45.928313",
     "exception": false,
     "start_time": "2023-02-02T06:00:45.894196",
     "status": "completed"
    },
    "tags": []
   },
   "source": [
    "## Eliminating NaN Values\n",
    "\n",
    "<div class=\"alert alert-block alert-warning\">\n",
    "As we've counted the number of NaN values, now we can either drop or replace them. \n",
    "</div>\n",
    "\n",
    "### Droping rows having NaN values\n",
    "\n",
    "<div class=\"alert alert-block alert-info\">\n",
    "    We can remove NaN values with the help of <b>dropna()</b> method. In <b>dropna()</b> method, when <i>axis = 0</i>, it will remove rows having NaN values & when <i>axis = 1</i>, it will remove columns having NaN values. And <i>inplace = True</i> will remove rows form original DataFrame.\n",
    "</div>"
   ]
  },
  {
   "cell_type": "code",
   "execution_count": 40,
   "id": "7e551092",
   "metadata": {
    "execution": {
     "iopub.execute_input": "2023-02-02T06:00:45.998155Z",
     "iopub.status.busy": "2023-02-02T06:00:45.997508Z",
     "iopub.status.idle": "2023-02-02T06:00:46.012532Z",
     "shell.execute_reply": "2023-02-02T06:00:46.011350Z"
    },
    "papermill": {
     "duration": 0.052408,
     "end_time": "2023-02-02T06:00:46.014853",
     "exception": false,
     "start_time": "2023-02-02T06:00:45.962445",
     "status": "completed"
    },
    "tags": []
   },
   "outputs": [
    {
     "data": {
      "text/html": [
       "<div>\n",
       "<style scoped>\n",
       "    .dataframe tbody tr th:only-of-type {\n",
       "        vertical-align: middle;\n",
       "    }\n",
       "\n",
       "    .dataframe tbody tr th {\n",
       "        vertical-align: top;\n",
       "    }\n",
       "\n",
       "    .dataframe thead th {\n",
       "        text-align: right;\n",
       "    }\n",
       "</style>\n",
       "<table border=\"1\" class=\"dataframe\">\n",
       "  <thead>\n",
       "    <tr style=\"text-align: right;\">\n",
       "      <th></th>\n",
       "      <th>bikes</th>\n",
       "      <th>pants</th>\n",
       "      <th>watches</th>\n",
       "      <th>shirts</th>\n",
       "      <th>shoes</th>\n",
       "      <th>suits</th>\n",
       "      <th>glasses</th>\n",
       "    </tr>\n",
       "  </thead>\n",
       "  <tbody>\n",
       "    <tr>\n",
       "      <th>shop 2</th>\n",
       "      <td>15</td>\n",
       "      <td>5</td>\n",
       "      <td>10</td>\n",
       "      <td>2.0</td>\n",
       "      <td>5</td>\n",
       "      <td>7.0</td>\n",
       "      <td>50.0</td>\n",
       "    </tr>\n",
       "  </tbody>\n",
       "</table>\n",
       "</div>"
      ],
      "text/plain": [
       "        bikes  pants  watches  shirts  shoes  suits  glasses\n",
       "shop 2     15      5       10     2.0      5    7.0     50.0"
      ]
     },
     "execution_count": 40,
     "metadata": {},
     "output_type": "execute_result"
    }
   ],
   "source": [
    "# Drop rows having NaN values\n",
    "df.dropna(axis = 0, inplace = True)\n",
    "df"
   ]
  },
  {
   "cell_type": "code",
   "execution_count": 41,
   "id": "ff8904ea",
   "metadata": {
    "execution": {
     "iopub.execute_input": "2023-02-02T06:00:46.085155Z",
     "iopub.status.busy": "2023-02-02T06:00:46.084742Z",
     "iopub.status.idle": "2023-02-02T06:00:46.101839Z",
     "shell.execute_reply": "2023-02-02T06:00:46.100666Z"
    },
    "papermill": {
     "duration": 0.055583,
     "end_time": "2023-02-02T06:00:46.104597",
     "exception": false,
     "start_time": "2023-02-02T06:00:46.049014",
     "status": "completed"
    },
    "tags": []
   },
   "outputs": [
    {
     "data": {
      "text/html": [
       "<div>\n",
       "<style scoped>\n",
       "    .dataframe tbody tr th:only-of-type {\n",
       "        vertical-align: middle;\n",
       "    }\n",
       "\n",
       "    .dataframe tbody tr th {\n",
       "        vertical-align: top;\n",
       "    }\n",
       "\n",
       "    .dataframe thead th {\n",
       "        text-align: right;\n",
       "    }\n",
       "</style>\n",
       "<table border=\"1\" class=\"dataframe\">\n",
       "  <thead>\n",
       "    <tr style=\"text-align: right;\">\n",
       "      <th></th>\n",
       "      <th>bikes</th>\n",
       "      <th>pants</th>\n",
       "      <th>watches</th>\n",
       "      <th>shirts</th>\n",
       "      <th>shoes</th>\n",
       "      <th>suits</th>\n",
       "      <th>glasses</th>\n",
       "    </tr>\n",
       "  </thead>\n",
       "  <tbody>\n",
       "    <tr>\n",
       "      <th>shop 1</th>\n",
       "      <td>20</td>\n",
       "      <td>30</td>\n",
       "      <td>35</td>\n",
       "      <td>15.0</td>\n",
       "      <td>8</td>\n",
       "      <td>45.0</td>\n",
       "      <td>NaN</td>\n",
       "    </tr>\n",
       "    <tr>\n",
       "      <th>shop 2</th>\n",
       "      <td>15</td>\n",
       "      <td>5</td>\n",
       "      <td>10</td>\n",
       "      <td>2.0</td>\n",
       "      <td>5</td>\n",
       "      <td>7.0</td>\n",
       "      <td>50.0</td>\n",
       "    </tr>\n",
       "    <tr>\n",
       "      <th>shop 3</th>\n",
       "      <td>20</td>\n",
       "      <td>30</td>\n",
       "      <td>35</td>\n",
       "      <td>NaN</td>\n",
       "      <td>10</td>\n",
       "      <td>NaN</td>\n",
       "      <td>4.0</td>\n",
       "    </tr>\n",
       "  </tbody>\n",
       "</table>\n",
       "</div>"
      ],
      "text/plain": [
       "        bikes  pants  watches  shirts  shoes  suits  glasses\n",
       "shop 1     20     30       35    15.0      8   45.0      NaN\n",
       "shop 2     15      5       10     2.0      5    7.0     50.0\n",
       "shop 3     20     30       35     NaN     10    NaN      4.0"
      ]
     },
     "execution_count": 41,
     "metadata": {},
     "output_type": "execute_result"
    }
   ],
   "source": [
    "data = [{'bikes': 20, 'pants': 30, 'watches': 35, 'shirts': 15, 'shoes':8, 'suits':45},\n",
    "{'watches': 10, 'glasses': 50, 'bikes': 15, 'pants':5, 'shirts': 2, 'shoes':5, 'suits':7},\n",
    "{'bikes': 20, 'pants': 30, 'watches': 35, 'glasses': 4, 'shoes':10}]\n",
    "\n",
    "df = pd.DataFrame(data, index = [\"shop 1\", \"shop 2\", \"shop 3\"])\n",
    "df"
   ]
  },
  {
   "cell_type": "code",
   "execution_count": 42,
   "id": "9c0fcfc2",
   "metadata": {
    "execution": {
     "iopub.execute_input": "2023-02-02T06:00:46.180381Z",
     "iopub.status.busy": "2023-02-02T06:00:46.179686Z",
     "iopub.status.idle": "2023-02-02T06:00:46.192836Z",
     "shell.execute_reply": "2023-02-02T06:00:46.191765Z"
    },
    "papermill": {
     "duration": 0.054079,
     "end_time": "2023-02-02T06:00:46.195226",
     "exception": false,
     "start_time": "2023-02-02T06:00:46.141147",
     "status": "completed"
    },
    "tags": []
   },
   "outputs": [
    {
     "data": {
      "text/html": [
       "<div>\n",
       "<style scoped>\n",
       "    .dataframe tbody tr th:only-of-type {\n",
       "        vertical-align: middle;\n",
       "    }\n",
       "\n",
       "    .dataframe tbody tr th {\n",
       "        vertical-align: top;\n",
       "    }\n",
       "\n",
       "    .dataframe thead th {\n",
       "        text-align: right;\n",
       "    }\n",
       "</style>\n",
       "<table border=\"1\" class=\"dataframe\">\n",
       "  <thead>\n",
       "    <tr style=\"text-align: right;\">\n",
       "      <th></th>\n",
       "      <th>bikes</th>\n",
       "      <th>pants</th>\n",
       "      <th>watches</th>\n",
       "      <th>shoes</th>\n",
       "    </tr>\n",
       "  </thead>\n",
       "  <tbody>\n",
       "    <tr>\n",
       "      <th>shop 1</th>\n",
       "      <td>20</td>\n",
       "      <td>30</td>\n",
       "      <td>35</td>\n",
       "      <td>8</td>\n",
       "    </tr>\n",
       "    <tr>\n",
       "      <th>shop 2</th>\n",
       "      <td>15</td>\n",
       "      <td>5</td>\n",
       "      <td>10</td>\n",
       "      <td>5</td>\n",
       "    </tr>\n",
       "    <tr>\n",
       "      <th>shop 3</th>\n",
       "      <td>20</td>\n",
       "      <td>30</td>\n",
       "      <td>35</td>\n",
       "      <td>10</td>\n",
       "    </tr>\n",
       "  </tbody>\n",
       "</table>\n",
       "</div>"
      ],
      "text/plain": [
       "        bikes  pants  watches  shoes\n",
       "shop 1     20     30       35      8\n",
       "shop 2     15      5       10      5\n",
       "shop 3     20     30       35     10"
      ]
     },
     "execution_count": 42,
     "metadata": {},
     "output_type": "execute_result"
    }
   ],
   "source": [
    "# Drop columns having NaN values\n",
    "dummy_df = df.dropna(axis = 1)\n",
    "dummy_df"
   ]
  },
  {
   "cell_type": "markdown",
   "id": "7555e6cf",
   "metadata": {
    "papermill": {
     "duration": 0.033938,
     "end_time": "2023-02-02T06:00:46.263900",
     "exception": false,
     "start_time": "2023-02-02T06:00:46.229962",
     "status": "completed"
    },
    "tags": []
   },
   "source": [
    "## Replacing NaN values\n",
    "\n",
    "<div class=\"alert alert-block alert-info\">\n",
    "We can also replace NaN values with any value we want with the help of <b>fillna()</b> method.\n",
    "</div>"
   ]
  },
  {
   "cell_type": "code",
   "execution_count": 43,
   "id": "5044064a",
   "metadata": {
    "execution": {
     "iopub.execute_input": "2023-02-02T06:00:46.334223Z",
     "iopub.status.busy": "2023-02-02T06:00:46.333824Z",
     "iopub.status.idle": "2023-02-02T06:00:46.347676Z",
     "shell.execute_reply": "2023-02-02T06:00:46.346507Z"
    },
    "papermill": {
     "duration": 0.051489,
     "end_time": "2023-02-02T06:00:46.349945",
     "exception": false,
     "start_time": "2023-02-02T06:00:46.298456",
     "status": "completed"
    },
    "tags": []
   },
   "outputs": [
    {
     "data": {
      "text/html": [
       "<div>\n",
       "<style scoped>\n",
       "    .dataframe tbody tr th:only-of-type {\n",
       "        vertical-align: middle;\n",
       "    }\n",
       "\n",
       "    .dataframe tbody tr th {\n",
       "        vertical-align: top;\n",
       "    }\n",
       "\n",
       "    .dataframe thead th {\n",
       "        text-align: right;\n",
       "    }\n",
       "</style>\n",
       "<table border=\"1\" class=\"dataframe\">\n",
       "  <thead>\n",
       "    <tr style=\"text-align: right;\">\n",
       "      <th></th>\n",
       "      <th>bikes</th>\n",
       "      <th>pants</th>\n",
       "      <th>watches</th>\n",
       "      <th>shirts</th>\n",
       "      <th>shoes</th>\n",
       "      <th>suits</th>\n",
       "      <th>glasses</th>\n",
       "    </tr>\n",
       "  </thead>\n",
       "  <tbody>\n",
       "    <tr>\n",
       "      <th>shop 1</th>\n",
       "      <td>20</td>\n",
       "      <td>30</td>\n",
       "      <td>35</td>\n",
       "      <td>15.0</td>\n",
       "      <td>8</td>\n",
       "      <td>45.0</td>\n",
       "      <td>0.0</td>\n",
       "    </tr>\n",
       "    <tr>\n",
       "      <th>shop 2</th>\n",
       "      <td>15</td>\n",
       "      <td>5</td>\n",
       "      <td>10</td>\n",
       "      <td>2.0</td>\n",
       "      <td>5</td>\n",
       "      <td>7.0</td>\n",
       "      <td>50.0</td>\n",
       "    </tr>\n",
       "    <tr>\n",
       "      <th>shop 3</th>\n",
       "      <td>20</td>\n",
       "      <td>30</td>\n",
       "      <td>35</td>\n",
       "      <td>0.0</td>\n",
       "      <td>10</td>\n",
       "      <td>0.0</td>\n",
       "      <td>4.0</td>\n",
       "    </tr>\n",
       "  </tbody>\n",
       "</table>\n",
       "</div>"
      ],
      "text/plain": [
       "        bikes  pants  watches  shirts  shoes  suits  glasses\n",
       "shop 1     20     30       35    15.0      8   45.0      0.0\n",
       "shop 2     15      5       10     2.0      5    7.0     50.0\n",
       "shop 3     20     30       35     0.0     10    0.0      4.0"
      ]
     },
     "execution_count": 43,
     "metadata": {},
     "output_type": "execute_result"
    }
   ],
   "source": [
    "# Replacing all NaN values with 0\n",
    "dummy_df = df.fillna(0)\n",
    "dummy_df"
   ]
  },
  {
   "cell_type": "markdown",
   "id": "d62830f8",
   "metadata": {
    "papermill": {
     "duration": 0.035099,
     "end_time": "2023-02-02T06:00:46.420464",
     "exception": false,
     "start_time": "2023-02-02T06:00:46.385365",
     "status": "completed"
    },
    "tags": []
   },
   "source": [
    "<div class=\"alert alert-block alert-info\">\n",
    "We can also replace NaN values with the previous values in the DataFrame. This is called forward filling. In this case, we will pass <i>method = 'ffill'</i> & <i>aixs</i> as an argument in <b>fillna()</b> method.</div>"
   ]
  },
  {
   "cell_type": "code",
   "execution_count": 44,
   "id": "8addcc65",
   "metadata": {
    "execution": {
     "iopub.execute_input": "2023-02-02T06:00:46.492820Z",
     "iopub.status.busy": "2023-02-02T06:00:46.492348Z",
     "iopub.status.idle": "2023-02-02T06:00:46.510828Z",
     "shell.execute_reply": "2023-02-02T06:00:46.509500Z"
    },
    "papermill": {
     "duration": 0.057431,
     "end_time": "2023-02-02T06:00:46.513510",
     "exception": false,
     "start_time": "2023-02-02T06:00:46.456079",
     "status": "completed"
    },
    "tags": []
   },
   "outputs": [
    {
     "data": {
      "text/html": [
       "<div>\n",
       "<style scoped>\n",
       "    .dataframe tbody tr th:only-of-type {\n",
       "        vertical-align: middle;\n",
       "    }\n",
       "\n",
       "    .dataframe tbody tr th {\n",
       "        vertical-align: top;\n",
       "    }\n",
       "\n",
       "    .dataframe thead th {\n",
       "        text-align: right;\n",
       "    }\n",
       "</style>\n",
       "<table border=\"1\" class=\"dataframe\">\n",
       "  <thead>\n",
       "    <tr style=\"text-align: right;\">\n",
       "      <th></th>\n",
       "      <th>bikes</th>\n",
       "      <th>pants</th>\n",
       "      <th>watches</th>\n",
       "      <th>shirts</th>\n",
       "      <th>shoes</th>\n",
       "      <th>suits</th>\n",
       "      <th>glasses</th>\n",
       "    </tr>\n",
       "  </thead>\n",
       "  <tbody>\n",
       "    <tr>\n",
       "      <th>shop 1</th>\n",
       "      <td>20</td>\n",
       "      <td>30</td>\n",
       "      <td>35</td>\n",
       "      <td>15.0</td>\n",
       "      <td>8</td>\n",
       "      <td>45.0</td>\n",
       "      <td>NaN</td>\n",
       "    </tr>\n",
       "    <tr>\n",
       "      <th>shop 2</th>\n",
       "      <td>15</td>\n",
       "      <td>5</td>\n",
       "      <td>10</td>\n",
       "      <td>2.0</td>\n",
       "      <td>5</td>\n",
       "      <td>7.0</td>\n",
       "      <td>50.0</td>\n",
       "    </tr>\n",
       "    <tr>\n",
       "      <th>shop 3</th>\n",
       "      <td>20</td>\n",
       "      <td>30</td>\n",
       "      <td>35</td>\n",
       "      <td>2.0</td>\n",
       "      <td>10</td>\n",
       "      <td>7.0</td>\n",
       "      <td>4.0</td>\n",
       "    </tr>\n",
       "  </tbody>\n",
       "</table>\n",
       "</div>"
      ],
      "text/plain": [
       "        bikes  pants  watches  shirts  shoes  suits  glasses\n",
       "shop 1     20     30       35    15.0      8   45.0      NaN\n",
       "shop 2     15      5       10     2.0      5    7.0     50.0\n",
       "shop 3     20     30       35     2.0     10    7.0      4.0"
      ]
     },
     "execution_count": 44,
     "metadata": {},
     "output_type": "execute_result"
    }
   ],
   "source": [
    "# forward filling down axis = 0\n",
    "dummy_df = df.fillna(method = 'ffill', axis = 0)\n",
    "dummy_df"
   ]
  },
  {
   "cell_type": "markdown",
   "id": "6aa0f7b7",
   "metadata": {
    "papermill": {
     "duration": 0.034836,
     "end_time": "2023-02-02T06:00:46.583252",
     "exception": false,
     "start_time": "2023-02-02T06:00:46.548416",
     "status": "completed"
    },
    "tags": []
   },
   "source": [
    "<div class=\"alert alert-block alert-warning\">\n",
    "    Notice that the NaN value in <i>shop 1</i> did not get replaced with the previous value because there is no previous value in <i>glasses</i> column.\n",
    "</div>"
   ]
  },
  {
   "cell_type": "code",
   "execution_count": 45,
   "id": "fcfeceac",
   "metadata": {
    "execution": {
     "iopub.execute_input": "2023-02-02T06:00:46.655979Z",
     "iopub.status.busy": "2023-02-02T06:00:46.655549Z",
     "iopub.status.idle": "2023-02-02T06:00:46.673560Z",
     "shell.execute_reply": "2023-02-02T06:00:46.672330Z"
    },
    "papermill": {
     "duration": 0.05651,
     "end_time": "2023-02-02T06:00:46.675776",
     "exception": false,
     "start_time": "2023-02-02T06:00:46.619266",
     "status": "completed"
    },
    "tags": []
   },
   "outputs": [
    {
     "data": {
      "text/html": [
       "<div>\n",
       "<style scoped>\n",
       "    .dataframe tbody tr th:only-of-type {\n",
       "        vertical-align: middle;\n",
       "    }\n",
       "\n",
       "    .dataframe tbody tr th {\n",
       "        vertical-align: top;\n",
       "    }\n",
       "\n",
       "    .dataframe thead th {\n",
       "        text-align: right;\n",
       "    }\n",
       "</style>\n",
       "<table border=\"1\" class=\"dataframe\">\n",
       "  <thead>\n",
       "    <tr style=\"text-align: right;\">\n",
       "      <th></th>\n",
       "      <th>bikes</th>\n",
       "      <th>pants</th>\n",
       "      <th>watches</th>\n",
       "      <th>shirts</th>\n",
       "      <th>shoes</th>\n",
       "      <th>suits</th>\n",
       "      <th>glasses</th>\n",
       "    </tr>\n",
       "  </thead>\n",
       "  <tbody>\n",
       "    <tr>\n",
       "      <th>shop 1</th>\n",
       "      <td>20.0</td>\n",
       "      <td>30.0</td>\n",
       "      <td>35.0</td>\n",
       "      <td>15.0</td>\n",
       "      <td>8.0</td>\n",
       "      <td>45.0</td>\n",
       "      <td>45.0</td>\n",
       "    </tr>\n",
       "    <tr>\n",
       "      <th>shop 2</th>\n",
       "      <td>15.0</td>\n",
       "      <td>5.0</td>\n",
       "      <td>10.0</td>\n",
       "      <td>2.0</td>\n",
       "      <td>5.0</td>\n",
       "      <td>7.0</td>\n",
       "      <td>50.0</td>\n",
       "    </tr>\n",
       "    <tr>\n",
       "      <th>shop 3</th>\n",
       "      <td>20.0</td>\n",
       "      <td>30.0</td>\n",
       "      <td>35.0</td>\n",
       "      <td>35.0</td>\n",
       "      <td>10.0</td>\n",
       "      <td>10.0</td>\n",
       "      <td>4.0</td>\n",
       "    </tr>\n",
       "  </tbody>\n",
       "</table>\n",
       "</div>"
      ],
      "text/plain": [
       "        bikes  pants  watches  shirts  shoes  suits  glasses\n",
       "shop 1   20.0   30.0     35.0    15.0    8.0   45.0     45.0\n",
       "shop 2   15.0    5.0     10.0     2.0    5.0    7.0     50.0\n",
       "shop 3   20.0   30.0     35.0    35.0   10.0   10.0      4.0"
      ]
     },
     "execution_count": 45,
     "metadata": {},
     "output_type": "execute_result"
    }
   ],
   "source": [
    "# forward filling arcoss axis = 1\n",
    "dummy_df = df.fillna(method = 'ffill', axis = 1)\n",
    "dummy_df"
   ]
  },
  {
   "cell_type": "markdown",
   "id": "07b4892c",
   "metadata": {
    "papermill": {
     "duration": 0.034583,
     "end_time": "2023-02-02T06:00:46.745479",
     "exception": false,
     "start_time": "2023-02-02T06:00:46.710896",
     "status": "completed"
    },
    "tags": []
   },
   "source": [
    "<div class=\"alert alert-block alert-warning\">\n",
    " Here all the NaN values have been replaced with the previous row values.\n",
    "</div>"
   ]
  },
  {
   "cell_type": "markdown",
   "id": "4b5fb1a6",
   "metadata": {
    "papermill": {
     "duration": 0.034374,
     "end_time": "2023-02-02T06:00:46.815026",
     "exception": false,
     "start_time": "2023-02-02T06:00:46.780652",
     "status": "completed"
    },
    "tags": []
   },
   "source": [
    "<div class=\"alert alert-block alert-info\">\n",
    "    We can also do backward filling by using <i>method = 'backfill'</i> in <b>fillna()</b> method.\n",
    "</div>"
   ]
  },
  {
   "cell_type": "code",
   "execution_count": 46,
   "id": "7753e8be",
   "metadata": {
    "execution": {
     "iopub.execute_input": "2023-02-02T06:00:46.888301Z",
     "iopub.status.busy": "2023-02-02T06:00:46.887872Z",
     "iopub.status.idle": "2023-02-02T06:00:46.905205Z",
     "shell.execute_reply": "2023-02-02T06:00:46.904011Z"
    },
    "papermill": {
     "duration": 0.057986,
     "end_time": "2023-02-02T06:00:46.907656",
     "exception": false,
     "start_time": "2023-02-02T06:00:46.849670",
     "status": "completed"
    },
    "tags": []
   },
   "outputs": [
    {
     "data": {
      "text/html": [
       "<div>\n",
       "<style scoped>\n",
       "    .dataframe tbody tr th:only-of-type {\n",
       "        vertical-align: middle;\n",
       "    }\n",
       "\n",
       "    .dataframe tbody tr th {\n",
       "        vertical-align: top;\n",
       "    }\n",
       "\n",
       "    .dataframe thead th {\n",
       "        text-align: right;\n",
       "    }\n",
       "</style>\n",
       "<table border=\"1\" class=\"dataframe\">\n",
       "  <thead>\n",
       "    <tr style=\"text-align: right;\">\n",
       "      <th></th>\n",
       "      <th>bikes</th>\n",
       "      <th>pants</th>\n",
       "      <th>watches</th>\n",
       "      <th>shirts</th>\n",
       "      <th>shoes</th>\n",
       "      <th>suits</th>\n",
       "      <th>glasses</th>\n",
       "    </tr>\n",
       "  </thead>\n",
       "  <tbody>\n",
       "    <tr>\n",
       "      <th>shop 1</th>\n",
       "      <td>20</td>\n",
       "      <td>30</td>\n",
       "      <td>35</td>\n",
       "      <td>15.0</td>\n",
       "      <td>8</td>\n",
       "      <td>45.0</td>\n",
       "      <td>50.0</td>\n",
       "    </tr>\n",
       "    <tr>\n",
       "      <th>shop 2</th>\n",
       "      <td>15</td>\n",
       "      <td>5</td>\n",
       "      <td>10</td>\n",
       "      <td>2.0</td>\n",
       "      <td>5</td>\n",
       "      <td>7.0</td>\n",
       "      <td>50.0</td>\n",
       "    </tr>\n",
       "    <tr>\n",
       "      <th>shop 3</th>\n",
       "      <td>20</td>\n",
       "      <td>30</td>\n",
       "      <td>35</td>\n",
       "      <td>NaN</td>\n",
       "      <td>10</td>\n",
       "      <td>NaN</td>\n",
       "      <td>4.0</td>\n",
       "    </tr>\n",
       "  </tbody>\n",
       "</table>\n",
       "</div>"
      ],
      "text/plain": [
       "        bikes  pants  watches  shirts  shoes  suits  glasses\n",
       "shop 1     20     30       35    15.0      8   45.0     50.0\n",
       "shop 2     15      5       10     2.0      5    7.0     50.0\n",
       "shop 3     20     30       35     NaN     10    NaN      4.0"
      ]
     },
     "execution_count": 46,
     "metadata": {},
     "output_type": "execute_result"
    }
   ],
   "source": [
    "# backward filling down axis = 0\n",
    "dummy_df = df.fillna(method = 'backfill', axis = 0)\n",
    "dummy_df"
   ]
  },
  {
   "cell_type": "markdown",
   "id": "d8fb91a2",
   "metadata": {
    "papermill": {
     "duration": 0.035086,
     "end_time": "2023-02-02T06:00:46.977805",
     "exception": false,
     "start_time": "2023-02-02T06:00:46.942719",
     "status": "completed"
    },
    "tags": []
   },
   "source": [
    "<div class=\"alert alert-block alert-warning\">\n",
    "Here all NaN values have been replaced with their previous values in their columns except two columns in <i>shop 3</i> because they have no previous values in their columns.\n",
    "</div>"
   ]
  },
  {
   "cell_type": "code",
   "execution_count": 47,
   "id": "382ff67e",
   "metadata": {
    "execution": {
     "iopub.execute_input": "2023-02-02T06:00:47.050028Z",
     "iopub.status.busy": "2023-02-02T06:00:47.049592Z",
     "iopub.status.idle": "2023-02-02T06:00:47.064945Z",
     "shell.execute_reply": "2023-02-02T06:00:47.064147Z"
    },
    "papermill": {
     "duration": 0.054482,
     "end_time": "2023-02-02T06:00:47.067530",
     "exception": false,
     "start_time": "2023-02-02T06:00:47.013048",
     "status": "completed"
    },
    "tags": []
   },
   "outputs": [
    {
     "data": {
      "text/html": [
       "<div>\n",
       "<style scoped>\n",
       "    .dataframe tbody tr th:only-of-type {\n",
       "        vertical-align: middle;\n",
       "    }\n",
       "\n",
       "    .dataframe tbody tr th {\n",
       "        vertical-align: top;\n",
       "    }\n",
       "\n",
       "    .dataframe thead th {\n",
       "        text-align: right;\n",
       "    }\n",
       "</style>\n",
       "<table border=\"1\" class=\"dataframe\">\n",
       "  <thead>\n",
       "    <tr style=\"text-align: right;\">\n",
       "      <th></th>\n",
       "      <th>bikes</th>\n",
       "      <th>pants</th>\n",
       "      <th>watches</th>\n",
       "      <th>shirts</th>\n",
       "      <th>shoes</th>\n",
       "      <th>suits</th>\n",
       "      <th>glasses</th>\n",
       "    </tr>\n",
       "  </thead>\n",
       "  <tbody>\n",
       "    <tr>\n",
       "      <th>shop 1</th>\n",
       "      <td>20.0</td>\n",
       "      <td>30.0</td>\n",
       "      <td>35.0</td>\n",
       "      <td>15.0</td>\n",
       "      <td>8.0</td>\n",
       "      <td>45.0</td>\n",
       "      <td>NaN</td>\n",
       "    </tr>\n",
       "    <tr>\n",
       "      <th>shop 2</th>\n",
       "      <td>15.0</td>\n",
       "      <td>5.0</td>\n",
       "      <td>10.0</td>\n",
       "      <td>2.0</td>\n",
       "      <td>5.0</td>\n",
       "      <td>7.0</td>\n",
       "      <td>50.0</td>\n",
       "    </tr>\n",
       "    <tr>\n",
       "      <th>shop 3</th>\n",
       "      <td>20.0</td>\n",
       "      <td>30.0</td>\n",
       "      <td>35.0</td>\n",
       "      <td>10.0</td>\n",
       "      <td>10.0</td>\n",
       "      <td>4.0</td>\n",
       "      <td>4.0</td>\n",
       "    </tr>\n",
       "  </tbody>\n",
       "</table>\n",
       "</div>"
      ],
      "text/plain": [
       "        bikes  pants  watches  shirts  shoes  suits  glasses\n",
       "shop 1   20.0   30.0     35.0    15.0    8.0   45.0      NaN\n",
       "shop 2   15.0    5.0     10.0     2.0    5.0    7.0     50.0\n",
       "shop 3   20.0   30.0     35.0    10.0   10.0    4.0      4.0"
      ]
     },
     "execution_count": 47,
     "metadata": {},
     "output_type": "execute_result"
    }
   ],
   "source": [
    "# backward filling across axis = 1\n",
    "dummy_df = df.fillna(method = 'backfill', axis = 1)\n",
    "dummy_df"
   ]
  },
  {
   "cell_type": "markdown",
   "id": "1765653e",
   "metadata": {
    "papermill": {
     "duration": 0.035361,
     "end_time": "2023-02-02T06:00:47.138267",
     "exception": false,
     "start_time": "2023-02-02T06:00:47.102906",
     "status": "completed"
    },
    "tags": []
   },
   "source": [
    "<a id = '5.'></a>\n",
    "# 5. Loading Data into DataFrame\n",
    "\n",
    "Now we will load data from a csv file into Pandas DataFrame using **Pandas.read_csv()**. In this notebook we will be using [Google Play Store](https://www.kaggle.com/datasets/whenamancodes/play-store-apps) dataset."
   ]
  },
  {
   "cell_type": "code",
   "execution_count": 48,
   "id": "962f6f6b",
   "metadata": {
    "execution": {
     "iopub.execute_input": "2023-02-02T06:00:47.210992Z",
     "iopub.status.busy": "2023-02-02T06:00:47.210151Z",
     "iopub.status.idle": "2023-02-02T06:00:47.315175Z",
     "shell.execute_reply": "2023-02-02T06:00:47.313778Z"
    },
    "papermill": {
     "duration": 0.144426,
     "end_time": "2023-02-02T06:00:47.317986",
     "exception": false,
     "start_time": "2023-02-02T06:00:47.173560",
     "status": "completed"
    },
    "tags": []
   },
   "outputs": [
    {
     "data": {
      "text/html": [
       "<div>\n",
       "<style scoped>\n",
       "    .dataframe tbody tr th:only-of-type {\n",
       "        vertical-align: middle;\n",
       "    }\n",
       "\n",
       "    .dataframe tbody tr th {\n",
       "        vertical-align: top;\n",
       "    }\n",
       "\n",
       "    .dataframe thead th {\n",
       "        text-align: right;\n",
       "    }\n",
       "</style>\n",
       "<table border=\"1\" class=\"dataframe\">\n",
       "  <thead>\n",
       "    <tr style=\"text-align: right;\">\n",
       "      <th></th>\n",
       "      <th>App</th>\n",
       "      <th>Category</th>\n",
       "      <th>Rating</th>\n",
       "      <th>Reviews</th>\n",
       "      <th>Size</th>\n",
       "      <th>Installs</th>\n",
       "      <th>Type</th>\n",
       "      <th>Price</th>\n",
       "      <th>Content Rating</th>\n",
       "      <th>Genres</th>\n",
       "      <th>Last Updated</th>\n",
       "      <th>Current Ver</th>\n",
       "      <th>Android Ver</th>\n",
       "    </tr>\n",
       "  </thead>\n",
       "  <tbody>\n",
       "    <tr>\n",
       "      <th>0</th>\n",
       "      <td>Photo Editor &amp; Candy Camera &amp; Grid &amp; ScrapBook</td>\n",
       "      <td>ART_AND_DESIGN</td>\n",
       "      <td>4.1</td>\n",
       "      <td>159</td>\n",
       "      <td>19M</td>\n",
       "      <td>10,000+</td>\n",
       "      <td>Free</td>\n",
       "      <td>0</td>\n",
       "      <td>Everyone</td>\n",
       "      <td>Art &amp; Design</td>\n",
       "      <td>January 7, 2018</td>\n",
       "      <td>1.0.0</td>\n",
       "      <td>4.0.3 and up</td>\n",
       "    </tr>\n",
       "    <tr>\n",
       "      <th>1</th>\n",
       "      <td>Coloring book moana</td>\n",
       "      <td>ART_AND_DESIGN</td>\n",
       "      <td>3.9</td>\n",
       "      <td>967</td>\n",
       "      <td>14M</td>\n",
       "      <td>500,000+</td>\n",
       "      <td>Free</td>\n",
       "      <td>0</td>\n",
       "      <td>Everyone</td>\n",
       "      <td>Art &amp; Design;Pretend Play</td>\n",
       "      <td>January 15, 2018</td>\n",
       "      <td>2.0.0</td>\n",
       "      <td>4.0.3 and up</td>\n",
       "    </tr>\n",
       "    <tr>\n",
       "      <th>2</th>\n",
       "      <td>U Launcher Lite – FREE Live Cool Themes, Hide ...</td>\n",
       "      <td>ART_AND_DESIGN</td>\n",
       "      <td>4.7</td>\n",
       "      <td>87510</td>\n",
       "      <td>8.7M</td>\n",
       "      <td>5,000,000+</td>\n",
       "      <td>Free</td>\n",
       "      <td>0</td>\n",
       "      <td>Everyone</td>\n",
       "      <td>Art &amp; Design</td>\n",
       "      <td>August 1, 2018</td>\n",
       "      <td>1.2.4</td>\n",
       "      <td>4.0.3 and up</td>\n",
       "    </tr>\n",
       "    <tr>\n",
       "      <th>3</th>\n",
       "      <td>Sketch - Draw &amp; Paint</td>\n",
       "      <td>ART_AND_DESIGN</td>\n",
       "      <td>4.5</td>\n",
       "      <td>215644</td>\n",
       "      <td>25M</td>\n",
       "      <td>50,000,000+</td>\n",
       "      <td>Free</td>\n",
       "      <td>0</td>\n",
       "      <td>Teen</td>\n",
       "      <td>Art &amp; Design</td>\n",
       "      <td>June 8, 2018</td>\n",
       "      <td>Varies with device</td>\n",
       "      <td>4.2 and up</td>\n",
       "    </tr>\n",
       "    <tr>\n",
       "      <th>4</th>\n",
       "      <td>Pixel Draw - Number Art Coloring Book</td>\n",
       "      <td>ART_AND_DESIGN</td>\n",
       "      <td>4.3</td>\n",
       "      <td>967</td>\n",
       "      <td>2.8M</td>\n",
       "      <td>100,000+</td>\n",
       "      <td>Free</td>\n",
       "      <td>0</td>\n",
       "      <td>Everyone</td>\n",
       "      <td>Art &amp; Design;Creativity</td>\n",
       "      <td>June 20, 2018</td>\n",
       "      <td>1.1</td>\n",
       "      <td>4.4 and up</td>\n",
       "    </tr>\n",
       "    <tr>\n",
       "      <th>...</th>\n",
       "      <td>...</td>\n",
       "      <td>...</td>\n",
       "      <td>...</td>\n",
       "      <td>...</td>\n",
       "      <td>...</td>\n",
       "      <td>...</td>\n",
       "      <td>...</td>\n",
       "      <td>...</td>\n",
       "      <td>...</td>\n",
       "      <td>...</td>\n",
       "      <td>...</td>\n",
       "      <td>...</td>\n",
       "      <td>...</td>\n",
       "    </tr>\n",
       "    <tr>\n",
       "      <th>10836</th>\n",
       "      <td>Sya9a Maroc - FR</td>\n",
       "      <td>FAMILY</td>\n",
       "      <td>4.5</td>\n",
       "      <td>38</td>\n",
       "      <td>53M</td>\n",
       "      <td>5,000+</td>\n",
       "      <td>Free</td>\n",
       "      <td>0</td>\n",
       "      <td>Everyone</td>\n",
       "      <td>Education</td>\n",
       "      <td>July 25, 2017</td>\n",
       "      <td>1.48</td>\n",
       "      <td>4.1 and up</td>\n",
       "    </tr>\n",
       "    <tr>\n",
       "      <th>10837</th>\n",
       "      <td>Fr. Mike Schmitz Audio Teachings</td>\n",
       "      <td>FAMILY</td>\n",
       "      <td>5.0</td>\n",
       "      <td>4</td>\n",
       "      <td>3.6M</td>\n",
       "      <td>100+</td>\n",
       "      <td>Free</td>\n",
       "      <td>0</td>\n",
       "      <td>Everyone</td>\n",
       "      <td>Education</td>\n",
       "      <td>July 6, 2018</td>\n",
       "      <td>1.0</td>\n",
       "      <td>4.1 and up</td>\n",
       "    </tr>\n",
       "    <tr>\n",
       "      <th>10838</th>\n",
       "      <td>Parkinson Exercices FR</td>\n",
       "      <td>MEDICAL</td>\n",
       "      <td>NaN</td>\n",
       "      <td>3</td>\n",
       "      <td>9.5M</td>\n",
       "      <td>1,000+</td>\n",
       "      <td>Free</td>\n",
       "      <td>0</td>\n",
       "      <td>Everyone</td>\n",
       "      <td>Medical</td>\n",
       "      <td>January 20, 2017</td>\n",
       "      <td>1.0</td>\n",
       "      <td>2.2 and up</td>\n",
       "    </tr>\n",
       "    <tr>\n",
       "      <th>10839</th>\n",
       "      <td>The SCP Foundation DB fr nn5n</td>\n",
       "      <td>BOOKS_AND_REFERENCE</td>\n",
       "      <td>4.5</td>\n",
       "      <td>114</td>\n",
       "      <td>Varies with device</td>\n",
       "      <td>1,000+</td>\n",
       "      <td>Free</td>\n",
       "      <td>0</td>\n",
       "      <td>Mature 17+</td>\n",
       "      <td>Books &amp; Reference</td>\n",
       "      <td>January 19, 2015</td>\n",
       "      <td>Varies with device</td>\n",
       "      <td>Varies with device</td>\n",
       "    </tr>\n",
       "    <tr>\n",
       "      <th>10840</th>\n",
       "      <td>iHoroscope - 2018 Daily Horoscope &amp; Astrology</td>\n",
       "      <td>LIFESTYLE</td>\n",
       "      <td>4.5</td>\n",
       "      <td>398307</td>\n",
       "      <td>19M</td>\n",
       "      <td>10,000,000+</td>\n",
       "      <td>Free</td>\n",
       "      <td>0</td>\n",
       "      <td>Everyone</td>\n",
       "      <td>Lifestyle</td>\n",
       "      <td>July 25, 2018</td>\n",
       "      <td>Varies with device</td>\n",
       "      <td>Varies with device</td>\n",
       "    </tr>\n",
       "  </tbody>\n",
       "</table>\n",
       "<p>10841 rows × 13 columns</p>\n",
       "</div>"
      ],
      "text/plain": [
       "                                                     App             Category  \\\n",
       "0         Photo Editor & Candy Camera & Grid & ScrapBook       ART_AND_DESIGN   \n",
       "1                                    Coloring book moana       ART_AND_DESIGN   \n",
       "2      U Launcher Lite – FREE Live Cool Themes, Hide ...       ART_AND_DESIGN   \n",
       "3                                  Sketch - Draw & Paint       ART_AND_DESIGN   \n",
       "4                  Pixel Draw - Number Art Coloring Book       ART_AND_DESIGN   \n",
       "...                                                  ...                  ...   \n",
       "10836                                   Sya9a Maroc - FR               FAMILY   \n",
       "10837                   Fr. Mike Schmitz Audio Teachings               FAMILY   \n",
       "10838                             Parkinson Exercices FR              MEDICAL   \n",
       "10839                      The SCP Foundation DB fr nn5n  BOOKS_AND_REFERENCE   \n",
       "10840      iHoroscope - 2018 Daily Horoscope & Astrology            LIFESTYLE   \n",
       "\n",
       "       Rating Reviews                Size     Installs  Type Price  \\\n",
       "0         4.1     159                 19M      10,000+  Free     0   \n",
       "1         3.9     967                 14M     500,000+  Free     0   \n",
       "2         4.7   87510                8.7M   5,000,000+  Free     0   \n",
       "3         4.5  215644                 25M  50,000,000+  Free     0   \n",
       "4         4.3     967                2.8M     100,000+  Free     0   \n",
       "...       ...     ...                 ...          ...   ...   ...   \n",
       "10836     4.5      38                 53M       5,000+  Free     0   \n",
       "10837     5.0       4                3.6M         100+  Free     0   \n",
       "10838     NaN       3                9.5M       1,000+  Free     0   \n",
       "10839     4.5     114  Varies with device       1,000+  Free     0   \n",
       "10840     4.5  398307                 19M  10,000,000+  Free     0   \n",
       "\n",
       "      Content Rating                     Genres      Last Updated  \\\n",
       "0           Everyone               Art & Design   January 7, 2018   \n",
       "1           Everyone  Art & Design;Pretend Play  January 15, 2018   \n",
       "2           Everyone               Art & Design    August 1, 2018   \n",
       "3               Teen               Art & Design      June 8, 2018   \n",
       "4           Everyone    Art & Design;Creativity     June 20, 2018   \n",
       "...              ...                        ...               ...   \n",
       "10836       Everyone                  Education     July 25, 2017   \n",
       "10837       Everyone                  Education      July 6, 2018   \n",
       "10838       Everyone                    Medical  January 20, 2017   \n",
       "10839     Mature 17+          Books & Reference  January 19, 2015   \n",
       "10840       Everyone                  Lifestyle     July 25, 2018   \n",
       "\n",
       "              Current Ver         Android Ver  \n",
       "0                   1.0.0        4.0.3 and up  \n",
       "1                   2.0.0        4.0.3 and up  \n",
       "2                   1.2.4        4.0.3 and up  \n",
       "3      Varies with device          4.2 and up  \n",
       "4                     1.1          4.4 and up  \n",
       "...                   ...                 ...  \n",
       "10836                1.48          4.1 and up  \n",
       "10837                 1.0          4.1 and up  \n",
       "10838                 1.0          2.2 and up  \n",
       "10839  Varies with device  Varies with device  \n",
       "10840  Varies with device  Varies with device  \n",
       "\n",
       "[10841 rows x 13 columns]"
      ]
     },
     "execution_count": 48,
     "metadata": {},
     "output_type": "execute_result"
    }
   ],
   "source": [
    "data = pd.read_csv(\"/kaggle/input/play-store-apps/googleplaystore.csv\")\n",
    "data"
   ]
  },
  {
   "cell_type": "markdown",
   "id": "df6b7e93",
   "metadata": {
    "papermill": {
     "duration": 0.035726,
     "end_time": "2023-02-02T06:00:47.390856",
     "exception": false,
     "start_time": "2023-02-02T06:00:47.355130",
     "status": "completed"
    },
    "tags": []
   },
   "source": [
    "<div class=\"alert alert-block alert-info\">\n",
    "    We can print the first and last 5 rows of a dataset by using <b>DataFrame.head()</b> and <b>DataFrame.tail()</b> mehtods, respectively. We can also optionally use <b>DataFrame.head(N)</b> or <b>DataFrame.tail(N)</b> to display first and last <i>N</i> rows of a data, respectively.\n",
    "</div>"
   ]
  },
  {
   "cell_type": "code",
   "execution_count": 49,
   "id": "c9bd36e0",
   "metadata": {
    "execution": {
     "iopub.execute_input": "2023-02-02T06:00:47.465217Z",
     "iopub.status.busy": "2023-02-02T06:00:47.464395Z",
     "iopub.status.idle": "2023-02-02T06:00:47.483049Z",
     "shell.execute_reply": "2023-02-02T06:00:47.481567Z"
    },
    "papermill": {
     "duration": 0.058401,
     "end_time": "2023-02-02T06:00:47.485338",
     "exception": false,
     "start_time": "2023-02-02T06:00:47.426937",
     "status": "completed"
    },
    "tags": []
   },
   "outputs": [
    {
     "data": {
      "text/html": [
       "<div>\n",
       "<style scoped>\n",
       "    .dataframe tbody tr th:only-of-type {\n",
       "        vertical-align: middle;\n",
       "    }\n",
       "\n",
       "    .dataframe tbody tr th {\n",
       "        vertical-align: top;\n",
       "    }\n",
       "\n",
       "    .dataframe thead th {\n",
       "        text-align: right;\n",
       "    }\n",
       "</style>\n",
       "<table border=\"1\" class=\"dataframe\">\n",
       "  <thead>\n",
       "    <tr style=\"text-align: right;\">\n",
       "      <th></th>\n",
       "      <th>App</th>\n",
       "      <th>Category</th>\n",
       "      <th>Rating</th>\n",
       "      <th>Reviews</th>\n",
       "      <th>Size</th>\n",
       "      <th>Installs</th>\n",
       "      <th>Type</th>\n",
       "      <th>Price</th>\n",
       "      <th>Content Rating</th>\n",
       "      <th>Genres</th>\n",
       "      <th>Last Updated</th>\n",
       "      <th>Current Ver</th>\n",
       "      <th>Android Ver</th>\n",
       "    </tr>\n",
       "  </thead>\n",
       "  <tbody>\n",
       "    <tr>\n",
       "      <th>0</th>\n",
       "      <td>Photo Editor &amp; Candy Camera &amp; Grid &amp; ScrapBook</td>\n",
       "      <td>ART_AND_DESIGN</td>\n",
       "      <td>4.1</td>\n",
       "      <td>159</td>\n",
       "      <td>19M</td>\n",
       "      <td>10,000+</td>\n",
       "      <td>Free</td>\n",
       "      <td>0</td>\n",
       "      <td>Everyone</td>\n",
       "      <td>Art &amp; Design</td>\n",
       "      <td>January 7, 2018</td>\n",
       "      <td>1.0.0</td>\n",
       "      <td>4.0.3 and up</td>\n",
       "    </tr>\n",
       "    <tr>\n",
       "      <th>1</th>\n",
       "      <td>Coloring book moana</td>\n",
       "      <td>ART_AND_DESIGN</td>\n",
       "      <td>3.9</td>\n",
       "      <td>967</td>\n",
       "      <td>14M</td>\n",
       "      <td>500,000+</td>\n",
       "      <td>Free</td>\n",
       "      <td>0</td>\n",
       "      <td>Everyone</td>\n",
       "      <td>Art &amp; Design;Pretend Play</td>\n",
       "      <td>January 15, 2018</td>\n",
       "      <td>2.0.0</td>\n",
       "      <td>4.0.3 and up</td>\n",
       "    </tr>\n",
       "    <tr>\n",
       "      <th>2</th>\n",
       "      <td>U Launcher Lite – FREE Live Cool Themes, Hide ...</td>\n",
       "      <td>ART_AND_DESIGN</td>\n",
       "      <td>4.7</td>\n",
       "      <td>87510</td>\n",
       "      <td>8.7M</td>\n",
       "      <td>5,000,000+</td>\n",
       "      <td>Free</td>\n",
       "      <td>0</td>\n",
       "      <td>Everyone</td>\n",
       "      <td>Art &amp; Design</td>\n",
       "      <td>August 1, 2018</td>\n",
       "      <td>1.2.4</td>\n",
       "      <td>4.0.3 and up</td>\n",
       "    </tr>\n",
       "    <tr>\n",
       "      <th>3</th>\n",
       "      <td>Sketch - Draw &amp; Paint</td>\n",
       "      <td>ART_AND_DESIGN</td>\n",
       "      <td>4.5</td>\n",
       "      <td>215644</td>\n",
       "      <td>25M</td>\n",
       "      <td>50,000,000+</td>\n",
       "      <td>Free</td>\n",
       "      <td>0</td>\n",
       "      <td>Teen</td>\n",
       "      <td>Art &amp; Design</td>\n",
       "      <td>June 8, 2018</td>\n",
       "      <td>Varies with device</td>\n",
       "      <td>4.2 and up</td>\n",
       "    </tr>\n",
       "    <tr>\n",
       "      <th>4</th>\n",
       "      <td>Pixel Draw - Number Art Coloring Book</td>\n",
       "      <td>ART_AND_DESIGN</td>\n",
       "      <td>4.3</td>\n",
       "      <td>967</td>\n",
       "      <td>2.8M</td>\n",
       "      <td>100,000+</td>\n",
       "      <td>Free</td>\n",
       "      <td>0</td>\n",
       "      <td>Everyone</td>\n",
       "      <td>Art &amp; Design;Creativity</td>\n",
       "      <td>June 20, 2018</td>\n",
       "      <td>1.1</td>\n",
       "      <td>4.4 and up</td>\n",
       "    </tr>\n",
       "  </tbody>\n",
       "</table>\n",
       "</div>"
      ],
      "text/plain": [
       "                                                 App        Category  Rating  \\\n",
       "0     Photo Editor & Candy Camera & Grid & ScrapBook  ART_AND_DESIGN     4.1   \n",
       "1                                Coloring book moana  ART_AND_DESIGN     3.9   \n",
       "2  U Launcher Lite – FREE Live Cool Themes, Hide ...  ART_AND_DESIGN     4.7   \n",
       "3                              Sketch - Draw & Paint  ART_AND_DESIGN     4.5   \n",
       "4              Pixel Draw - Number Art Coloring Book  ART_AND_DESIGN     4.3   \n",
       "\n",
       "  Reviews  Size     Installs  Type Price Content Rating  \\\n",
       "0     159   19M      10,000+  Free     0       Everyone   \n",
       "1     967   14M     500,000+  Free     0       Everyone   \n",
       "2   87510  8.7M   5,000,000+  Free     0       Everyone   \n",
       "3  215644   25M  50,000,000+  Free     0           Teen   \n",
       "4     967  2.8M     100,000+  Free     0       Everyone   \n",
       "\n",
       "                      Genres      Last Updated         Current Ver  \\\n",
       "0               Art & Design   January 7, 2018               1.0.0   \n",
       "1  Art & Design;Pretend Play  January 15, 2018               2.0.0   \n",
       "2               Art & Design    August 1, 2018               1.2.4   \n",
       "3               Art & Design      June 8, 2018  Varies with device   \n",
       "4    Art & Design;Creativity     June 20, 2018                 1.1   \n",
       "\n",
       "    Android Ver  \n",
       "0  4.0.3 and up  \n",
       "1  4.0.3 and up  \n",
       "2  4.0.3 and up  \n",
       "3    4.2 and up  \n",
       "4    4.4 and up  "
      ]
     },
     "execution_count": 49,
     "metadata": {},
     "output_type": "execute_result"
    }
   ],
   "source": [
    "data.head()"
   ]
  },
  {
   "cell_type": "code",
   "execution_count": 50,
   "id": "86963695",
   "metadata": {
    "execution": {
     "iopub.execute_input": "2023-02-02T06:00:47.560113Z",
     "iopub.status.busy": "2023-02-02T06:00:47.559677Z",
     "iopub.status.idle": "2023-02-02T06:00:47.577219Z",
     "shell.execute_reply": "2023-02-02T06:00:47.576304Z"
    },
    "papermill": {
     "duration": 0.057678,
     "end_time": "2023-02-02T06:00:47.579383",
     "exception": false,
     "start_time": "2023-02-02T06:00:47.521705",
     "status": "completed"
    },
    "tags": []
   },
   "outputs": [
    {
     "data": {
      "text/html": [
       "<div>\n",
       "<style scoped>\n",
       "    .dataframe tbody tr th:only-of-type {\n",
       "        vertical-align: middle;\n",
       "    }\n",
       "\n",
       "    .dataframe tbody tr th {\n",
       "        vertical-align: top;\n",
       "    }\n",
       "\n",
       "    .dataframe thead th {\n",
       "        text-align: right;\n",
       "    }\n",
       "</style>\n",
       "<table border=\"1\" class=\"dataframe\">\n",
       "  <thead>\n",
       "    <tr style=\"text-align: right;\">\n",
       "      <th></th>\n",
       "      <th>App</th>\n",
       "      <th>Category</th>\n",
       "      <th>Rating</th>\n",
       "      <th>Reviews</th>\n",
       "      <th>Size</th>\n",
       "      <th>Installs</th>\n",
       "      <th>Type</th>\n",
       "      <th>Price</th>\n",
       "      <th>Content Rating</th>\n",
       "      <th>Genres</th>\n",
       "      <th>Last Updated</th>\n",
       "      <th>Current Ver</th>\n",
       "      <th>Android Ver</th>\n",
       "    </tr>\n",
       "  </thead>\n",
       "  <tbody>\n",
       "    <tr>\n",
       "      <th>10836</th>\n",
       "      <td>Sya9a Maroc - FR</td>\n",
       "      <td>FAMILY</td>\n",
       "      <td>4.5</td>\n",
       "      <td>38</td>\n",
       "      <td>53M</td>\n",
       "      <td>5,000+</td>\n",
       "      <td>Free</td>\n",
       "      <td>0</td>\n",
       "      <td>Everyone</td>\n",
       "      <td>Education</td>\n",
       "      <td>July 25, 2017</td>\n",
       "      <td>1.48</td>\n",
       "      <td>4.1 and up</td>\n",
       "    </tr>\n",
       "    <tr>\n",
       "      <th>10837</th>\n",
       "      <td>Fr. Mike Schmitz Audio Teachings</td>\n",
       "      <td>FAMILY</td>\n",
       "      <td>5.0</td>\n",
       "      <td>4</td>\n",
       "      <td>3.6M</td>\n",
       "      <td>100+</td>\n",
       "      <td>Free</td>\n",
       "      <td>0</td>\n",
       "      <td>Everyone</td>\n",
       "      <td>Education</td>\n",
       "      <td>July 6, 2018</td>\n",
       "      <td>1.0</td>\n",
       "      <td>4.1 and up</td>\n",
       "    </tr>\n",
       "    <tr>\n",
       "      <th>10838</th>\n",
       "      <td>Parkinson Exercices FR</td>\n",
       "      <td>MEDICAL</td>\n",
       "      <td>NaN</td>\n",
       "      <td>3</td>\n",
       "      <td>9.5M</td>\n",
       "      <td>1,000+</td>\n",
       "      <td>Free</td>\n",
       "      <td>0</td>\n",
       "      <td>Everyone</td>\n",
       "      <td>Medical</td>\n",
       "      <td>January 20, 2017</td>\n",
       "      <td>1.0</td>\n",
       "      <td>2.2 and up</td>\n",
       "    </tr>\n",
       "    <tr>\n",
       "      <th>10839</th>\n",
       "      <td>The SCP Foundation DB fr nn5n</td>\n",
       "      <td>BOOKS_AND_REFERENCE</td>\n",
       "      <td>4.5</td>\n",
       "      <td>114</td>\n",
       "      <td>Varies with device</td>\n",
       "      <td>1,000+</td>\n",
       "      <td>Free</td>\n",
       "      <td>0</td>\n",
       "      <td>Mature 17+</td>\n",
       "      <td>Books &amp; Reference</td>\n",
       "      <td>January 19, 2015</td>\n",
       "      <td>Varies with device</td>\n",
       "      <td>Varies with device</td>\n",
       "    </tr>\n",
       "    <tr>\n",
       "      <th>10840</th>\n",
       "      <td>iHoroscope - 2018 Daily Horoscope &amp; Astrology</td>\n",
       "      <td>LIFESTYLE</td>\n",
       "      <td>4.5</td>\n",
       "      <td>398307</td>\n",
       "      <td>19M</td>\n",
       "      <td>10,000,000+</td>\n",
       "      <td>Free</td>\n",
       "      <td>0</td>\n",
       "      <td>Everyone</td>\n",
       "      <td>Lifestyle</td>\n",
       "      <td>July 25, 2018</td>\n",
       "      <td>Varies with device</td>\n",
       "      <td>Varies with device</td>\n",
       "    </tr>\n",
       "  </tbody>\n",
       "</table>\n",
       "</div>"
      ],
      "text/plain": [
       "                                                 App             Category  \\\n",
       "10836                               Sya9a Maroc - FR               FAMILY   \n",
       "10837               Fr. Mike Schmitz Audio Teachings               FAMILY   \n",
       "10838                         Parkinson Exercices FR              MEDICAL   \n",
       "10839                  The SCP Foundation DB fr nn5n  BOOKS_AND_REFERENCE   \n",
       "10840  iHoroscope - 2018 Daily Horoscope & Astrology            LIFESTYLE   \n",
       "\n",
       "       Rating Reviews                Size     Installs  Type Price  \\\n",
       "10836     4.5      38                 53M       5,000+  Free     0   \n",
       "10837     5.0       4                3.6M         100+  Free     0   \n",
       "10838     NaN       3                9.5M       1,000+  Free     0   \n",
       "10839     4.5     114  Varies with device       1,000+  Free     0   \n",
       "10840     4.5  398307                 19M  10,000,000+  Free     0   \n",
       "\n",
       "      Content Rating             Genres      Last Updated         Current Ver  \\\n",
       "10836       Everyone          Education     July 25, 2017                1.48   \n",
       "10837       Everyone          Education      July 6, 2018                 1.0   \n",
       "10838       Everyone            Medical  January 20, 2017                 1.0   \n",
       "10839     Mature 17+  Books & Reference  January 19, 2015  Varies with device   \n",
       "10840       Everyone          Lifestyle     July 25, 2018  Varies with device   \n",
       "\n",
       "              Android Ver  \n",
       "10836          4.1 and up  \n",
       "10837          4.1 and up  \n",
       "10838          2.2 and up  \n",
       "10839  Varies with device  \n",
       "10840  Varies with device  "
      ]
     },
     "execution_count": 50,
     "metadata": {},
     "output_type": "execute_result"
    }
   ],
   "source": [
    "data.tail()"
   ]
  },
  {
   "cell_type": "code",
   "execution_count": 51,
   "id": "b1462ada",
   "metadata": {
    "execution": {
     "iopub.execute_input": "2023-02-02T06:00:47.659720Z",
     "iopub.status.busy": "2023-02-02T06:00:47.658958Z",
     "iopub.status.idle": "2023-02-02T06:00:47.680944Z",
     "shell.execute_reply": "2023-02-02T06:00:47.679755Z"
    },
    "papermill": {
     "duration": 0.065836,
     "end_time": "2023-02-02T06:00:47.683573",
     "exception": false,
     "start_time": "2023-02-02T06:00:47.617737",
     "status": "completed"
    },
    "scrolled": true,
    "tags": []
   },
   "outputs": [
    {
     "data": {
      "text/html": [
       "<div>\n",
       "<style scoped>\n",
       "    .dataframe tbody tr th:only-of-type {\n",
       "        vertical-align: middle;\n",
       "    }\n",
       "\n",
       "    .dataframe tbody tr th {\n",
       "        vertical-align: top;\n",
       "    }\n",
       "\n",
       "    .dataframe thead th {\n",
       "        text-align: right;\n",
       "    }\n",
       "</style>\n",
       "<table border=\"1\" class=\"dataframe\">\n",
       "  <thead>\n",
       "    <tr style=\"text-align: right;\">\n",
       "      <th></th>\n",
       "      <th>App</th>\n",
       "      <th>Category</th>\n",
       "      <th>Rating</th>\n",
       "      <th>Reviews</th>\n",
       "      <th>Size</th>\n",
       "      <th>Installs</th>\n",
       "      <th>Type</th>\n",
       "      <th>Price</th>\n",
       "      <th>Content Rating</th>\n",
       "      <th>Genres</th>\n",
       "      <th>Last Updated</th>\n",
       "      <th>Current Ver</th>\n",
       "      <th>Android Ver</th>\n",
       "    </tr>\n",
       "  </thead>\n",
       "  <tbody>\n",
       "    <tr>\n",
       "      <th>0</th>\n",
       "      <td>Photo Editor &amp; Candy Camera &amp; Grid &amp; ScrapBook</td>\n",
       "      <td>ART_AND_DESIGN</td>\n",
       "      <td>4.1</td>\n",
       "      <td>159</td>\n",
       "      <td>19M</td>\n",
       "      <td>10,000+</td>\n",
       "      <td>Free</td>\n",
       "      <td>0</td>\n",
       "      <td>Everyone</td>\n",
       "      <td>Art &amp; Design</td>\n",
       "      <td>January 7, 2018</td>\n",
       "      <td>1.0.0</td>\n",
       "      <td>4.0.3 and up</td>\n",
       "    </tr>\n",
       "    <tr>\n",
       "      <th>1</th>\n",
       "      <td>Coloring book moana</td>\n",
       "      <td>ART_AND_DESIGN</td>\n",
       "      <td>3.9</td>\n",
       "      <td>967</td>\n",
       "      <td>14M</td>\n",
       "      <td>500,000+</td>\n",
       "      <td>Free</td>\n",
       "      <td>0</td>\n",
       "      <td>Everyone</td>\n",
       "      <td>Art &amp; Design;Pretend Play</td>\n",
       "      <td>January 15, 2018</td>\n",
       "      <td>2.0.0</td>\n",
       "      <td>4.0.3 and up</td>\n",
       "    </tr>\n",
       "    <tr>\n",
       "      <th>2</th>\n",
       "      <td>U Launcher Lite – FREE Live Cool Themes, Hide ...</td>\n",
       "      <td>ART_AND_DESIGN</td>\n",
       "      <td>4.7</td>\n",
       "      <td>87510</td>\n",
       "      <td>8.7M</td>\n",
       "      <td>5,000,000+</td>\n",
       "      <td>Free</td>\n",
       "      <td>0</td>\n",
       "      <td>Everyone</td>\n",
       "      <td>Art &amp; Design</td>\n",
       "      <td>August 1, 2018</td>\n",
       "      <td>1.2.4</td>\n",
       "      <td>4.0.3 and up</td>\n",
       "    </tr>\n",
       "    <tr>\n",
       "      <th>3</th>\n",
       "      <td>Sketch - Draw &amp; Paint</td>\n",
       "      <td>ART_AND_DESIGN</td>\n",
       "      <td>4.5</td>\n",
       "      <td>215644</td>\n",
       "      <td>25M</td>\n",
       "      <td>50,000,000+</td>\n",
       "      <td>Free</td>\n",
       "      <td>0</td>\n",
       "      <td>Teen</td>\n",
       "      <td>Art &amp; Design</td>\n",
       "      <td>June 8, 2018</td>\n",
       "      <td>Varies with device</td>\n",
       "      <td>4.2 and up</td>\n",
       "    </tr>\n",
       "    <tr>\n",
       "      <th>4</th>\n",
       "      <td>Pixel Draw - Number Art Coloring Book</td>\n",
       "      <td>ART_AND_DESIGN</td>\n",
       "      <td>4.3</td>\n",
       "      <td>967</td>\n",
       "      <td>2.8M</td>\n",
       "      <td>100,000+</td>\n",
       "      <td>Free</td>\n",
       "      <td>0</td>\n",
       "      <td>Everyone</td>\n",
       "      <td>Art &amp; Design;Creativity</td>\n",
       "      <td>June 20, 2018</td>\n",
       "      <td>1.1</td>\n",
       "      <td>4.4 and up</td>\n",
       "    </tr>\n",
       "    <tr>\n",
       "      <th>5</th>\n",
       "      <td>Paper flowers instructions</td>\n",
       "      <td>ART_AND_DESIGN</td>\n",
       "      <td>4.4</td>\n",
       "      <td>167</td>\n",
       "      <td>5.6M</td>\n",
       "      <td>50,000+</td>\n",
       "      <td>Free</td>\n",
       "      <td>0</td>\n",
       "      <td>Everyone</td>\n",
       "      <td>Art &amp; Design</td>\n",
       "      <td>March 26, 2017</td>\n",
       "      <td>1.0</td>\n",
       "      <td>2.3 and up</td>\n",
       "    </tr>\n",
       "    <tr>\n",
       "      <th>6</th>\n",
       "      <td>Smoke Effect Photo Maker - Smoke Editor</td>\n",
       "      <td>ART_AND_DESIGN</td>\n",
       "      <td>3.8</td>\n",
       "      <td>178</td>\n",
       "      <td>19M</td>\n",
       "      <td>50,000+</td>\n",
       "      <td>Free</td>\n",
       "      <td>0</td>\n",
       "      <td>Everyone</td>\n",
       "      <td>Art &amp; Design</td>\n",
       "      <td>April 26, 2018</td>\n",
       "      <td>1.1</td>\n",
       "      <td>4.0.3 and up</td>\n",
       "    </tr>\n",
       "    <tr>\n",
       "      <th>7</th>\n",
       "      <td>Infinite Painter</td>\n",
       "      <td>ART_AND_DESIGN</td>\n",
       "      <td>4.1</td>\n",
       "      <td>36815</td>\n",
       "      <td>29M</td>\n",
       "      <td>1,000,000+</td>\n",
       "      <td>Free</td>\n",
       "      <td>0</td>\n",
       "      <td>Everyone</td>\n",
       "      <td>Art &amp; Design</td>\n",
       "      <td>June 14, 2018</td>\n",
       "      <td>6.1.61.1</td>\n",
       "      <td>4.2 and up</td>\n",
       "    </tr>\n",
       "    <tr>\n",
       "      <th>8</th>\n",
       "      <td>Garden Coloring Book</td>\n",
       "      <td>ART_AND_DESIGN</td>\n",
       "      <td>4.4</td>\n",
       "      <td>13791</td>\n",
       "      <td>33M</td>\n",
       "      <td>1,000,000+</td>\n",
       "      <td>Free</td>\n",
       "      <td>0</td>\n",
       "      <td>Everyone</td>\n",
       "      <td>Art &amp; Design</td>\n",
       "      <td>September 20, 2017</td>\n",
       "      <td>2.9.2</td>\n",
       "      <td>3.0 and up</td>\n",
       "    </tr>\n",
       "    <tr>\n",
       "      <th>9</th>\n",
       "      <td>Kids Paint Free - Drawing Fun</td>\n",
       "      <td>ART_AND_DESIGN</td>\n",
       "      <td>4.7</td>\n",
       "      <td>121</td>\n",
       "      <td>3.1M</td>\n",
       "      <td>10,000+</td>\n",
       "      <td>Free</td>\n",
       "      <td>0</td>\n",
       "      <td>Everyone</td>\n",
       "      <td>Art &amp; Design;Creativity</td>\n",
       "      <td>July 3, 2018</td>\n",
       "      <td>2.8</td>\n",
       "      <td>4.0.3 and up</td>\n",
       "    </tr>\n",
       "  </tbody>\n",
       "</table>\n",
       "</div>"
      ],
      "text/plain": [
       "                                                 App        Category  Rating  \\\n",
       "0     Photo Editor & Candy Camera & Grid & ScrapBook  ART_AND_DESIGN     4.1   \n",
       "1                                Coloring book moana  ART_AND_DESIGN     3.9   \n",
       "2  U Launcher Lite – FREE Live Cool Themes, Hide ...  ART_AND_DESIGN     4.7   \n",
       "3                              Sketch - Draw & Paint  ART_AND_DESIGN     4.5   \n",
       "4              Pixel Draw - Number Art Coloring Book  ART_AND_DESIGN     4.3   \n",
       "5                         Paper flowers instructions  ART_AND_DESIGN     4.4   \n",
       "6            Smoke Effect Photo Maker - Smoke Editor  ART_AND_DESIGN     3.8   \n",
       "7                                   Infinite Painter  ART_AND_DESIGN     4.1   \n",
       "8                               Garden Coloring Book  ART_AND_DESIGN     4.4   \n",
       "9                      Kids Paint Free - Drawing Fun  ART_AND_DESIGN     4.7   \n",
       "\n",
       "  Reviews  Size     Installs  Type Price Content Rating  \\\n",
       "0     159   19M      10,000+  Free     0       Everyone   \n",
       "1     967   14M     500,000+  Free     0       Everyone   \n",
       "2   87510  8.7M   5,000,000+  Free     0       Everyone   \n",
       "3  215644   25M  50,000,000+  Free     0           Teen   \n",
       "4     967  2.8M     100,000+  Free     0       Everyone   \n",
       "5     167  5.6M      50,000+  Free     0       Everyone   \n",
       "6     178   19M      50,000+  Free     0       Everyone   \n",
       "7   36815   29M   1,000,000+  Free     0       Everyone   \n",
       "8   13791   33M   1,000,000+  Free     0       Everyone   \n",
       "9     121  3.1M      10,000+  Free     0       Everyone   \n",
       "\n",
       "                      Genres        Last Updated         Current Ver  \\\n",
       "0               Art & Design     January 7, 2018               1.0.0   \n",
       "1  Art & Design;Pretend Play    January 15, 2018               2.0.0   \n",
       "2               Art & Design      August 1, 2018               1.2.4   \n",
       "3               Art & Design        June 8, 2018  Varies with device   \n",
       "4    Art & Design;Creativity       June 20, 2018                 1.1   \n",
       "5               Art & Design      March 26, 2017                 1.0   \n",
       "6               Art & Design      April 26, 2018                 1.1   \n",
       "7               Art & Design       June 14, 2018            6.1.61.1   \n",
       "8               Art & Design  September 20, 2017               2.9.2   \n",
       "9    Art & Design;Creativity        July 3, 2018                 2.8   \n",
       "\n",
       "    Android Ver  \n",
       "0  4.0.3 and up  \n",
       "1  4.0.3 and up  \n",
       "2  4.0.3 and up  \n",
       "3    4.2 and up  \n",
       "4    4.4 and up  \n",
       "5    2.3 and up  \n",
       "6  4.0.3 and up  \n",
       "7    4.2 and up  \n",
       "8    3.0 and up  \n",
       "9  4.0.3 and up  "
      ]
     },
     "execution_count": 51,
     "metadata": {},
     "output_type": "execute_result"
    }
   ],
   "source": [
    "data.head(10)"
   ]
  },
  {
   "cell_type": "markdown",
   "id": "374006fe",
   "metadata": {
    "papermill": {
     "duration": 0.036516,
     "end_time": "2023-02-02T06:00:47.757779",
     "exception": false,
     "start_time": "2023-02-02T06:00:47.721263",
     "status": "completed"
    },
    "tags": []
   },
   "source": [
    "<div class=\"alert alert-block alert-info\">\n",
    "    We can also get the shape of data by using <b>shape</b> attribute. This will return a tuple where value at index 0 will be number of rows and value at index 1 will be number of columns.</div>"
   ]
  },
  {
   "cell_type": "code",
   "execution_count": 52,
   "id": "9bcea91a",
   "metadata": {
    "execution": {
     "iopub.execute_input": "2023-02-02T06:00:47.833560Z",
     "iopub.status.busy": "2023-02-02T06:00:47.833177Z",
     "iopub.status.idle": "2023-02-02T06:00:47.838813Z",
     "shell.execute_reply": "2023-02-02T06:00:47.838079Z"
    },
    "papermill": {
     "duration": 0.046273,
     "end_time": "2023-02-02T06:00:47.841030",
     "exception": false,
     "start_time": "2023-02-02T06:00:47.794757",
     "status": "completed"
    },
    "tags": []
   },
   "outputs": [
    {
     "data": {
      "text/plain": [
       "(10841, 13)"
      ]
     },
     "execution_count": 52,
     "metadata": {},
     "output_type": "execute_result"
    }
   ],
   "source": [
    "data.shape"
   ]
  },
  {
   "cell_type": "code",
   "execution_count": 53,
   "id": "df2db2b1",
   "metadata": {
    "execution": {
     "iopub.execute_input": "2023-02-02T06:00:47.918054Z",
     "iopub.status.busy": "2023-02-02T06:00:47.916899Z",
     "iopub.status.idle": "2023-02-02T06:00:47.923646Z",
     "shell.execute_reply": "2023-02-02T06:00:47.922599Z"
    },
    "papermill": {
     "duration": 0.048248,
     "end_time": "2023-02-02T06:00:47.926420",
     "exception": false,
     "start_time": "2023-02-02T06:00:47.878172",
     "status": "completed"
    },
    "tags": []
   },
   "outputs": [
    {
     "name": "stdout",
     "output_type": "stream",
     "text": [
      "Rows:  10841\n",
      "Columns:  13\n"
     ]
    }
   ],
   "source": [
    "print(\"Rows: \", data.shape[0])\n",
    "print(\"Columns: \", data.shape[1])"
   ]
  },
  {
   "cell_type": "markdown",
   "id": "11a71414",
   "metadata": {
    "papermill": {
     "duration": 0.037447,
     "end_time": "2023-02-02T06:00:48.002010",
     "exception": false,
     "start_time": "2023-02-02T06:00:47.964563",
     "status": "completed"
    },
    "tags": []
   },
   "source": [
    "### Dealing with NaN values\n",
    "\n",
    "<div class=\"alert alert-block alert-info\">\n",
    "Let's do a quick check to see whether we have any NaN values in our dataset. For this we will be using <b>DataFrame.isnull()</b> method followed by <b>any()</b> mehtod. This will return a boolean for each column label.</div>"
   ]
  },
  {
   "cell_type": "code",
   "execution_count": 54,
   "id": "514e398c",
   "metadata": {
    "execution": {
     "iopub.execute_input": "2023-02-02T06:00:48.080008Z",
     "iopub.status.busy": "2023-02-02T06:00:48.079570Z",
     "iopub.status.idle": "2023-02-02T06:00:48.094451Z",
     "shell.execute_reply": "2023-02-02T06:00:48.093414Z"
    },
    "papermill": {
     "duration": 0.057868,
     "end_time": "2023-02-02T06:00:48.097148",
     "exception": false,
     "start_time": "2023-02-02T06:00:48.039280",
     "status": "completed"
    },
    "tags": []
   },
   "outputs": [
    {
     "data": {
      "text/plain": [
       "App               False\n",
       "Category          False\n",
       "Rating             True\n",
       "Reviews           False\n",
       "Size              False\n",
       "Installs          False\n",
       "Type               True\n",
       "Price             False\n",
       "Content Rating     True\n",
       "Genres            False\n",
       "Last Updated      False\n",
       "Current Ver        True\n",
       "Android Ver        True\n",
       "dtype: bool"
      ]
     },
     "execution_count": 54,
     "metadata": {},
     "output_type": "execute_result"
    }
   ],
   "source": [
    "data.isnull().any()"
   ]
  },
  {
   "cell_type": "markdown",
   "id": "fe80456f",
   "metadata": {
    "papermill": {
     "duration": 0.037605,
     "end_time": "2023-02-02T06:00:48.172742",
     "exception": false,
     "start_time": "2023-02-02T06:00:48.135137",
     "status": "completed"
    },
    "tags": []
   },
   "source": [
    "<div class=\"alert alert-block alert-warning\">\n",
    "As our dataset contains NaN values, so we will be removing rows having NaN.</div>"
   ]
  },
  {
   "cell_type": "code",
   "execution_count": 55,
   "id": "5721d8e1",
   "metadata": {
    "execution": {
     "iopub.execute_input": "2023-02-02T06:00:48.250590Z",
     "iopub.status.busy": "2023-02-02T06:00:48.249588Z",
     "iopub.status.idle": "2023-02-02T06:00:48.278432Z",
     "shell.execute_reply": "2023-02-02T06:00:48.276779Z"
    },
    "papermill": {
     "duration": 0.070247,
     "end_time": "2023-02-02T06:00:48.280824",
     "exception": false,
     "start_time": "2023-02-02T06:00:48.210577",
     "status": "completed"
    },
    "tags": []
   },
   "outputs": [
    {
     "data": {
      "text/html": [
       "<div>\n",
       "<style scoped>\n",
       "    .dataframe tbody tr th:only-of-type {\n",
       "        vertical-align: middle;\n",
       "    }\n",
       "\n",
       "    .dataframe tbody tr th {\n",
       "        vertical-align: top;\n",
       "    }\n",
       "\n",
       "    .dataframe thead th {\n",
       "        text-align: right;\n",
       "    }\n",
       "</style>\n",
       "<table border=\"1\" class=\"dataframe\">\n",
       "  <thead>\n",
       "    <tr style=\"text-align: right;\">\n",
       "      <th></th>\n",
       "      <th>App</th>\n",
       "      <th>Category</th>\n",
       "      <th>Rating</th>\n",
       "      <th>Reviews</th>\n",
       "      <th>Size</th>\n",
       "      <th>Installs</th>\n",
       "      <th>Type</th>\n",
       "      <th>Price</th>\n",
       "      <th>Content Rating</th>\n",
       "      <th>Genres</th>\n",
       "      <th>Last Updated</th>\n",
       "      <th>Current Ver</th>\n",
       "      <th>Android Ver</th>\n",
       "    </tr>\n",
       "  </thead>\n",
       "  <tbody>\n",
       "    <tr>\n",
       "      <th>0</th>\n",
       "      <td>Photo Editor &amp; Candy Camera &amp; Grid &amp; ScrapBook</td>\n",
       "      <td>ART_AND_DESIGN</td>\n",
       "      <td>4.1</td>\n",
       "      <td>159</td>\n",
       "      <td>19M</td>\n",
       "      <td>10,000+</td>\n",
       "      <td>Free</td>\n",
       "      <td>0</td>\n",
       "      <td>Everyone</td>\n",
       "      <td>Art &amp; Design</td>\n",
       "      <td>January 7, 2018</td>\n",
       "      <td>1.0.0</td>\n",
       "      <td>4.0.3 and up</td>\n",
       "    </tr>\n",
       "    <tr>\n",
       "      <th>1</th>\n",
       "      <td>Coloring book moana</td>\n",
       "      <td>ART_AND_DESIGN</td>\n",
       "      <td>3.9</td>\n",
       "      <td>967</td>\n",
       "      <td>14M</td>\n",
       "      <td>500,000+</td>\n",
       "      <td>Free</td>\n",
       "      <td>0</td>\n",
       "      <td>Everyone</td>\n",
       "      <td>Art &amp; Design;Pretend Play</td>\n",
       "      <td>January 15, 2018</td>\n",
       "      <td>2.0.0</td>\n",
       "      <td>4.0.3 and up</td>\n",
       "    </tr>\n",
       "    <tr>\n",
       "      <th>2</th>\n",
       "      <td>U Launcher Lite – FREE Live Cool Themes, Hide ...</td>\n",
       "      <td>ART_AND_DESIGN</td>\n",
       "      <td>4.7</td>\n",
       "      <td>87510</td>\n",
       "      <td>8.7M</td>\n",
       "      <td>5,000,000+</td>\n",
       "      <td>Free</td>\n",
       "      <td>0</td>\n",
       "      <td>Everyone</td>\n",
       "      <td>Art &amp; Design</td>\n",
       "      <td>August 1, 2018</td>\n",
       "      <td>1.2.4</td>\n",
       "      <td>4.0.3 and up</td>\n",
       "    </tr>\n",
       "    <tr>\n",
       "      <th>3</th>\n",
       "      <td>Sketch - Draw &amp; Paint</td>\n",
       "      <td>ART_AND_DESIGN</td>\n",
       "      <td>4.5</td>\n",
       "      <td>215644</td>\n",
       "      <td>25M</td>\n",
       "      <td>50,000,000+</td>\n",
       "      <td>Free</td>\n",
       "      <td>0</td>\n",
       "      <td>Teen</td>\n",
       "      <td>Art &amp; Design</td>\n",
       "      <td>June 8, 2018</td>\n",
       "      <td>Varies with device</td>\n",
       "      <td>4.2 and up</td>\n",
       "    </tr>\n",
       "    <tr>\n",
       "      <th>4</th>\n",
       "      <td>Pixel Draw - Number Art Coloring Book</td>\n",
       "      <td>ART_AND_DESIGN</td>\n",
       "      <td>4.3</td>\n",
       "      <td>967</td>\n",
       "      <td>2.8M</td>\n",
       "      <td>100,000+</td>\n",
       "      <td>Free</td>\n",
       "      <td>0</td>\n",
       "      <td>Everyone</td>\n",
       "      <td>Art &amp; Design;Creativity</td>\n",
       "      <td>June 20, 2018</td>\n",
       "      <td>1.1</td>\n",
       "      <td>4.4 and up</td>\n",
       "    </tr>\n",
       "  </tbody>\n",
       "</table>\n",
       "</div>"
      ],
      "text/plain": [
       "                                                 App        Category  Rating  \\\n",
       "0     Photo Editor & Candy Camera & Grid & ScrapBook  ART_AND_DESIGN     4.1   \n",
       "1                                Coloring book moana  ART_AND_DESIGN     3.9   \n",
       "2  U Launcher Lite – FREE Live Cool Themes, Hide ...  ART_AND_DESIGN     4.7   \n",
       "3                              Sketch - Draw & Paint  ART_AND_DESIGN     4.5   \n",
       "4              Pixel Draw - Number Art Coloring Book  ART_AND_DESIGN     4.3   \n",
       "\n",
       "  Reviews  Size     Installs  Type Price Content Rating  \\\n",
       "0     159   19M      10,000+  Free     0       Everyone   \n",
       "1     967   14M     500,000+  Free     0       Everyone   \n",
       "2   87510  8.7M   5,000,000+  Free     0       Everyone   \n",
       "3  215644   25M  50,000,000+  Free     0           Teen   \n",
       "4     967  2.8M     100,000+  Free     0       Everyone   \n",
       "\n",
       "                      Genres      Last Updated         Current Ver  \\\n",
       "0               Art & Design   January 7, 2018               1.0.0   \n",
       "1  Art & Design;Pretend Play  January 15, 2018               2.0.0   \n",
       "2               Art & Design    August 1, 2018               1.2.4   \n",
       "3               Art & Design      June 8, 2018  Varies with device   \n",
       "4    Art & Design;Creativity     June 20, 2018                 1.1   \n",
       "\n",
       "    Android Ver  \n",
       "0  4.0.3 and up  \n",
       "1  4.0.3 and up  \n",
       "2  4.0.3 and up  \n",
       "3    4.2 and up  \n",
       "4    4.4 and up  "
      ]
     },
     "execution_count": 55,
     "metadata": {},
     "output_type": "execute_result"
    }
   ],
   "source": [
    "data.dropna(axis = 0, inplace = True)\n",
    "data.head()"
   ]
  },
  {
   "cell_type": "code",
   "execution_count": 56,
   "id": "0be160d2",
   "metadata": {
    "execution": {
     "iopub.execute_input": "2023-02-02T06:00:48.358702Z",
     "iopub.status.busy": "2023-02-02T06:00:48.357755Z",
     "iopub.status.idle": "2023-02-02T06:00:48.371506Z",
     "shell.execute_reply": "2023-02-02T06:00:48.370311Z"
    },
    "papermill": {
     "duration": 0.055096,
     "end_time": "2023-02-02T06:00:48.373932",
     "exception": false,
     "start_time": "2023-02-02T06:00:48.318836",
     "status": "completed"
    },
    "scrolled": true,
    "tags": []
   },
   "outputs": [
    {
     "data": {
      "text/plain": [
       "Varies with device    1415\n",
       "1.0                    458\n",
       "1.1                    194\n",
       "1.2                    126\n",
       "1.3                    120\n",
       "                      ... \n",
       "2.9.10                   1\n",
       "3.18.5                   1\n",
       "1.3.A.2.9                1\n",
       "9.9.1.1910               1\n",
       "0.3.4                    1\n",
       "Name: Current Ver, Length: 2638, dtype: int64"
      ]
     },
     "execution_count": 56,
     "metadata": {},
     "output_type": "execute_result"
    }
   ],
   "source": [
    "data['Current Ver'].value_counts()"
   ]
  },
  {
   "cell_type": "code",
   "execution_count": 57,
   "id": "94fdb7dd",
   "metadata": {
    "execution": {
     "iopub.execute_input": "2023-02-02T06:00:48.451714Z",
     "iopub.status.busy": "2023-02-02T06:00:48.451333Z",
     "iopub.status.idle": "2023-02-02T06:00:48.465651Z",
     "shell.execute_reply": "2023-02-02T06:00:48.464483Z"
    },
    "papermill": {
     "duration": 0.056278,
     "end_time": "2023-02-02T06:00:48.468020",
     "exception": false,
     "start_time": "2023-02-02T06:00:48.411742",
     "status": "completed"
    },
    "tags": []
   },
   "outputs": [
    {
     "data": {
      "text/plain": [
       "App               False\n",
       "Category          False\n",
       "Rating            False\n",
       "Reviews           False\n",
       "Size              False\n",
       "Installs          False\n",
       "Type              False\n",
       "Price             False\n",
       "Content Rating    False\n",
       "Genres            False\n",
       "Last Updated      False\n",
       "Current Ver       False\n",
       "Android Ver       False\n",
       "dtype: bool"
      ]
     },
     "execution_count": 57,
     "metadata": {},
     "output_type": "execute_result"
    }
   ],
   "source": [
    "data.isnull().any()"
   ]
  },
  {
   "cell_type": "markdown",
   "id": "10b749f3",
   "metadata": {
    "papermill": {
     "duration": 0.03807,
     "end_time": "2023-02-02T06:00:48.543851",
     "exception": false,
     "start_time": "2023-02-02T06:00:48.505781",
     "status": "completed"
    },
    "tags": []
   },
   "source": [
    "### Descriptive Statistics of the DataFrame\n",
    "\n",
    "<div class=\"alert alert-block alert-info\">\n",
    "    We can also get the descriptive statistics of the DataFrame using <b>DataFrame.describe()</b> method.\n",
    "</div>"
   ]
  },
  {
   "cell_type": "code",
   "execution_count": 58,
   "id": "91f1af6b",
   "metadata": {
    "execution": {
     "iopub.execute_input": "2023-02-02T06:00:48.624066Z",
     "iopub.status.busy": "2023-02-02T06:00:48.622710Z",
     "iopub.status.idle": "2023-02-02T06:00:48.642114Z",
     "shell.execute_reply": "2023-02-02T06:00:48.640843Z"
    },
    "papermill": {
     "duration": 0.061336,
     "end_time": "2023-02-02T06:00:48.644743",
     "exception": false,
     "start_time": "2023-02-02T06:00:48.583407",
     "status": "completed"
    },
    "tags": []
   },
   "outputs": [
    {
     "data": {
      "text/html": [
       "<div>\n",
       "<style scoped>\n",
       "    .dataframe tbody tr th:only-of-type {\n",
       "        vertical-align: middle;\n",
       "    }\n",
       "\n",
       "    .dataframe tbody tr th {\n",
       "        vertical-align: top;\n",
       "    }\n",
       "\n",
       "    .dataframe thead th {\n",
       "        text-align: right;\n",
       "    }\n",
       "</style>\n",
       "<table border=\"1\" class=\"dataframe\">\n",
       "  <thead>\n",
       "    <tr style=\"text-align: right;\">\n",
       "      <th></th>\n",
       "      <th>Rating</th>\n",
       "    </tr>\n",
       "  </thead>\n",
       "  <tbody>\n",
       "    <tr>\n",
       "      <th>count</th>\n",
       "      <td>9360.000000</td>\n",
       "    </tr>\n",
       "    <tr>\n",
       "      <th>mean</th>\n",
       "      <td>4.191838</td>\n",
       "    </tr>\n",
       "    <tr>\n",
       "      <th>std</th>\n",
       "      <td>0.515263</td>\n",
       "    </tr>\n",
       "    <tr>\n",
       "      <th>min</th>\n",
       "      <td>1.000000</td>\n",
       "    </tr>\n",
       "    <tr>\n",
       "      <th>25%</th>\n",
       "      <td>4.000000</td>\n",
       "    </tr>\n",
       "    <tr>\n",
       "      <th>50%</th>\n",
       "      <td>4.300000</td>\n",
       "    </tr>\n",
       "    <tr>\n",
       "      <th>75%</th>\n",
       "      <td>4.500000</td>\n",
       "    </tr>\n",
       "    <tr>\n",
       "      <th>max</th>\n",
       "      <td>5.000000</td>\n",
       "    </tr>\n",
       "  </tbody>\n",
       "</table>\n",
       "</div>"
      ],
      "text/plain": [
       "            Rating\n",
       "count  9360.000000\n",
       "mean      4.191838\n",
       "std       0.515263\n",
       "min       1.000000\n",
       "25%       4.000000\n",
       "50%       4.300000\n",
       "75%       4.500000\n",
       "max       5.000000"
      ]
     },
     "execution_count": 58,
     "metadata": {},
     "output_type": "execute_result"
    }
   ],
   "source": [
    "data.describe()"
   ]
  },
  {
   "cell_type": "markdown",
   "id": "412c4982",
   "metadata": {
    "papermill": {
     "duration": 0.037857,
     "end_time": "2023-02-02T06:00:48.722034",
     "exception": false,
     "start_time": "2023-02-02T06:00:48.684177",
     "status": "completed"
    },
    "tags": []
   },
   "source": [
    "<div class=\"alert alert-block alert-info\">\n",
    "    We can apply <b>describe()</b> method on a single column as well.</div>"
   ]
  },
  {
   "cell_type": "code",
   "execution_count": 59,
   "id": "2cd11ec0",
   "metadata": {
    "execution": {
     "iopub.execute_input": "2023-02-02T06:00:48.800102Z",
     "iopub.status.busy": "2023-02-02T06:00:48.799671Z",
     "iopub.status.idle": "2023-02-02T06:00:48.812986Z",
     "shell.execute_reply": "2023-02-02T06:00:48.812068Z"
    },
    "papermill": {
     "duration": 0.055207,
     "end_time": "2023-02-02T06:00:48.815199",
     "exception": false,
     "start_time": "2023-02-02T06:00:48.759992",
     "status": "completed"
    },
    "tags": []
   },
   "outputs": [
    {
     "data": {
      "text/plain": [
       "count    9360.000000\n",
       "mean        4.191838\n",
       "std         0.515263\n",
       "min         1.000000\n",
       "25%         4.000000\n",
       "50%         4.300000\n",
       "75%         4.500000\n",
       "max         5.000000\n",
       "Name: Rating, dtype: float64"
      ]
     },
     "execution_count": 59,
     "metadata": {},
     "output_type": "execute_result"
    }
   ],
   "source": [
    "data[\"Rating\"].describe()"
   ]
  },
  {
   "cell_type": "markdown",
   "id": "d8aec0e4",
   "metadata": {
    "papermill": {
     "duration": 0.038579,
     "end_time": "2023-02-02T06:00:48.891816",
     "exception": false,
     "start_time": "2023-02-02T06:00:48.853237",
     "status": "completed"
    },
    "tags": []
   },
   "source": [
    "<div class=\"alert alert-block alert-info\">\n",
    "We can also look at one of many statistical functions that Pandas provides.\n",
    "</div>\n",
    "\n",
    "Let's see some examples:"
   ]
  },
  {
   "cell_type": "code",
   "execution_count": 60,
   "id": "8847e192",
   "metadata": {
    "execution": {
     "iopub.execute_input": "2023-02-02T06:00:48.970251Z",
     "iopub.status.busy": "2023-02-02T06:00:48.969099Z",
     "iopub.status.idle": "2023-02-02T06:00:48.975837Z",
     "shell.execute_reply": "2023-02-02T06:00:48.975040Z"
    },
    "papermill": {
     "duration": 0.048074,
     "end_time": "2023-02-02T06:00:48.978008",
     "exception": false,
     "start_time": "2023-02-02T06:00:48.929934",
     "status": "completed"
    },
    "tags": []
   },
   "outputs": [
    {
     "data": {
      "text/plain": [
       "1.0"
      ]
     },
     "execution_count": 60,
     "metadata": {},
     "output_type": "execute_result"
    }
   ],
   "source": [
    "data[\"Rating\"].min()"
   ]
  },
  {
   "cell_type": "code",
   "execution_count": 61,
   "id": "0b29ae8f",
   "metadata": {
    "execution": {
     "iopub.execute_input": "2023-02-02T06:00:49.057815Z",
     "iopub.status.busy": "2023-02-02T06:00:49.056655Z",
     "iopub.status.idle": "2023-02-02T06:00:49.064046Z",
     "shell.execute_reply": "2023-02-02T06:00:49.062814Z"
    },
    "papermill": {
     "duration": 0.050192,
     "end_time": "2023-02-02T06:00:49.066463",
     "exception": false,
     "start_time": "2023-02-02T06:00:49.016271",
     "status": "completed"
    },
    "tags": []
   },
   "outputs": [
    {
     "data": {
      "text/plain": [
       "5.0"
      ]
     },
     "execution_count": 61,
     "metadata": {},
     "output_type": "execute_result"
    }
   ],
   "source": [
    "data[\"Rating\"].max()"
   ]
  },
  {
   "cell_type": "code",
   "execution_count": 62,
   "id": "218a59be",
   "metadata": {
    "execution": {
     "iopub.execute_input": "2023-02-02T06:00:49.157446Z",
     "iopub.status.busy": "2023-02-02T06:00:49.156838Z",
     "iopub.status.idle": "2023-02-02T06:00:49.165234Z",
     "shell.execute_reply": "2023-02-02T06:00:49.164231Z"
    },
    "papermill": {
     "duration": 0.061687,
     "end_time": "2023-02-02T06:00:49.167538",
     "exception": false,
     "start_time": "2023-02-02T06:00:49.105851",
     "status": "completed"
    },
    "tags": []
   },
   "outputs": [
    {
     "data": {
      "text/plain": [
       "4.191837606837606"
      ]
     },
     "execution_count": 62,
     "metadata": {},
     "output_type": "execute_result"
    }
   ],
   "source": [
    "data[\"Rating\"].mean()"
   ]
  },
  {
   "cell_type": "markdown",
   "id": "828935f9",
   "metadata": {
    "papermill": {
     "duration": 0.041199,
     "end_time": "2023-02-02T06:00:49.255508",
     "exception": false,
     "start_time": "2023-02-02T06:00:49.214309",
     "status": "completed"
    },
    "tags": []
   },
   "source": [
    "<div class=\"alert alert-block alert-info\">\n",
    "    We can also get the information about the DataFrame using <b>info()</b> method.</div>"
   ]
  },
  {
   "cell_type": "code",
   "execution_count": 63,
   "id": "bf084b2e",
   "metadata": {
    "execution": {
     "iopub.execute_input": "2023-02-02T06:00:49.338100Z",
     "iopub.status.busy": "2023-02-02T06:00:49.337632Z",
     "iopub.status.idle": "2023-02-02T06:00:49.360807Z",
     "shell.execute_reply": "2023-02-02T06:00:49.359008Z"
    },
    "papermill": {
     "duration": 0.066783,
     "end_time": "2023-02-02T06:00:49.363824",
     "exception": false,
     "start_time": "2023-02-02T06:00:49.297041",
     "status": "completed"
    },
    "tags": []
   },
   "outputs": [
    {
     "name": "stdout",
     "output_type": "stream",
     "text": [
      "<class 'pandas.core.frame.DataFrame'>\n",
      "Int64Index: 9360 entries, 0 to 10840\n",
      "Data columns (total 13 columns):\n",
      " #   Column          Non-Null Count  Dtype  \n",
      "---  ------          --------------  -----  \n",
      " 0   App             9360 non-null   object \n",
      " 1   Category        9360 non-null   object \n",
      " 2   Rating          9360 non-null   float64\n",
      " 3   Reviews         9360 non-null   object \n",
      " 4   Size            9360 non-null   object \n",
      " 5   Installs        9360 non-null   object \n",
      " 6   Type            9360 non-null   object \n",
      " 7   Price           9360 non-null   object \n",
      " 8   Content Rating  9360 non-null   object \n",
      " 9   Genres          9360 non-null   object \n",
      " 10  Last Updated    9360 non-null   object \n",
      " 11  Current Ver     9360 non-null   object \n",
      " 12  Android Ver     9360 non-null   object \n",
      "dtypes: float64(1), object(12)\n",
      "memory usage: 1023.8+ KB\n"
     ]
    }
   ],
   "source": [
    "data.info()"
   ]
  },
  {
   "cell_type": "markdown",
   "id": "d3e77553",
   "metadata": {
    "papermill": {
     "duration": 0.038543,
     "end_time": "2023-02-02T06:00:49.443202",
     "exception": false,
     "start_time": "2023-02-02T06:00:49.404659",
     "status": "completed"
    },
    "tags": []
   },
   "source": [
    "## Sorting rows of the DataFrame\n",
    "\n",
    "<div class=\"alert alert-block alert-info\">\n",
    "    We can sort the rows of a DataFrame using <b>sort_values()</b> method. In some cases where we have the same value (this is common if we sort on a categorical variable), we may wish to break the ties by sorting on another column. We can sort on multiple columns in this way by passing a list of multiple column names. <b>sort_values()</b> method sort values in ascending order by default but we can sort values in descending order by passing argument <i>ascesding = False</i>.\n",
    "</div>\n",
    "\n",
    "Let's see some examples:"
   ]
  },
  {
   "cell_type": "code",
   "execution_count": 64,
   "id": "4e2d0646",
   "metadata": {
    "execution": {
     "iopub.execute_input": "2023-02-02T06:00:49.522961Z",
     "iopub.status.busy": "2023-02-02T06:00:49.522187Z",
     "iopub.status.idle": "2023-02-02T06:00:49.547307Z",
     "shell.execute_reply": "2023-02-02T06:00:49.546432Z"
    },
    "papermill": {
     "duration": 0.067662,
     "end_time": "2023-02-02T06:00:49.549447",
     "exception": false,
     "start_time": "2023-02-02T06:00:49.481785",
     "status": "completed"
    },
    "tags": []
   },
   "outputs": [
    {
     "data": {
      "text/html": [
       "<div>\n",
       "<style scoped>\n",
       "    .dataframe tbody tr th:only-of-type {\n",
       "        vertical-align: middle;\n",
       "    }\n",
       "\n",
       "    .dataframe tbody tr th {\n",
       "        vertical-align: top;\n",
       "    }\n",
       "\n",
       "    .dataframe thead th {\n",
       "        text-align: right;\n",
       "    }\n",
       "</style>\n",
       "<table border=\"1\" class=\"dataframe\">\n",
       "  <thead>\n",
       "    <tr style=\"text-align: right;\">\n",
       "      <th></th>\n",
       "      <th>App</th>\n",
       "      <th>Category</th>\n",
       "      <th>Rating</th>\n",
       "      <th>Reviews</th>\n",
       "      <th>Size</th>\n",
       "      <th>Installs</th>\n",
       "      <th>Type</th>\n",
       "      <th>Price</th>\n",
       "      <th>Content Rating</th>\n",
       "      <th>Genres</th>\n",
       "      <th>Last Updated</th>\n",
       "      <th>Current Ver</th>\n",
       "      <th>Android Ver</th>\n",
       "    </tr>\n",
       "  </thead>\n",
       "  <tbody>\n",
       "    <tr>\n",
       "      <th>3043</th>\n",
       "      <td>DraftKings - Daily Fantasy Sports</td>\n",
       "      <td>SPORTS</td>\n",
       "      <td>4.5</td>\n",
       "      <td>50017</td>\n",
       "      <td>41M</td>\n",
       "      <td>1,000,000+</td>\n",
       "      <td>Free</td>\n",
       "      <td>0</td>\n",
       "      <td>Adults only 18+</td>\n",
       "      <td>Sports</td>\n",
       "      <td>July 24, 2018</td>\n",
       "      <td>3.21.324</td>\n",
       "      <td>4.4 and up</td>\n",
       "    </tr>\n",
       "    <tr>\n",
       "      <th>298</th>\n",
       "      <td>Manga Master - Best manga &amp; comic reader</td>\n",
       "      <td>COMICS</td>\n",
       "      <td>4.6</td>\n",
       "      <td>24005</td>\n",
       "      <td>4.9M</td>\n",
       "      <td>500,000+</td>\n",
       "      <td>Free</td>\n",
       "      <td>0</td>\n",
       "      <td>Adults only 18+</td>\n",
       "      <td>Comics</td>\n",
       "      <td>July 4, 2018</td>\n",
       "      <td>1.1.7.0</td>\n",
       "      <td>4.1 and up</td>\n",
       "    </tr>\n",
       "    <tr>\n",
       "      <th>6424</th>\n",
       "      <td>Manga Books</td>\n",
       "      <td>COMICS</td>\n",
       "      <td>3.8</td>\n",
       "      <td>7326</td>\n",
       "      <td>Varies with device</td>\n",
       "      <td>500,000+</td>\n",
       "      <td>Free</td>\n",
       "      <td>0</td>\n",
       "      <td>Adults only 18+</td>\n",
       "      <td>Comics</td>\n",
       "      <td>August 3, 2018</td>\n",
       "      <td>Varies with device</td>\n",
       "      <td>Varies with device</td>\n",
       "    </tr>\n",
       "    <tr>\n",
       "      <th>6454</th>\n",
       "      <td>BM Online OEC Verification</td>\n",
       "      <td>TOOLS</td>\n",
       "      <td>4.1</td>\n",
       "      <td>783</td>\n",
       "      <td>4.2M</td>\n",
       "      <td>100,000+</td>\n",
       "      <td>Free</td>\n",
       "      <td>0</td>\n",
       "      <td>Everyone</td>\n",
       "      <td>Tools</td>\n",
       "      <td>August 5, 2016</td>\n",
       "      <td>1.0.1</td>\n",
       "      <td>4.0.3 and up</td>\n",
       "    </tr>\n",
       "    <tr>\n",
       "      <th>6453</th>\n",
       "      <td>BM Wallet</td>\n",
       "      <td>FINANCE</td>\n",
       "      <td>4.2</td>\n",
       "      <td>798</td>\n",
       "      <td>29M</td>\n",
       "      <td>50,000+</td>\n",
       "      <td>Free</td>\n",
       "      <td>0</td>\n",
       "      <td>Everyone</td>\n",
       "      <td>Finance</td>\n",
       "      <td>January 3, 2018</td>\n",
       "      <td>1.0.46</td>\n",
       "      <td>4.0 and up</td>\n",
       "    </tr>\n",
       "  </tbody>\n",
       "</table>\n",
       "</div>"
      ],
      "text/plain": [
       "                                           App Category  Rating Reviews  \\\n",
       "3043         DraftKings - Daily Fantasy Sports   SPORTS     4.5   50017   \n",
       "298   Manga Master - Best manga & comic reader   COMICS     4.6   24005   \n",
       "6424                               Manga Books   COMICS     3.8    7326   \n",
       "6454                BM Online OEC Verification    TOOLS     4.1     783   \n",
       "6453                                 BM Wallet  FINANCE     4.2     798   \n",
       "\n",
       "                    Size    Installs  Type Price   Content Rating   Genres  \\\n",
       "3043                 41M  1,000,000+  Free     0  Adults only 18+   Sports   \n",
       "298                 4.9M    500,000+  Free     0  Adults only 18+   Comics   \n",
       "6424  Varies with device    500,000+  Free     0  Adults only 18+   Comics   \n",
       "6454                4.2M    100,000+  Free     0         Everyone    Tools   \n",
       "6453                 29M     50,000+  Free     0         Everyone  Finance   \n",
       "\n",
       "         Last Updated         Current Ver         Android Ver  \n",
       "3043    July 24, 2018            3.21.324          4.4 and up  \n",
       "298      July 4, 2018             1.1.7.0          4.1 and up  \n",
       "6424   August 3, 2018  Varies with device  Varies with device  \n",
       "6454   August 5, 2016               1.0.1        4.0.3 and up  \n",
       "6453  January 3, 2018              1.0.46          4.0 and up  "
      ]
     },
     "execution_count": 64,
     "metadata": {},
     "output_type": "execute_result"
    }
   ],
   "source": [
    "# sorting in ascending order\n",
    "data_by_content =  data.sort_values(\"Content Rating\")\n",
    "data_by_content.head()"
   ]
  },
  {
   "cell_type": "code",
   "execution_count": 65,
   "id": "1b232012",
   "metadata": {
    "execution": {
     "iopub.execute_input": "2023-02-02T06:00:49.632201Z",
     "iopub.status.busy": "2023-02-02T06:00:49.630993Z",
     "iopub.status.idle": "2023-02-02T06:00:49.657765Z",
     "shell.execute_reply": "2023-02-02T06:00:49.656502Z"
    },
    "papermill": {
     "duration": 0.07064,
     "end_time": "2023-02-02T06:00:49.660178",
     "exception": false,
     "start_time": "2023-02-02T06:00:49.589538",
     "status": "completed"
    },
    "tags": []
   },
   "outputs": [
    {
     "data": {
      "text/html": [
       "<div>\n",
       "<style scoped>\n",
       "    .dataframe tbody tr th:only-of-type {\n",
       "        vertical-align: middle;\n",
       "    }\n",
       "\n",
       "    .dataframe tbody tr th {\n",
       "        vertical-align: top;\n",
       "    }\n",
       "\n",
       "    .dataframe thead th {\n",
       "        text-align: right;\n",
       "    }\n",
       "</style>\n",
       "<table border=\"1\" class=\"dataframe\">\n",
       "  <thead>\n",
       "    <tr style=\"text-align: right;\">\n",
       "      <th></th>\n",
       "      <th>App</th>\n",
       "      <th>Category</th>\n",
       "      <th>Rating</th>\n",
       "      <th>Reviews</th>\n",
       "      <th>Size</th>\n",
       "      <th>Installs</th>\n",
       "      <th>Type</th>\n",
       "      <th>Price</th>\n",
       "      <th>Content Rating</th>\n",
       "      <th>Genres</th>\n",
       "      <th>Last Updated</th>\n",
       "      <th>Current Ver</th>\n",
       "      <th>Android Ver</th>\n",
       "    </tr>\n",
       "  </thead>\n",
       "  <tbody>\n",
       "    <tr>\n",
       "      <th>8266</th>\n",
       "      <td>DC Universe Online Map</td>\n",
       "      <td>TOOLS</td>\n",
       "      <td>4.1</td>\n",
       "      <td>1186</td>\n",
       "      <td>6.4M</td>\n",
       "      <td>50,000+</td>\n",
       "      <td>Free</td>\n",
       "      <td>0</td>\n",
       "      <td>Unrated</td>\n",
       "      <td>Tools</td>\n",
       "      <td>February 27, 2012</td>\n",
       "      <td>1.3</td>\n",
       "      <td>2.3.3 and up</td>\n",
       "    </tr>\n",
       "    <tr>\n",
       "      <th>2768</th>\n",
       "      <td>Etsy: Handmade &amp; Vintage Goods</td>\n",
       "      <td>SHOPPING</td>\n",
       "      <td>4.3</td>\n",
       "      <td>95520</td>\n",
       "      <td>15M</td>\n",
       "      <td>10,000,000+</td>\n",
       "      <td>Free</td>\n",
       "      <td>0</td>\n",
       "      <td>Teen</td>\n",
       "      <td>Shopping</td>\n",
       "      <td>August 3, 2018</td>\n",
       "      <td>5.3.1</td>\n",
       "      <td>4.1 and up</td>\n",
       "    </tr>\n",
       "    <tr>\n",
       "      <th>3737</th>\n",
       "      <td>Opera News - Trending news and videos</td>\n",
       "      <td>NEWS_AND_MAGAZINES</td>\n",
       "      <td>4.5</td>\n",
       "      <td>51684</td>\n",
       "      <td>8.5M</td>\n",
       "      <td>10,000,000+</td>\n",
       "      <td>Free</td>\n",
       "      <td>0</td>\n",
       "      <td>Teen</td>\n",
       "      <td>News &amp; Magazines</td>\n",
       "      <td>July 31, 2018</td>\n",
       "      <td>4.2.2254.129147</td>\n",
       "      <td>Varies with device</td>\n",
       "    </tr>\n",
       "    <tr>\n",
       "      <th>7287</th>\n",
       "      <td>All Info about Cg</td>\n",
       "      <td>FAMILY</td>\n",
       "      <td>4.7</td>\n",
       "      <td>15</td>\n",
       "      <td>4.1M</td>\n",
       "      <td>1,000+</td>\n",
       "      <td>Free</td>\n",
       "      <td>0</td>\n",
       "      <td>Teen</td>\n",
       "      <td>Education</td>\n",
       "      <td>November 10, 2017</td>\n",
       "      <td>7.4</td>\n",
       "      <td>2.3 and up</td>\n",
       "    </tr>\n",
       "    <tr>\n",
       "      <th>9853</th>\n",
       "      <td>Amino: Communities and Chats</td>\n",
       "      <td>SOCIAL</td>\n",
       "      <td>4.8</td>\n",
       "      <td>1264084</td>\n",
       "      <td>62M</td>\n",
       "      <td>10,000,000+</td>\n",
       "      <td>Free</td>\n",
       "      <td>0</td>\n",
       "      <td>Teen</td>\n",
       "      <td>Social</td>\n",
       "      <td>August 7, 2018</td>\n",
       "      <td>1.8.19179</td>\n",
       "      <td>4.0.3 and up</td>\n",
       "    </tr>\n",
       "  </tbody>\n",
       "</table>\n",
       "</div>"
      ],
      "text/plain": [
       "                                        App            Category  Rating  \\\n",
       "8266                 DC Universe Online Map               TOOLS     4.1   \n",
       "2768         Etsy: Handmade & Vintage Goods            SHOPPING     4.3   \n",
       "3737  Opera News - Trending news and videos  NEWS_AND_MAGAZINES     4.5   \n",
       "7287                      All Info about Cg              FAMILY     4.7   \n",
       "9853           Amino: Communities and Chats              SOCIAL     4.8   \n",
       "\n",
       "      Reviews  Size     Installs  Type Price Content Rating            Genres  \\\n",
       "8266     1186  6.4M      50,000+  Free     0        Unrated             Tools   \n",
       "2768    95520   15M  10,000,000+  Free     0           Teen          Shopping   \n",
       "3737    51684  8.5M  10,000,000+  Free     0           Teen  News & Magazines   \n",
       "7287       15  4.1M       1,000+  Free     0           Teen         Education   \n",
       "9853  1264084   62M  10,000,000+  Free     0           Teen            Social   \n",
       "\n",
       "           Last Updated      Current Ver         Android Ver  \n",
       "8266  February 27, 2012              1.3        2.3.3 and up  \n",
       "2768     August 3, 2018            5.3.1          4.1 and up  \n",
       "3737      July 31, 2018  4.2.2254.129147  Varies with device  \n",
       "7287  November 10, 2017              7.4          2.3 and up  \n",
       "9853     August 7, 2018        1.8.19179        4.0.3 and up  "
      ]
     },
     "execution_count": 65,
     "metadata": {},
     "output_type": "execute_result"
    }
   ],
   "source": [
    "# sorting in descending order\n",
    "data_by_content =  data.sort_values(\"Content Rating\", ascending = False)\n",
    "data_by_content.head()"
   ]
  },
  {
   "cell_type": "code",
   "execution_count": 66,
   "id": "13d5719a",
   "metadata": {
    "execution": {
     "iopub.execute_input": "2023-02-02T06:00:49.740777Z",
     "iopub.status.busy": "2023-02-02T06:00:49.740356Z",
     "iopub.status.idle": "2023-02-02T06:00:49.766758Z",
     "shell.execute_reply": "2023-02-02T06:00:49.765617Z"
    },
    "papermill": {
     "duration": 0.0703,
     "end_time": "2023-02-02T06:00:49.769614",
     "exception": false,
     "start_time": "2023-02-02T06:00:49.699314",
     "status": "completed"
    },
    "tags": []
   },
   "outputs": [
    {
     "data": {
      "text/html": [
       "<div>\n",
       "<style scoped>\n",
       "    .dataframe tbody tr th:only-of-type {\n",
       "        vertical-align: middle;\n",
       "    }\n",
       "\n",
       "    .dataframe tbody tr th {\n",
       "        vertical-align: top;\n",
       "    }\n",
       "\n",
       "    .dataframe thead th {\n",
       "        text-align: right;\n",
       "    }\n",
       "</style>\n",
       "<table border=\"1\" class=\"dataframe\">\n",
       "  <thead>\n",
       "    <tr style=\"text-align: right;\">\n",
       "      <th></th>\n",
       "      <th>App</th>\n",
       "      <th>Category</th>\n",
       "      <th>Rating</th>\n",
       "      <th>Reviews</th>\n",
       "      <th>Size</th>\n",
       "      <th>Installs</th>\n",
       "      <th>Type</th>\n",
       "      <th>Price</th>\n",
       "      <th>Content Rating</th>\n",
       "      <th>Genres</th>\n",
       "      <th>Last Updated</th>\n",
       "      <th>Current Ver</th>\n",
       "      <th>Android Ver</th>\n",
       "    </tr>\n",
       "  </thead>\n",
       "  <tbody>\n",
       "    <tr>\n",
       "      <th>298</th>\n",
       "      <td>Manga Master - Best manga &amp; comic reader</td>\n",
       "      <td>COMICS</td>\n",
       "      <td>4.6</td>\n",
       "      <td>24005</td>\n",
       "      <td>4.9M</td>\n",
       "      <td>500,000+</td>\n",
       "      <td>Free</td>\n",
       "      <td>0</td>\n",
       "      <td>Adults only 18+</td>\n",
       "      <td>Comics</td>\n",
       "      <td>July 4, 2018</td>\n",
       "      <td>1.1.7.0</td>\n",
       "      <td>4.1 and up</td>\n",
       "    </tr>\n",
       "    <tr>\n",
       "      <th>6424</th>\n",
       "      <td>Manga Books</td>\n",
       "      <td>COMICS</td>\n",
       "      <td>3.8</td>\n",
       "      <td>7326</td>\n",
       "      <td>Varies with device</td>\n",
       "      <td>500,000+</td>\n",
       "      <td>Free</td>\n",
       "      <td>0</td>\n",
       "      <td>Adults only 18+</td>\n",
       "      <td>Comics</td>\n",
       "      <td>August 3, 2018</td>\n",
       "      <td>Varies with device</td>\n",
       "      <td>Varies with device</td>\n",
       "    </tr>\n",
       "    <tr>\n",
       "      <th>3043</th>\n",
       "      <td>DraftKings - Daily Fantasy Sports</td>\n",
       "      <td>SPORTS</td>\n",
       "      <td>4.5</td>\n",
       "      <td>50017</td>\n",
       "      <td>41M</td>\n",
       "      <td>1,000,000+</td>\n",
       "      <td>Free</td>\n",
       "      <td>0</td>\n",
       "      <td>Adults only 18+</td>\n",
       "      <td>Sports</td>\n",
       "      <td>July 24, 2018</td>\n",
       "      <td>3.21.324</td>\n",
       "      <td>4.4 and up</td>\n",
       "    </tr>\n",
       "    <tr>\n",
       "      <th>1659</th>\n",
       "      <td>slither.io</td>\n",
       "      <td>GAME</td>\n",
       "      <td>4.4</td>\n",
       "      <td>5234162</td>\n",
       "      <td>Varies with device</td>\n",
       "      <td>100,000,000+</td>\n",
       "      <td>Free</td>\n",
       "      <td>0</td>\n",
       "      <td>Everyone</td>\n",
       "      <td>Action</td>\n",
       "      <td>November 14, 2017</td>\n",
       "      <td>Varies with device</td>\n",
       "      <td>2.3 and up</td>\n",
       "    </tr>\n",
       "    <tr>\n",
       "      <th>1661</th>\n",
       "      <td>Temple Run 2</td>\n",
       "      <td>GAME</td>\n",
       "      <td>4.3</td>\n",
       "      <td>8118609</td>\n",
       "      <td>62M</td>\n",
       "      <td>500,000,000+</td>\n",
       "      <td>Free</td>\n",
       "      <td>0</td>\n",
       "      <td>Everyone</td>\n",
       "      <td>Action</td>\n",
       "      <td>July 5, 2018</td>\n",
       "      <td>1.49.1</td>\n",
       "      <td>4.0 and up</td>\n",
       "    </tr>\n",
       "  </tbody>\n",
       "</table>\n",
       "</div>"
      ],
      "text/plain": [
       "                                           App Category  Rating  Reviews  \\\n",
       "298   Manga Master - Best manga & comic reader   COMICS     4.6    24005   \n",
       "6424                               Manga Books   COMICS     3.8     7326   \n",
       "3043         DraftKings - Daily Fantasy Sports   SPORTS     4.5    50017   \n",
       "1659                                slither.io     GAME     4.4  5234162   \n",
       "1661                              Temple Run 2     GAME     4.3  8118609   \n",
       "\n",
       "                    Size      Installs  Type Price   Content Rating  Genres  \\\n",
       "298                 4.9M      500,000+  Free     0  Adults only 18+  Comics   \n",
       "6424  Varies with device      500,000+  Free     0  Adults only 18+  Comics   \n",
       "3043                 41M    1,000,000+  Free     0  Adults only 18+  Sports   \n",
       "1659  Varies with device  100,000,000+  Free     0         Everyone  Action   \n",
       "1661                 62M  500,000,000+  Free     0         Everyone  Action   \n",
       "\n",
       "           Last Updated         Current Ver         Android Ver  \n",
       "298        July 4, 2018             1.1.7.0          4.1 and up  \n",
       "6424     August 3, 2018  Varies with device  Varies with device  \n",
       "3043      July 24, 2018            3.21.324          4.4 and up  \n",
       "1659  November 14, 2017  Varies with device          2.3 and up  \n",
       "1661       July 5, 2018              1.49.1          4.0 and up  "
      ]
     },
     "execution_count": 66,
     "metadata": {},
     "output_type": "execute_result"
    }
   ],
   "source": [
    "# sorting by multiple columns\n",
    "sorted_data = data.sort_values([\"Content Rating\", \"Genres\"])\n",
    "sorted_data.head()"
   ]
  },
  {
   "cell_type": "markdown",
   "id": "7ffdc98e",
   "metadata": {
    "papermill": {
     "duration": 0.039175,
     "end_time": "2023-02-02T06:00:49.848629",
     "exception": false,
     "start_time": "2023-02-02T06:00:49.809454",
     "status": "completed"
    },
    "tags": []
   },
   "source": [
    "### Subsetting Columns of the DataFame\n",
    "\n",
    "<div class=\"alert alert-block alert-info\">\n",
    "We can subset a single or multiple columns by using square brackets \"[ ]\".\n",
    "</div>\n",
    "\n",
    "Let's have some examples:"
   ]
  },
  {
   "cell_type": "code",
   "execution_count": 67,
   "id": "38e9c10a",
   "metadata": {
    "execution": {
     "iopub.execute_input": "2023-02-02T06:00:49.930134Z",
     "iopub.status.busy": "2023-02-02T06:00:49.929699Z",
     "iopub.status.idle": "2023-02-02T06:00:49.939931Z",
     "shell.execute_reply": "2023-02-02T06:00:49.939088Z"
    },
    "papermill": {
     "duration": 0.053572,
     "end_time": "2023-02-02T06:00:49.941975",
     "exception": false,
     "start_time": "2023-02-02T06:00:49.888403",
     "status": "completed"
    },
    "tags": []
   },
   "outputs": [
    {
     "data": {
      "text/html": [
       "<div>\n",
       "<style scoped>\n",
       "    .dataframe tbody tr th:only-of-type {\n",
       "        vertical-align: middle;\n",
       "    }\n",
       "\n",
       "    .dataframe tbody tr th {\n",
       "        vertical-align: top;\n",
       "    }\n",
       "\n",
       "    .dataframe thead th {\n",
       "        text-align: right;\n",
       "    }\n",
       "</style>\n",
       "<table border=\"1\" class=\"dataframe\">\n",
       "  <thead>\n",
       "    <tr style=\"text-align: right;\">\n",
       "      <th></th>\n",
       "      <th>Category</th>\n",
       "    </tr>\n",
       "  </thead>\n",
       "  <tbody>\n",
       "    <tr>\n",
       "      <th>0</th>\n",
       "      <td>ART_AND_DESIGN</td>\n",
       "    </tr>\n",
       "    <tr>\n",
       "      <th>1</th>\n",
       "      <td>ART_AND_DESIGN</td>\n",
       "    </tr>\n",
       "    <tr>\n",
       "      <th>2</th>\n",
       "      <td>ART_AND_DESIGN</td>\n",
       "    </tr>\n",
       "    <tr>\n",
       "      <th>3</th>\n",
       "      <td>ART_AND_DESIGN</td>\n",
       "    </tr>\n",
       "    <tr>\n",
       "      <th>4</th>\n",
       "      <td>ART_AND_DESIGN</td>\n",
       "    </tr>\n",
       "  </tbody>\n",
       "</table>\n",
       "</div>"
      ],
      "text/plain": [
       "         Category\n",
       "0  ART_AND_DESIGN\n",
       "1  ART_AND_DESIGN\n",
       "2  ART_AND_DESIGN\n",
       "3  ART_AND_DESIGN\n",
       "4  ART_AND_DESIGN"
      ]
     },
     "execution_count": 67,
     "metadata": {},
     "output_type": "execute_result"
    }
   ],
   "source": [
    "sub_data = data[['Category']]\n",
    "sub_data.head()"
   ]
  },
  {
   "cell_type": "code",
   "execution_count": 68,
   "id": "ed02ce19",
   "metadata": {
    "execution": {
     "iopub.execute_input": "2023-02-02T06:00:50.024550Z",
     "iopub.status.busy": "2023-02-02T06:00:50.023855Z",
     "iopub.status.idle": "2023-02-02T06:00:50.034343Z",
     "shell.execute_reply": "2023-02-02T06:00:50.033469Z"
    },
    "papermill": {
     "duration": 0.054164,
     "end_time": "2023-02-02T06:00:50.036495",
     "exception": false,
     "start_time": "2023-02-02T06:00:49.982331",
     "status": "completed"
    },
    "tags": []
   },
   "outputs": [
    {
     "data": {
      "text/html": [
       "<div>\n",
       "<style scoped>\n",
       "    .dataframe tbody tr th:only-of-type {\n",
       "        vertical-align: middle;\n",
       "    }\n",
       "\n",
       "    .dataframe tbody tr th {\n",
       "        vertical-align: top;\n",
       "    }\n",
       "\n",
       "    .dataframe thead th {\n",
       "        text-align: right;\n",
       "    }\n",
       "</style>\n",
       "<table border=\"1\" class=\"dataframe\">\n",
       "  <thead>\n",
       "    <tr style=\"text-align: right;\">\n",
       "      <th></th>\n",
       "      <th>Current Ver</th>\n",
       "      <th>Android Ver</th>\n",
       "    </tr>\n",
       "  </thead>\n",
       "  <tbody>\n",
       "    <tr>\n",
       "      <th>0</th>\n",
       "      <td>1.0.0</td>\n",
       "      <td>4.0.3 and up</td>\n",
       "    </tr>\n",
       "    <tr>\n",
       "      <th>1</th>\n",
       "      <td>2.0.0</td>\n",
       "      <td>4.0.3 and up</td>\n",
       "    </tr>\n",
       "    <tr>\n",
       "      <th>2</th>\n",
       "      <td>1.2.4</td>\n",
       "      <td>4.0.3 and up</td>\n",
       "    </tr>\n",
       "    <tr>\n",
       "      <th>3</th>\n",
       "      <td>Varies with device</td>\n",
       "      <td>4.2 and up</td>\n",
       "    </tr>\n",
       "    <tr>\n",
       "      <th>4</th>\n",
       "      <td>1.1</td>\n",
       "      <td>4.4 and up</td>\n",
       "    </tr>\n",
       "  </tbody>\n",
       "</table>\n",
       "</div>"
      ],
      "text/plain": [
       "          Current Ver   Android Ver\n",
       "0               1.0.0  4.0.3 and up\n",
       "1               2.0.0  4.0.3 and up\n",
       "2               1.2.4  4.0.3 and up\n",
       "3  Varies with device    4.2 and up\n",
       "4                 1.1    4.4 and up"
      ]
     },
     "execution_count": 68,
     "metadata": {},
     "output_type": "execute_result"
    }
   ],
   "source": [
    "# Creating a DataFrame that only contains 'Current Ver' & 'Android Ver'\n",
    "ver_data = data[[\"Current Ver\", \"Android Ver\"]]\n",
    "ver_data.head()"
   ]
  },
  {
   "cell_type": "markdown",
   "id": "7180eb3f",
   "metadata": {
    "papermill": {
     "duration": 0.039859,
     "end_time": "2023-02-02T06:00:50.116242",
     "exception": false,
     "start_time": "2023-02-02T06:00:50.076383",
     "status": "completed"
    },
    "tags": []
   },
   "source": [
    "### Subsetting or filtering rows of the DataFrame\n",
    "\n",
    "<div class=\"alert alert-block alert-info\">\n",
    "We can also filter rows of the DataFrame that match some criteria. There are many ways to subset a DataFrame, perhaps the most common is to use relational operators to return True or False for each row, then pass that inside square brackets. We can also filter for multiple conditions at once by using the & operator.\n",
    "</div>\n",
    "\n",
    "Let's have some examples:"
   ]
  },
  {
   "cell_type": "code",
   "execution_count": 69,
   "id": "fc2c5288",
   "metadata": {
    "execution": {
     "iopub.execute_input": "2023-02-02T06:00:50.198726Z",
     "iopub.status.busy": "2023-02-02T06:00:50.197624Z",
     "iopub.status.idle": "2023-02-02T06:00:50.218179Z",
     "shell.execute_reply": "2023-02-02T06:00:50.217210Z"
    },
    "papermill": {
     "duration": 0.064446,
     "end_time": "2023-02-02T06:00:50.220718",
     "exception": false,
     "start_time": "2023-02-02T06:00:50.156272",
     "status": "completed"
    },
    "scrolled": true,
    "tags": []
   },
   "outputs": [
    {
     "data": {
      "text/html": [
       "<div>\n",
       "<style scoped>\n",
       "    .dataframe tbody tr th:only-of-type {\n",
       "        vertical-align: middle;\n",
       "    }\n",
       "\n",
       "    .dataframe tbody tr th {\n",
       "        vertical-align: top;\n",
       "    }\n",
       "\n",
       "    .dataframe thead th {\n",
       "        text-align: right;\n",
       "    }\n",
       "</style>\n",
       "<table border=\"1\" class=\"dataframe\">\n",
       "  <thead>\n",
       "    <tr style=\"text-align: right;\">\n",
       "      <th></th>\n",
       "      <th>App</th>\n",
       "      <th>Category</th>\n",
       "      <th>Rating</th>\n",
       "      <th>Reviews</th>\n",
       "      <th>Size</th>\n",
       "      <th>Installs</th>\n",
       "      <th>Type</th>\n",
       "      <th>Price</th>\n",
       "      <th>Content Rating</th>\n",
       "      <th>Genres</th>\n",
       "      <th>Last Updated</th>\n",
       "      <th>Current Ver</th>\n",
       "      <th>Android Ver</th>\n",
       "    </tr>\n",
       "  </thead>\n",
       "  <tbody>\n",
       "    <tr>\n",
       "      <th>0</th>\n",
       "      <td>Photo Editor &amp; Candy Camera &amp; Grid &amp; ScrapBook</td>\n",
       "      <td>ART_AND_DESIGN</td>\n",
       "      <td>4.1</td>\n",
       "      <td>159</td>\n",
       "      <td>19M</td>\n",
       "      <td>10,000+</td>\n",
       "      <td>Free</td>\n",
       "      <td>0</td>\n",
       "      <td>Everyone</td>\n",
       "      <td>Art &amp; Design</td>\n",
       "      <td>January 7, 2018</td>\n",
       "      <td>1.0.0</td>\n",
       "      <td>4.0.3 and up</td>\n",
       "    </tr>\n",
       "    <tr>\n",
       "      <th>2</th>\n",
       "      <td>U Launcher Lite – FREE Live Cool Themes, Hide ...</td>\n",
       "      <td>ART_AND_DESIGN</td>\n",
       "      <td>4.7</td>\n",
       "      <td>87510</td>\n",
       "      <td>8.7M</td>\n",
       "      <td>5,000,000+</td>\n",
       "      <td>Free</td>\n",
       "      <td>0</td>\n",
       "      <td>Everyone</td>\n",
       "      <td>Art &amp; Design</td>\n",
       "      <td>August 1, 2018</td>\n",
       "      <td>1.2.4</td>\n",
       "      <td>4.0.3 and up</td>\n",
       "    </tr>\n",
       "    <tr>\n",
       "      <th>3</th>\n",
       "      <td>Sketch - Draw &amp; Paint</td>\n",
       "      <td>ART_AND_DESIGN</td>\n",
       "      <td>4.5</td>\n",
       "      <td>215644</td>\n",
       "      <td>25M</td>\n",
       "      <td>50,000,000+</td>\n",
       "      <td>Free</td>\n",
       "      <td>0</td>\n",
       "      <td>Teen</td>\n",
       "      <td>Art &amp; Design</td>\n",
       "      <td>June 8, 2018</td>\n",
       "      <td>Varies with device</td>\n",
       "      <td>4.2 and up</td>\n",
       "    </tr>\n",
       "    <tr>\n",
       "      <th>4</th>\n",
       "      <td>Pixel Draw - Number Art Coloring Book</td>\n",
       "      <td>ART_AND_DESIGN</td>\n",
       "      <td>4.3</td>\n",
       "      <td>967</td>\n",
       "      <td>2.8M</td>\n",
       "      <td>100,000+</td>\n",
       "      <td>Free</td>\n",
       "      <td>0</td>\n",
       "      <td>Everyone</td>\n",
       "      <td>Art &amp; Design;Creativity</td>\n",
       "      <td>June 20, 2018</td>\n",
       "      <td>1.1</td>\n",
       "      <td>4.4 and up</td>\n",
       "    </tr>\n",
       "    <tr>\n",
       "      <th>5</th>\n",
       "      <td>Paper flowers instructions</td>\n",
       "      <td>ART_AND_DESIGN</td>\n",
       "      <td>4.4</td>\n",
       "      <td>167</td>\n",
       "      <td>5.6M</td>\n",
       "      <td>50,000+</td>\n",
       "      <td>Free</td>\n",
       "      <td>0</td>\n",
       "      <td>Everyone</td>\n",
       "      <td>Art &amp; Design</td>\n",
       "      <td>March 26, 2017</td>\n",
       "      <td>1.0</td>\n",
       "      <td>2.3 and up</td>\n",
       "    </tr>\n",
       "  </tbody>\n",
       "</table>\n",
       "</div>"
      ],
      "text/plain": [
       "                                                 App        Category  Rating  \\\n",
       "0     Photo Editor & Candy Camera & Grid & ScrapBook  ART_AND_DESIGN     4.1   \n",
       "2  U Launcher Lite – FREE Live Cool Themes, Hide ...  ART_AND_DESIGN     4.7   \n",
       "3                              Sketch - Draw & Paint  ART_AND_DESIGN     4.5   \n",
       "4              Pixel Draw - Number Art Coloring Book  ART_AND_DESIGN     4.3   \n",
       "5                         Paper flowers instructions  ART_AND_DESIGN     4.4   \n",
       "\n",
       "  Reviews  Size     Installs  Type Price Content Rating  \\\n",
       "0     159   19M      10,000+  Free     0       Everyone   \n",
       "2   87510  8.7M   5,000,000+  Free     0       Everyone   \n",
       "3  215644   25M  50,000,000+  Free     0           Teen   \n",
       "4     967  2.8M     100,000+  Free     0       Everyone   \n",
       "5     167  5.6M      50,000+  Free     0       Everyone   \n",
       "\n",
       "                    Genres     Last Updated         Current Ver   Android Ver  \n",
       "0             Art & Design  January 7, 2018               1.0.0  4.0.3 and up  \n",
       "2             Art & Design   August 1, 2018               1.2.4  4.0.3 and up  \n",
       "3             Art & Design     June 8, 2018  Varies with device    4.2 and up  \n",
       "4  Art & Design;Creativity    June 20, 2018                 1.1    4.4 and up  \n",
       "5             Art & Design   March 26, 2017                 1.0    2.3 and up  "
      ]
     },
     "execution_count": 69,
     "metadata": {},
     "output_type": "execute_result"
    }
   ],
   "source": [
    "# filtering rows have 4.0 or above Rating\n",
    "rating_data = data[data[\"Rating\"] >= 4.0]\n",
    "rating_data.head()"
   ]
  },
  {
   "cell_type": "code",
   "execution_count": 70,
   "id": "167ba11b",
   "metadata": {
    "execution": {
     "iopub.execute_input": "2023-02-02T06:00:50.303682Z",
     "iopub.status.busy": "2023-02-02T06:00:50.302855Z",
     "iopub.status.idle": "2023-02-02T06:00:50.323953Z",
     "shell.execute_reply": "2023-02-02T06:00:50.322822Z"
    },
    "papermill": {
     "duration": 0.065347,
     "end_time": "2023-02-02T06:00:50.326450",
     "exception": false,
     "start_time": "2023-02-02T06:00:50.261103",
     "status": "completed"
    },
    "tags": []
   },
   "outputs": [
    {
     "data": {
      "text/html": [
       "<div>\n",
       "<style scoped>\n",
       "    .dataframe tbody tr th:only-of-type {\n",
       "        vertical-align: middle;\n",
       "    }\n",
       "\n",
       "    .dataframe tbody tr th {\n",
       "        vertical-align: top;\n",
       "    }\n",
       "\n",
       "    .dataframe thead th {\n",
       "        text-align: right;\n",
       "    }\n",
       "</style>\n",
       "<table border=\"1\" class=\"dataframe\">\n",
       "  <thead>\n",
       "    <tr style=\"text-align: right;\">\n",
       "      <th></th>\n",
       "      <th>App</th>\n",
       "      <th>Category</th>\n",
       "      <th>Rating</th>\n",
       "      <th>Reviews</th>\n",
       "      <th>Size</th>\n",
       "      <th>Installs</th>\n",
       "      <th>Type</th>\n",
       "      <th>Price</th>\n",
       "      <th>Content Rating</th>\n",
       "      <th>Genres</th>\n",
       "      <th>Last Updated</th>\n",
       "      <th>Current Ver</th>\n",
       "      <th>Android Ver</th>\n",
       "    </tr>\n",
       "  </thead>\n",
       "  <tbody>\n",
       "    <tr>\n",
       "      <th>234</th>\n",
       "      <td>TurboScan: scan documents and receipts in PDF</td>\n",
       "      <td>BUSINESS</td>\n",
       "      <td>4.7</td>\n",
       "      <td>11442</td>\n",
       "      <td>6.8M</td>\n",
       "      <td>100,000+</td>\n",
       "      <td>Paid</td>\n",
       "      <td>$4.99</td>\n",
       "      <td>Everyone</td>\n",
       "      <td>Business</td>\n",
       "      <td>March 25, 2018</td>\n",
       "      <td>1.5.2</td>\n",
       "      <td>4.0 and up</td>\n",
       "    </tr>\n",
       "    <tr>\n",
       "      <th>235</th>\n",
       "      <td>Tiny Scanner Pro: PDF Doc Scan</td>\n",
       "      <td>BUSINESS</td>\n",
       "      <td>4.8</td>\n",
       "      <td>10295</td>\n",
       "      <td>39M</td>\n",
       "      <td>100,000+</td>\n",
       "      <td>Paid</td>\n",
       "      <td>$4.99</td>\n",
       "      <td>Everyone</td>\n",
       "      <td>Business</td>\n",
       "      <td>April 11, 2017</td>\n",
       "      <td>3.4.6</td>\n",
       "      <td>3.0 and up</td>\n",
       "    </tr>\n",
       "    <tr>\n",
       "      <th>290</th>\n",
       "      <td>TurboScan: scan documents and receipts in PDF</td>\n",
       "      <td>BUSINESS</td>\n",
       "      <td>4.7</td>\n",
       "      <td>11442</td>\n",
       "      <td>6.8M</td>\n",
       "      <td>100,000+</td>\n",
       "      <td>Paid</td>\n",
       "      <td>$4.99</td>\n",
       "      <td>Everyone</td>\n",
       "      <td>Business</td>\n",
       "      <td>March 25, 2018</td>\n",
       "      <td>1.5.2</td>\n",
       "      <td>4.0 and up</td>\n",
       "    </tr>\n",
       "    <tr>\n",
       "      <th>291</th>\n",
       "      <td>Tiny Scanner Pro: PDF Doc Scan</td>\n",
       "      <td>BUSINESS</td>\n",
       "      <td>4.8</td>\n",
       "      <td>10295</td>\n",
       "      <td>39M</td>\n",
       "      <td>100,000+</td>\n",
       "      <td>Paid</td>\n",
       "      <td>$4.99</td>\n",
       "      <td>Everyone</td>\n",
       "      <td>Business</td>\n",
       "      <td>April 11, 2017</td>\n",
       "      <td>3.4.6</td>\n",
       "      <td>3.0 and up</td>\n",
       "    </tr>\n",
       "    <tr>\n",
       "      <th>851</th>\n",
       "      <td>Sago Mini Hat Maker</td>\n",
       "      <td>EDUCATION</td>\n",
       "      <td>4.9</td>\n",
       "      <td>11</td>\n",
       "      <td>63M</td>\n",
       "      <td>1,000+</td>\n",
       "      <td>Paid</td>\n",
       "      <td>$3.99</td>\n",
       "      <td>Everyone</td>\n",
       "      <td>Education;Pretend Play</td>\n",
       "      <td>July 24, 2017</td>\n",
       "      <td>1.0</td>\n",
       "      <td>4.0.3 and up</td>\n",
       "    </tr>\n",
       "  </tbody>\n",
       "</table>\n",
       "</div>"
      ],
      "text/plain": [
       "                                               App   Category  Rating Reviews  \\\n",
       "234  TurboScan: scan documents and receipts in PDF   BUSINESS     4.7   11442   \n",
       "235                 Tiny Scanner Pro: PDF Doc Scan   BUSINESS     4.8   10295   \n",
       "290  TurboScan: scan documents and receipts in PDF   BUSINESS     4.7   11442   \n",
       "291                 Tiny Scanner Pro: PDF Doc Scan   BUSINESS     4.8   10295   \n",
       "851                            Sago Mini Hat Maker  EDUCATION     4.9      11   \n",
       "\n",
       "     Size  Installs  Type  Price Content Rating                  Genres  \\\n",
       "234  6.8M  100,000+  Paid  $4.99       Everyone                Business   \n",
       "235   39M  100,000+  Paid  $4.99       Everyone                Business   \n",
       "290  6.8M  100,000+  Paid  $4.99       Everyone                Business   \n",
       "291   39M  100,000+  Paid  $4.99       Everyone                Business   \n",
       "851   63M    1,000+  Paid  $3.99       Everyone  Education;Pretend Play   \n",
       "\n",
       "       Last Updated Current Ver   Android Ver  \n",
       "234  March 25, 2018       1.5.2    4.0 and up  \n",
       "235  April 11, 2017       3.4.6    3.0 and up  \n",
       "290  March 25, 2018       1.5.2    4.0 and up  \n",
       "291  April 11, 2017       3.4.6    3.0 and up  \n",
       "851   July 24, 2017         1.0  4.0.3 and up  "
      ]
     },
     "execution_count": 70,
     "metadata": {},
     "output_type": "execute_result"
    }
   ],
   "source": [
    "rating_type_data = data[(data[\"Rating\"] >= 4.5) & (data[\"Type\"] == \"Paid\")]\n",
    "rating_type_data.head()"
   ]
  },
  {
   "cell_type": "markdown",
   "id": "cef02c41",
   "metadata": {
    "papermill": {
     "duration": 0.041674,
     "end_time": "2023-02-02T06:00:50.410308",
     "exception": false,
     "start_time": "2023-02-02T06:00:50.368634",
     "status": "completed"
    },
    "tags": []
   },
   "source": [
    "<div class=\"alert alert-block alert-info\">\n",
    "    Similarly, we can subset data based on categorical variables with <b>isin()</b> mehtod. Although, this can also be done with <i>or</i> operator '|' but this can get tedious. Instead of writing every condition separately with '|', <b>isin()</b> method does the same job with one line of code.\n",
    "</div>"
   ]
  },
  {
   "cell_type": "code",
   "execution_count": 71,
   "id": "475711ef",
   "metadata": {
    "execution": {
     "iopub.execute_input": "2023-02-02T06:00:50.496521Z",
     "iopub.status.busy": "2023-02-02T06:00:50.495693Z",
     "iopub.status.idle": "2023-02-02T06:00:50.516327Z",
     "shell.execute_reply": "2023-02-02T06:00:50.515352Z"
    },
    "papermill": {
     "duration": 0.065965,
     "end_time": "2023-02-02T06:00:50.518695",
     "exception": false,
     "start_time": "2023-02-02T06:00:50.452730",
     "status": "completed"
    },
    "tags": []
   },
   "outputs": [
    {
     "data": {
      "text/html": [
       "<div>\n",
       "<style scoped>\n",
       "    .dataframe tbody tr th:only-of-type {\n",
       "        vertical-align: middle;\n",
       "    }\n",
       "\n",
       "    .dataframe tbody tr th {\n",
       "        vertical-align: top;\n",
       "    }\n",
       "\n",
       "    .dataframe thead th {\n",
       "        text-align: right;\n",
       "    }\n",
       "</style>\n",
       "<table border=\"1\" class=\"dataframe\">\n",
       "  <thead>\n",
       "    <tr style=\"text-align: right;\">\n",
       "      <th></th>\n",
       "      <th>App</th>\n",
       "      <th>Category</th>\n",
       "      <th>Rating</th>\n",
       "      <th>Reviews</th>\n",
       "      <th>Size</th>\n",
       "      <th>Installs</th>\n",
       "      <th>Type</th>\n",
       "      <th>Price</th>\n",
       "      <th>Content Rating</th>\n",
       "      <th>Genres</th>\n",
       "      <th>Last Updated</th>\n",
       "      <th>Current Ver</th>\n",
       "      <th>Android Ver</th>\n",
       "    </tr>\n",
       "  </thead>\n",
       "  <tbody>\n",
       "    <tr>\n",
       "      <th>98</th>\n",
       "      <td>Hush - Beauty for Everyone</td>\n",
       "      <td>BEAUTY</td>\n",
       "      <td>4.7</td>\n",
       "      <td>18900</td>\n",
       "      <td>17M</td>\n",
       "      <td>500,000+</td>\n",
       "      <td>Free</td>\n",
       "      <td>0</td>\n",
       "      <td>Everyone</td>\n",
       "      <td>Beauty</td>\n",
       "      <td>August 2, 2018</td>\n",
       "      <td>6.10.1</td>\n",
       "      <td>5.0 and up</td>\n",
       "    </tr>\n",
       "    <tr>\n",
       "      <th>99</th>\n",
       "      <td>ipsy: Makeup, Beauty, and Tips</td>\n",
       "      <td>BEAUTY</td>\n",
       "      <td>4.9</td>\n",
       "      <td>49790</td>\n",
       "      <td>14M</td>\n",
       "      <td>1,000,000+</td>\n",
       "      <td>Free</td>\n",
       "      <td>0</td>\n",
       "      <td>Everyone</td>\n",
       "      <td>Beauty</td>\n",
       "      <td>November 9, 2017</td>\n",
       "      <td>2.3.0</td>\n",
       "      <td>4.1 and up</td>\n",
       "    </tr>\n",
       "    <tr>\n",
       "      <th>100</th>\n",
       "      <td>Natural recipes for your beauty</td>\n",
       "      <td>BEAUTY</td>\n",
       "      <td>4.7</td>\n",
       "      <td>1150</td>\n",
       "      <td>9.8M</td>\n",
       "      <td>100,000+</td>\n",
       "      <td>Free</td>\n",
       "      <td>0</td>\n",
       "      <td>Everyone</td>\n",
       "      <td>Beauty</td>\n",
       "      <td>May 15, 2018</td>\n",
       "      <td>4.0</td>\n",
       "      <td>4.1 and up</td>\n",
       "    </tr>\n",
       "    <tr>\n",
       "      <th>101</th>\n",
       "      <td>BestCam Selfie-selfie, beauty camera, photo ed...</td>\n",
       "      <td>BEAUTY</td>\n",
       "      <td>3.9</td>\n",
       "      <td>1739</td>\n",
       "      <td>21M</td>\n",
       "      <td>500,000+</td>\n",
       "      <td>Free</td>\n",
       "      <td>0</td>\n",
       "      <td>Everyone</td>\n",
       "      <td>Beauty</td>\n",
       "      <td>July 12, 2018</td>\n",
       "      <td>1.0.6</td>\n",
       "      <td>4.0.3 and up</td>\n",
       "    </tr>\n",
       "    <tr>\n",
       "      <th>102</th>\n",
       "      <td>Mirror - Zoom &amp; Exposure -</td>\n",
       "      <td>BEAUTY</td>\n",
       "      <td>3.9</td>\n",
       "      <td>32090</td>\n",
       "      <td>Varies with device</td>\n",
       "      <td>1,000,000+</td>\n",
       "      <td>Free</td>\n",
       "      <td>0</td>\n",
       "      <td>Everyone</td>\n",
       "      <td>Beauty</td>\n",
       "      <td>October 24, 2016</td>\n",
       "      <td>Varies with device</td>\n",
       "      <td>Varies with device</td>\n",
       "    </tr>\n",
       "  </tbody>\n",
       "</table>\n",
       "</div>"
      ],
      "text/plain": [
       "                                                   App Category  Rating  \\\n",
       "98                          Hush - Beauty for Everyone   BEAUTY     4.7   \n",
       "99                      ipsy: Makeup, Beauty, and Tips   BEAUTY     4.9   \n",
       "100                    Natural recipes for your beauty   BEAUTY     4.7   \n",
       "101  BestCam Selfie-selfie, beauty camera, photo ed...   BEAUTY     3.9   \n",
       "102                         Mirror - Zoom & Exposure -   BEAUTY     3.9   \n",
       "\n",
       "    Reviews                Size    Installs  Type Price Content Rating  \\\n",
       "98    18900                 17M    500,000+  Free     0       Everyone   \n",
       "99    49790                 14M  1,000,000+  Free     0       Everyone   \n",
       "100    1150                9.8M    100,000+  Free     0       Everyone   \n",
       "101    1739                 21M    500,000+  Free     0       Everyone   \n",
       "102   32090  Varies with device  1,000,000+  Free     0       Everyone   \n",
       "\n",
       "     Genres      Last Updated         Current Ver         Android Ver  \n",
       "98   Beauty    August 2, 2018              6.10.1          5.0 and up  \n",
       "99   Beauty  November 9, 2017               2.3.0          4.1 and up  \n",
       "100  Beauty      May 15, 2018                 4.0          4.1 and up  \n",
       "101  Beauty     July 12, 2018               1.0.6        4.0.3 and up  \n",
       "102  Beauty  October 24, 2016  Varies with device  Varies with device  "
      ]
     },
     "execution_count": 71,
     "metadata": {},
     "output_type": "execute_result"
    }
   ],
   "source": [
    "categories_list = [\"BEAUTY\", \"EVENTS\", \"FAMILY\", \"COMICS\"]\n",
    "condition = data[\"Category\"].isin(categories_list)\n",
    "data_by_categories = data[condition]\n",
    "data_by_categories.head()"
   ]
  },
  {
   "cell_type": "markdown",
   "id": "bfa8d3ad",
   "metadata": {
    "papermill": {
     "duration": 0.041064,
     "end_time": "2023-02-02T06:00:50.601498",
     "exception": false,
     "start_time": "2023-02-02T06:00:50.560434",
     "status": "completed"
    },
    "tags": []
   },
   "source": [
    "### Dropping Duplicates\n",
    "\n",
    "<div class=\"alert alert-block alert-info\">\n",
    "Dropping duplicates is an important part of our analysis because we don't want to count the same thing multiple times. This can be done by using <b>drop_duplicates()</b> method. We can also drop duplicates from multiple columns by passing an argument <i>subset</i> with the list of columns.</div>"
   ]
  },
  {
   "cell_type": "code",
   "execution_count": 72,
   "id": "c8eb57a7",
   "metadata": {
    "execution": {
     "iopub.execute_input": "2023-02-02T06:00:50.690263Z",
     "iopub.status.busy": "2023-02-02T06:00:50.687479Z",
     "iopub.status.idle": "2023-02-02T06:00:50.723448Z",
     "shell.execute_reply": "2023-02-02T06:00:50.722348Z"
    },
    "papermill": {
     "duration": 0.081322,
     "end_time": "2023-02-02T06:00:50.725989",
     "exception": false,
     "start_time": "2023-02-02T06:00:50.644667",
     "status": "completed"
    },
    "tags": []
   },
   "outputs": [
    {
     "data": {
      "text/html": [
       "<div>\n",
       "<style scoped>\n",
       "    .dataframe tbody tr th:only-of-type {\n",
       "        vertical-align: middle;\n",
       "    }\n",
       "\n",
       "    .dataframe tbody tr th {\n",
       "        vertical-align: top;\n",
       "    }\n",
       "\n",
       "    .dataframe thead th {\n",
       "        text-align: right;\n",
       "    }\n",
       "</style>\n",
       "<table border=\"1\" class=\"dataframe\">\n",
       "  <thead>\n",
       "    <tr style=\"text-align: right;\">\n",
       "      <th></th>\n",
       "      <th>App</th>\n",
       "      <th>Category</th>\n",
       "      <th>Rating</th>\n",
       "      <th>Reviews</th>\n",
       "      <th>Size</th>\n",
       "      <th>Installs</th>\n",
       "      <th>Type</th>\n",
       "      <th>Price</th>\n",
       "      <th>Content Rating</th>\n",
       "      <th>Genres</th>\n",
       "      <th>Last Updated</th>\n",
       "      <th>Current Ver</th>\n",
       "      <th>Android Ver</th>\n",
       "    </tr>\n",
       "  </thead>\n",
       "  <tbody>\n",
       "    <tr>\n",
       "      <th>0</th>\n",
       "      <td>Photo Editor &amp; Candy Camera &amp; Grid &amp; ScrapBook</td>\n",
       "      <td>ART_AND_DESIGN</td>\n",
       "      <td>4.1</td>\n",
       "      <td>159</td>\n",
       "      <td>19M</td>\n",
       "      <td>10,000+</td>\n",
       "      <td>Free</td>\n",
       "      <td>0</td>\n",
       "      <td>Everyone</td>\n",
       "      <td>Art &amp; Design</td>\n",
       "      <td>January 7, 2018</td>\n",
       "      <td>1.0.0</td>\n",
       "      <td>4.0.3 and up</td>\n",
       "    </tr>\n",
       "    <tr>\n",
       "      <th>1</th>\n",
       "      <td>Coloring book moana</td>\n",
       "      <td>ART_AND_DESIGN</td>\n",
       "      <td>3.9</td>\n",
       "      <td>967</td>\n",
       "      <td>14M</td>\n",
       "      <td>500,000+</td>\n",
       "      <td>Free</td>\n",
       "      <td>0</td>\n",
       "      <td>Everyone</td>\n",
       "      <td>Art &amp; Design;Pretend Play</td>\n",
       "      <td>January 15, 2018</td>\n",
       "      <td>2.0.0</td>\n",
       "      <td>4.0.3 and up</td>\n",
       "    </tr>\n",
       "    <tr>\n",
       "      <th>2</th>\n",
       "      <td>U Launcher Lite – FREE Live Cool Themes, Hide ...</td>\n",
       "      <td>ART_AND_DESIGN</td>\n",
       "      <td>4.7</td>\n",
       "      <td>87510</td>\n",
       "      <td>8.7M</td>\n",
       "      <td>5,000,000+</td>\n",
       "      <td>Free</td>\n",
       "      <td>0</td>\n",
       "      <td>Everyone</td>\n",
       "      <td>Art &amp; Design</td>\n",
       "      <td>August 1, 2018</td>\n",
       "      <td>1.2.4</td>\n",
       "      <td>4.0.3 and up</td>\n",
       "    </tr>\n",
       "    <tr>\n",
       "      <th>3</th>\n",
       "      <td>Sketch - Draw &amp; Paint</td>\n",
       "      <td>ART_AND_DESIGN</td>\n",
       "      <td>4.5</td>\n",
       "      <td>215644</td>\n",
       "      <td>25M</td>\n",
       "      <td>50,000,000+</td>\n",
       "      <td>Free</td>\n",
       "      <td>0</td>\n",
       "      <td>Teen</td>\n",
       "      <td>Art &amp; Design</td>\n",
       "      <td>June 8, 2018</td>\n",
       "      <td>Varies with device</td>\n",
       "      <td>4.2 and up</td>\n",
       "    </tr>\n",
       "    <tr>\n",
       "      <th>4</th>\n",
       "      <td>Pixel Draw - Number Art Coloring Book</td>\n",
       "      <td>ART_AND_DESIGN</td>\n",
       "      <td>4.3</td>\n",
       "      <td>967</td>\n",
       "      <td>2.8M</td>\n",
       "      <td>100,000+</td>\n",
       "      <td>Free</td>\n",
       "      <td>0</td>\n",
       "      <td>Everyone</td>\n",
       "      <td>Art &amp; Design;Creativity</td>\n",
       "      <td>June 20, 2018</td>\n",
       "      <td>1.1</td>\n",
       "      <td>4.4 and up</td>\n",
       "    </tr>\n",
       "    <tr>\n",
       "      <th>...</th>\n",
       "      <td>...</td>\n",
       "      <td>...</td>\n",
       "      <td>...</td>\n",
       "      <td>...</td>\n",
       "      <td>...</td>\n",
       "      <td>...</td>\n",
       "      <td>...</td>\n",
       "      <td>...</td>\n",
       "      <td>...</td>\n",
       "      <td>...</td>\n",
       "      <td>...</td>\n",
       "      <td>...</td>\n",
       "      <td>...</td>\n",
       "    </tr>\n",
       "    <tr>\n",
       "      <th>10834</th>\n",
       "      <td>FR Calculator</td>\n",
       "      <td>FAMILY</td>\n",
       "      <td>4.0</td>\n",
       "      <td>7</td>\n",
       "      <td>2.6M</td>\n",
       "      <td>500+</td>\n",
       "      <td>Free</td>\n",
       "      <td>0</td>\n",
       "      <td>Everyone</td>\n",
       "      <td>Education</td>\n",
       "      <td>June 18, 2017</td>\n",
       "      <td>1.0.0</td>\n",
       "      <td>4.1 and up</td>\n",
       "    </tr>\n",
       "    <tr>\n",
       "      <th>10836</th>\n",
       "      <td>Sya9a Maroc - FR</td>\n",
       "      <td>FAMILY</td>\n",
       "      <td>4.5</td>\n",
       "      <td>38</td>\n",
       "      <td>53M</td>\n",
       "      <td>5,000+</td>\n",
       "      <td>Free</td>\n",
       "      <td>0</td>\n",
       "      <td>Everyone</td>\n",
       "      <td>Education</td>\n",
       "      <td>July 25, 2017</td>\n",
       "      <td>1.48</td>\n",
       "      <td>4.1 and up</td>\n",
       "    </tr>\n",
       "    <tr>\n",
       "      <th>10837</th>\n",
       "      <td>Fr. Mike Schmitz Audio Teachings</td>\n",
       "      <td>FAMILY</td>\n",
       "      <td>5.0</td>\n",
       "      <td>4</td>\n",
       "      <td>3.6M</td>\n",
       "      <td>100+</td>\n",
       "      <td>Free</td>\n",
       "      <td>0</td>\n",
       "      <td>Everyone</td>\n",
       "      <td>Education</td>\n",
       "      <td>July 6, 2018</td>\n",
       "      <td>1.0</td>\n",
       "      <td>4.1 and up</td>\n",
       "    </tr>\n",
       "    <tr>\n",
       "      <th>10839</th>\n",
       "      <td>The SCP Foundation DB fr nn5n</td>\n",
       "      <td>BOOKS_AND_REFERENCE</td>\n",
       "      <td>4.5</td>\n",
       "      <td>114</td>\n",
       "      <td>Varies with device</td>\n",
       "      <td>1,000+</td>\n",
       "      <td>Free</td>\n",
       "      <td>0</td>\n",
       "      <td>Mature 17+</td>\n",
       "      <td>Books &amp; Reference</td>\n",
       "      <td>January 19, 2015</td>\n",
       "      <td>Varies with device</td>\n",
       "      <td>Varies with device</td>\n",
       "    </tr>\n",
       "    <tr>\n",
       "      <th>10840</th>\n",
       "      <td>iHoroscope - 2018 Daily Horoscope &amp; Astrology</td>\n",
       "      <td>LIFESTYLE</td>\n",
       "      <td>4.5</td>\n",
       "      <td>398307</td>\n",
       "      <td>19M</td>\n",
       "      <td>10,000,000+</td>\n",
       "      <td>Free</td>\n",
       "      <td>0</td>\n",
       "      <td>Everyone</td>\n",
       "      <td>Lifestyle</td>\n",
       "      <td>July 25, 2018</td>\n",
       "      <td>Varies with device</td>\n",
       "      <td>Varies with device</td>\n",
       "    </tr>\n",
       "  </tbody>\n",
       "</table>\n",
       "<p>8190 rows × 13 columns</p>\n",
       "</div>"
      ],
      "text/plain": [
       "                                                     App             Category  \\\n",
       "0         Photo Editor & Candy Camera & Grid & ScrapBook       ART_AND_DESIGN   \n",
       "1                                    Coloring book moana       ART_AND_DESIGN   \n",
       "2      U Launcher Lite – FREE Live Cool Themes, Hide ...       ART_AND_DESIGN   \n",
       "3                                  Sketch - Draw & Paint       ART_AND_DESIGN   \n",
       "4                  Pixel Draw - Number Art Coloring Book       ART_AND_DESIGN   \n",
       "...                                                  ...                  ...   \n",
       "10834                                      FR Calculator               FAMILY   \n",
       "10836                                   Sya9a Maroc - FR               FAMILY   \n",
       "10837                   Fr. Mike Schmitz Audio Teachings               FAMILY   \n",
       "10839                      The SCP Foundation DB fr nn5n  BOOKS_AND_REFERENCE   \n",
       "10840      iHoroscope - 2018 Daily Horoscope & Astrology            LIFESTYLE   \n",
       "\n",
       "       Rating Reviews                Size     Installs  Type Price  \\\n",
       "0         4.1     159                 19M      10,000+  Free     0   \n",
       "1         3.9     967                 14M     500,000+  Free     0   \n",
       "2         4.7   87510                8.7M   5,000,000+  Free     0   \n",
       "3         4.5  215644                 25M  50,000,000+  Free     0   \n",
       "4         4.3     967                2.8M     100,000+  Free     0   \n",
       "...       ...     ...                 ...          ...   ...   ...   \n",
       "10834     4.0       7                2.6M         500+  Free     0   \n",
       "10836     4.5      38                 53M       5,000+  Free     0   \n",
       "10837     5.0       4                3.6M         100+  Free     0   \n",
       "10839     4.5     114  Varies with device       1,000+  Free     0   \n",
       "10840     4.5  398307                 19M  10,000,000+  Free     0   \n",
       "\n",
       "      Content Rating                     Genres      Last Updated  \\\n",
       "0           Everyone               Art & Design   January 7, 2018   \n",
       "1           Everyone  Art & Design;Pretend Play  January 15, 2018   \n",
       "2           Everyone               Art & Design    August 1, 2018   \n",
       "3               Teen               Art & Design      June 8, 2018   \n",
       "4           Everyone    Art & Design;Creativity     June 20, 2018   \n",
       "...              ...                        ...               ...   \n",
       "10834       Everyone                  Education     June 18, 2017   \n",
       "10836       Everyone                  Education     July 25, 2017   \n",
       "10837       Everyone                  Education      July 6, 2018   \n",
       "10839     Mature 17+          Books & Reference  January 19, 2015   \n",
       "10840       Everyone                  Lifestyle     July 25, 2018   \n",
       "\n",
       "              Current Ver         Android Ver  \n",
       "0                   1.0.0        4.0.3 and up  \n",
       "1                   2.0.0        4.0.3 and up  \n",
       "2                   1.2.4        4.0.3 and up  \n",
       "3      Varies with device          4.2 and up  \n",
       "4                     1.1          4.4 and up  \n",
       "...                   ...                 ...  \n",
       "10834               1.0.0          4.1 and up  \n",
       "10836                1.48          4.1 and up  \n",
       "10837                 1.0          4.1 and up  \n",
       "10839  Varies with device  Varies with device  \n",
       "10840  Varies with device  Varies with device  \n",
       "\n",
       "[8190 rows x 13 columns]"
      ]
     },
     "execution_count": 72,
     "metadata": {},
     "output_type": "execute_result"
    }
   ],
   "source": [
    "non_dup_app = data.drop_duplicates(subset = [\"App\"])\n",
    "non_dup_app"
   ]
  },
  {
   "cell_type": "code",
   "execution_count": 73,
   "id": "64dffaba",
   "metadata": {
    "execution": {
     "iopub.execute_input": "2023-02-02T06:00:50.812484Z",
     "iopub.status.busy": "2023-02-02T06:00:50.811654Z",
     "iopub.status.idle": "2023-02-02T06:00:50.817858Z",
     "shell.execute_reply": "2023-02-02T06:00:50.816295Z"
    },
    "papermill": {
     "duration": 0.050874,
     "end_time": "2023-02-02T06:00:50.820260",
     "exception": false,
     "start_time": "2023-02-02T06:00:50.769386",
     "status": "completed"
    },
    "tags": []
   },
   "outputs": [
    {
     "name": "stdout",
     "output_type": "stream",
     "text": [
      "Rows before dropping duplicates:  9360\n",
      "Rows after dropping duplicates:  8190\n"
     ]
    }
   ],
   "source": [
    "print(\"Rows before dropping duplicates: \", data.shape[0])\n",
    "print(\"Rows after dropping duplicates: \", non_dup_app.shape[0])"
   ]
  },
  {
   "cell_type": "markdown",
   "id": "6709e66c",
   "metadata": {
    "papermill": {
     "duration": 0.040578,
     "end_time": "2023-02-02T06:00:50.902175",
     "exception": false,
     "start_time": "2023-02-02T06:00:50.861597",
     "status": "completed"
    },
    "tags": []
   },
   "source": [
    "### Counting Categorical Variables\n",
    "\n",
    "<div class=\"alert alert-block alert-info\">\n",
    "    We can count the categorical variables in a dataset. This can be done with <b>value_counts()</b> mehtod. We can also get the proportion of each category in dataset by passing <i>normalize = True</i> argument. We can also sort the results by passing <i>sort = True</i> argument.\n",
    "</div>"
   ]
  },
  {
   "cell_type": "code",
   "execution_count": 74,
   "id": "fd259274",
   "metadata": {
    "execution": {
     "iopub.execute_input": "2023-02-02T06:00:50.986313Z",
     "iopub.status.busy": "2023-02-02T06:00:50.985465Z",
     "iopub.status.idle": "2023-02-02T06:00:50.994488Z",
     "shell.execute_reply": "2023-02-02T06:00:50.993253Z"
    },
    "papermill": {
     "duration": 0.053806,
     "end_time": "2023-02-02T06:00:50.996664",
     "exception": false,
     "start_time": "2023-02-02T06:00:50.942858",
     "status": "completed"
    },
    "scrolled": true,
    "tags": []
   },
   "outputs": [
    {
     "data": {
      "text/plain": [
       "FAMILY                 1607\n",
       "GAME                    912\n",
       "TOOLS                   717\n",
       "FINANCE                 302\n",
       "PRODUCTIVITY            301\n",
       "LIFESTYLE               301\n",
       "PERSONALIZATION         296\n",
       "MEDICAL                 290\n",
       "BUSINESS                263\n",
       "PHOTOGRAPHY             263\n",
       "SPORTS                  260\n",
       "COMMUNICATION           256\n",
       "HEALTH_AND_FITNESS      244\n",
       "NEWS_AND_MAGAZINES      204\n",
       "SOCIAL                  203\n",
       "TRAVEL_AND_LOCAL        187\n",
       "SHOPPING                180\n",
       "BOOKS_AND_REFERENCE     169\n",
       "VIDEO_PLAYERS           148\n",
       "DATING                  134\n",
       "MAPS_AND_NAVIGATION     118\n",
       "EDUCATION               118\n",
       "ENTERTAINMENT           102\n",
       "FOOD_AND_DRINK           94\n",
       "AUTO_AND_VEHICLES        73\n",
       "WEATHER                  72\n",
       "LIBRARIES_AND_DEMO       63\n",
       "HOUSE_AND_HOME           62\n",
       "ART_AND_DESIGN           60\n",
       "COMICS                   54\n",
       "PARENTING                50\n",
       "EVENTS                   45\n",
       "BEAUTY                   42\n",
       "Name: Category, dtype: int64"
      ]
     },
     "execution_count": 74,
     "metadata": {},
     "output_type": "execute_result"
    }
   ],
   "source": [
    "app_counts = non_dup_app[\"Category\"].value_counts(sort = True)\n",
    "app_counts"
   ]
  },
  {
   "cell_type": "code",
   "execution_count": 75,
   "id": "3950e0dd",
   "metadata": {
    "execution": {
     "iopub.execute_input": "2023-02-02T06:00:51.082249Z",
     "iopub.status.busy": "2023-02-02T06:00:51.081106Z",
     "iopub.status.idle": "2023-02-02T06:00:51.093056Z",
     "shell.execute_reply": "2023-02-02T06:00:51.091842Z"
    },
    "papermill": {
     "duration": 0.05673,
     "end_time": "2023-02-02T06:00:51.095388",
     "exception": false,
     "start_time": "2023-02-02T06:00:51.038658",
     "status": "completed"
    },
    "tags": []
   },
   "outputs": [
    {
     "data": {
      "text/plain": [
       "FAMILY                 0.196215\n",
       "GAME                   0.111355\n",
       "TOOLS                  0.087546\n",
       "FINANCE                0.036874\n",
       "PRODUCTIVITY           0.036752\n",
       "LIFESTYLE              0.036752\n",
       "PERSONALIZATION        0.036142\n",
       "MEDICAL                0.035409\n",
       "BUSINESS               0.032112\n",
       "PHOTOGRAPHY            0.032112\n",
       "SPORTS                 0.031746\n",
       "COMMUNICATION          0.031258\n",
       "HEALTH_AND_FITNESS     0.029792\n",
       "NEWS_AND_MAGAZINES     0.024908\n",
       "SOCIAL                 0.024786\n",
       "TRAVEL_AND_LOCAL       0.022833\n",
       "SHOPPING               0.021978\n",
       "BOOKS_AND_REFERENCE    0.020635\n",
       "VIDEO_PLAYERS          0.018071\n",
       "DATING                 0.016361\n",
       "MAPS_AND_NAVIGATION    0.014408\n",
       "EDUCATION              0.014408\n",
       "ENTERTAINMENT          0.012454\n",
       "FOOD_AND_DRINK         0.011477\n",
       "AUTO_AND_VEHICLES      0.008913\n",
       "WEATHER                0.008791\n",
       "LIBRARIES_AND_DEMO     0.007692\n",
       "HOUSE_AND_HOME         0.007570\n",
       "ART_AND_DESIGN         0.007326\n",
       "COMICS                 0.006593\n",
       "PARENTING              0.006105\n",
       "EVENTS                 0.005495\n",
       "BEAUTY                 0.005128\n",
       "Name: Category, dtype: float64"
      ]
     },
     "execution_count": 75,
     "metadata": {},
     "output_type": "execute_result"
    }
   ],
   "source": [
    "app_counts = non_dup_app[\"Category\"].value_counts(normalize = True, sort = True)\n",
    "app_counts"
   ]
  },
  {
   "cell_type": "markdown",
   "id": "e1dbadbc",
   "metadata": {
    "papermill": {
     "duration": 0.041897,
     "end_time": "2023-02-02T06:00:51.181293",
     "exception": false,
     "start_time": "2023-02-02T06:00:51.139396",
     "status": "completed"
    },
    "tags": []
   },
   "source": [
    "### Splitting data into Groups\n",
    "\n",
    "<div class=\"alert alert-block alert-info\">\n",
    "We can also split data into groups and apply some functions on these groups. This can be done with <b>groupby()</b> mehthod.\n",
    "</div>\n",
    "\n",
    "Let's see some examples:"
   ]
  },
  {
   "cell_type": "code",
   "execution_count": 76,
   "id": "a1c8146c",
   "metadata": {
    "execution": {
     "iopub.execute_input": "2023-02-02T06:00:51.266163Z",
     "iopub.status.busy": "2023-02-02T06:00:51.265464Z",
     "iopub.status.idle": "2023-02-02T06:00:51.277450Z",
     "shell.execute_reply": "2023-02-02T06:00:51.276318Z"
    },
    "papermill": {
     "duration": 0.057045,
     "end_time": "2023-02-02T06:00:51.279823",
     "exception": false,
     "start_time": "2023-02-02T06:00:51.222778",
     "status": "completed"
    },
    "tags": []
   },
   "outputs": [
    {
     "data": {
      "text/plain": [
       "Type\n",
       "Free    4.186288\n",
       "Paid    4.266822\n",
       "Name: Rating, dtype: float64"
      ]
     },
     "execution_count": 76,
     "metadata": {},
     "output_type": "execute_result"
    }
   ],
   "source": [
    "# grouping data by \"Type\" and then calculating mean for each Type\n",
    "grouped_type  = data.groupby(\"Type\")[\"Rating\"].mean()\n",
    "grouped_type"
   ]
  },
  {
   "cell_type": "code",
   "execution_count": 77,
   "id": "a07b79fc",
   "metadata": {
    "execution": {
     "iopub.execute_input": "2023-02-02T06:00:51.366318Z",
     "iopub.status.busy": "2023-02-02T06:00:51.365839Z",
     "iopub.status.idle": "2023-02-02T06:00:51.378540Z",
     "shell.execute_reply": "2023-02-02T06:00:51.377425Z"
    },
    "papermill": {
     "duration": 0.058016,
     "end_time": "2023-02-02T06:00:51.380891",
     "exception": false,
     "start_time": "2023-02-02T06:00:51.322875",
     "status": "completed"
    },
    "tags": []
   },
   "outputs": [
    {
     "data": {
      "text/plain": [
       "Category\n",
       "ART_AND_DESIGN         4.377049\n",
       "AUTO_AND_VEHICLES      4.190411\n",
       "BEAUTY                 4.278571\n",
       "BOOKS_AND_REFERENCE    4.346067\n",
       "BUSINESS               4.121452\n",
       "COMICS                 4.155172\n",
       "COMMUNICATION          4.158537\n",
       "DATING                 3.970769\n",
       "EDUCATION              4.389032\n",
       "ENTERTAINMENT          4.126174\n",
       "EVENTS                 4.435556\n",
       "FAMILY                 4.192383\n",
       "FINANCE                4.131889\n",
       "FOOD_AND_DRINK         4.166972\n",
       "GAME                   4.286326\n",
       "HEALTH_AND_FITNESS     4.277104\n",
       "HOUSE_AND_HOME         4.197368\n",
       "LIBRARIES_AND_DEMO     4.179688\n",
       "LIFESTYLE              4.094904\n",
       "MAPS_AND_NAVIGATION    4.051613\n",
       "MEDICAL                4.189143\n",
       "NEWS_AND_MAGAZINES     4.132189\n",
       "PARENTING              4.300000\n",
       "PERSONALIZATION        4.335256\n",
       "PHOTOGRAPHY            4.192114\n",
       "PRODUCTIVITY           4.211396\n",
       "SHOPPING               4.259664\n",
       "SOCIAL                 4.255598\n",
       "SPORTS                 4.223511\n",
       "TOOLS                  4.047203\n",
       "TRAVEL_AND_LOCAL       4.109292\n",
       "VIDEO_PLAYERS          4.063750\n",
       "WEATHER                4.244000\n",
       "Name: Rating, dtype: float64"
      ]
     },
     "execution_count": 77,
     "metadata": {},
     "output_type": "execute_result"
    }
   ],
   "source": [
    "grouped_category = data.groupby(\"Category\")[\"Rating\"].mean()\n",
    "grouped_category"
   ]
  },
  {
   "cell_type": "markdown",
   "id": "6fa92ec1",
   "metadata": {
    "papermill": {
     "duration": 0.041114,
     "end_time": "2023-02-02T06:00:51.463321",
     "exception": false,
     "start_time": "2023-02-02T06:00:51.422207",
     "status": "completed"
    },
    "tags": []
   },
   "source": [
    "### Multiple Grouped Summaries\n",
    "\n",
    "<div class=\"alert alert-block alert-info\">\n",
    "    We can also calculate multiple grouped summaries statistics using <b>agg()</b> method. <b>agg()</b> method apply a function or a list of functions on a Series or a column of a DataFrame.</div>"
   ]
  },
  {
   "cell_type": "code",
   "execution_count": 78,
   "id": "d206148f",
   "metadata": {
    "execution": {
     "iopub.execute_input": "2023-02-02T06:00:51.548615Z",
     "iopub.status.busy": "2023-02-02T06:00:51.547818Z",
     "iopub.status.idle": "2023-02-02T06:00:51.576815Z",
     "shell.execute_reply": "2023-02-02T06:00:51.575650Z"
    },
    "papermill": {
     "duration": 0.074783,
     "end_time": "2023-02-02T06:00:51.579569",
     "exception": false,
     "start_time": "2023-02-02T06:00:51.504786",
     "status": "completed"
    },
    "tags": []
   },
   "outputs": [
    {
     "data": {
      "text/html": [
       "<div>\n",
       "<style scoped>\n",
       "    .dataframe tbody tr th:only-of-type {\n",
       "        vertical-align: middle;\n",
       "    }\n",
       "\n",
       "    .dataframe tbody tr th {\n",
       "        vertical-align: top;\n",
       "    }\n",
       "\n",
       "    .dataframe thead th {\n",
       "        text-align: right;\n",
       "    }\n",
       "</style>\n",
       "<table border=\"1\" class=\"dataframe\">\n",
       "  <thead>\n",
       "    <tr style=\"text-align: right;\">\n",
       "      <th></th>\n",
       "      <th>mean</th>\n",
       "      <th>median</th>\n",
       "      <th>amin</th>\n",
       "      <th>amax</th>\n",
       "    </tr>\n",
       "    <tr>\n",
       "      <th>Category</th>\n",
       "      <th></th>\n",
       "      <th></th>\n",
       "      <th></th>\n",
       "      <th></th>\n",
       "    </tr>\n",
       "  </thead>\n",
       "  <tbody>\n",
       "    <tr>\n",
       "      <th>ART_AND_DESIGN</th>\n",
       "      <td>4.377049</td>\n",
       "      <td>4.4</td>\n",
       "      <td>3.4</td>\n",
       "      <td>5.0</td>\n",
       "    </tr>\n",
       "    <tr>\n",
       "      <th>AUTO_AND_VEHICLES</th>\n",
       "      <td>4.190411</td>\n",
       "      <td>4.3</td>\n",
       "      <td>2.1</td>\n",
       "      <td>4.9</td>\n",
       "    </tr>\n",
       "    <tr>\n",
       "      <th>BEAUTY</th>\n",
       "      <td>4.278571</td>\n",
       "      <td>4.3</td>\n",
       "      <td>3.1</td>\n",
       "      <td>4.9</td>\n",
       "    </tr>\n",
       "    <tr>\n",
       "      <th>BOOKS_AND_REFERENCE</th>\n",
       "      <td>4.346067</td>\n",
       "      <td>4.5</td>\n",
       "      <td>2.7</td>\n",
       "      <td>5.0</td>\n",
       "    </tr>\n",
       "    <tr>\n",
       "      <th>BUSINESS</th>\n",
       "      <td>4.121452</td>\n",
       "      <td>4.3</td>\n",
       "      <td>1.0</td>\n",
       "      <td>5.0</td>\n",
       "    </tr>\n",
       "    <tr>\n",
       "      <th>COMICS</th>\n",
       "      <td>4.155172</td>\n",
       "      <td>4.4</td>\n",
       "      <td>2.8</td>\n",
       "      <td>5.0</td>\n",
       "    </tr>\n",
       "    <tr>\n",
       "      <th>COMMUNICATION</th>\n",
       "      <td>4.158537</td>\n",
       "      <td>4.3</td>\n",
       "      <td>1.0</td>\n",
       "      <td>5.0</td>\n",
       "    </tr>\n",
       "    <tr>\n",
       "      <th>DATING</th>\n",
       "      <td>3.970769</td>\n",
       "      <td>4.1</td>\n",
       "      <td>1.0</td>\n",
       "      <td>5.0</td>\n",
       "    </tr>\n",
       "    <tr>\n",
       "      <th>EDUCATION</th>\n",
       "      <td>4.389032</td>\n",
       "      <td>4.4</td>\n",
       "      <td>3.5</td>\n",
       "      <td>4.9</td>\n",
       "    </tr>\n",
       "    <tr>\n",
       "      <th>ENTERTAINMENT</th>\n",
       "      <td>4.126174</td>\n",
       "      <td>4.2</td>\n",
       "      <td>3.0</td>\n",
       "      <td>4.7</td>\n",
       "    </tr>\n",
       "    <tr>\n",
       "      <th>EVENTS</th>\n",
       "      <td>4.435556</td>\n",
       "      <td>4.5</td>\n",
       "      <td>2.9</td>\n",
       "      <td>5.0</td>\n",
       "    </tr>\n",
       "    <tr>\n",
       "      <th>FAMILY</th>\n",
       "      <td>4.192383</td>\n",
       "      <td>4.3</td>\n",
       "      <td>1.0</td>\n",
       "      <td>5.0</td>\n",
       "    </tr>\n",
       "    <tr>\n",
       "      <th>FINANCE</th>\n",
       "      <td>4.131889</td>\n",
       "      <td>4.3</td>\n",
       "      <td>1.0</td>\n",
       "      <td>5.0</td>\n",
       "    </tr>\n",
       "    <tr>\n",
       "      <th>FOOD_AND_DRINK</th>\n",
       "      <td>4.166972</td>\n",
       "      <td>4.3</td>\n",
       "      <td>1.7</td>\n",
       "      <td>5.0</td>\n",
       "    </tr>\n",
       "    <tr>\n",
       "      <th>GAME</th>\n",
       "      <td>4.286326</td>\n",
       "      <td>4.4</td>\n",
       "      <td>1.0</td>\n",
       "      <td>5.0</td>\n",
       "    </tr>\n",
       "    <tr>\n",
       "      <th>HEALTH_AND_FITNESS</th>\n",
       "      <td>4.277104</td>\n",
       "      <td>4.5</td>\n",
       "      <td>1.4</td>\n",
       "      <td>5.0</td>\n",
       "    </tr>\n",
       "    <tr>\n",
       "      <th>HOUSE_AND_HOME</th>\n",
       "      <td>4.197368</td>\n",
       "      <td>4.3</td>\n",
       "      <td>2.8</td>\n",
       "      <td>4.8</td>\n",
       "    </tr>\n",
       "    <tr>\n",
       "      <th>LIBRARIES_AND_DEMO</th>\n",
       "      <td>4.179688</td>\n",
       "      <td>4.2</td>\n",
       "      <td>3.1</td>\n",
       "      <td>5.0</td>\n",
       "    </tr>\n",
       "    <tr>\n",
       "      <th>LIFESTYLE</th>\n",
       "      <td>4.094904</td>\n",
       "      <td>4.2</td>\n",
       "      <td>1.5</td>\n",
       "      <td>5.0</td>\n",
       "    </tr>\n",
       "    <tr>\n",
       "      <th>MAPS_AND_NAVIGATION</th>\n",
       "      <td>4.051613</td>\n",
       "      <td>4.2</td>\n",
       "      <td>1.9</td>\n",
       "      <td>4.9</td>\n",
       "    </tr>\n",
       "    <tr>\n",
       "      <th>MEDICAL</th>\n",
       "      <td>4.189143</td>\n",
       "      <td>4.3</td>\n",
       "      <td>1.0</td>\n",
       "      <td>5.0</td>\n",
       "    </tr>\n",
       "    <tr>\n",
       "      <th>NEWS_AND_MAGAZINES</th>\n",
       "      <td>4.132189</td>\n",
       "      <td>4.2</td>\n",
       "      <td>1.7</td>\n",
       "      <td>5.0</td>\n",
       "    </tr>\n",
       "    <tr>\n",
       "      <th>PARENTING</th>\n",
       "      <td>4.300000</td>\n",
       "      <td>4.4</td>\n",
       "      <td>2.0</td>\n",
       "      <td>5.0</td>\n",
       "    </tr>\n",
       "    <tr>\n",
       "      <th>PERSONALIZATION</th>\n",
       "      <td>4.335256</td>\n",
       "      <td>4.4</td>\n",
       "      <td>2.5</td>\n",
       "      <td>5.0</td>\n",
       "    </tr>\n",
       "    <tr>\n",
       "      <th>PHOTOGRAPHY</th>\n",
       "      <td>4.192114</td>\n",
       "      <td>4.3</td>\n",
       "      <td>2.0</td>\n",
       "      <td>5.0</td>\n",
       "    </tr>\n",
       "    <tr>\n",
       "      <th>PRODUCTIVITY</th>\n",
       "      <td>4.211396</td>\n",
       "      <td>4.3</td>\n",
       "      <td>1.0</td>\n",
       "      <td>5.0</td>\n",
       "    </tr>\n",
       "    <tr>\n",
       "      <th>SHOPPING</th>\n",
       "      <td>4.259664</td>\n",
       "      <td>4.3</td>\n",
       "      <td>1.6</td>\n",
       "      <td>5.0</td>\n",
       "    </tr>\n",
       "    <tr>\n",
       "      <th>SOCIAL</th>\n",
       "      <td>4.255598</td>\n",
       "      <td>4.3</td>\n",
       "      <td>1.9</td>\n",
       "      <td>5.0</td>\n",
       "    </tr>\n",
       "    <tr>\n",
       "      <th>SPORTS</th>\n",
       "      <td>4.223511</td>\n",
       "      <td>4.3</td>\n",
       "      <td>1.5</td>\n",
       "      <td>5.0</td>\n",
       "    </tr>\n",
       "    <tr>\n",
       "      <th>TOOLS</th>\n",
       "      <td>4.047203</td>\n",
       "      <td>4.2</td>\n",
       "      <td>1.0</td>\n",
       "      <td>5.0</td>\n",
       "    </tr>\n",
       "    <tr>\n",
       "      <th>TRAVEL_AND_LOCAL</th>\n",
       "      <td>4.109292</td>\n",
       "      <td>4.3</td>\n",
       "      <td>2.2</td>\n",
       "      <td>5.0</td>\n",
       "    </tr>\n",
       "    <tr>\n",
       "      <th>VIDEO_PLAYERS</th>\n",
       "      <td>4.063750</td>\n",
       "      <td>4.2</td>\n",
       "      <td>1.8</td>\n",
       "      <td>4.9</td>\n",
       "    </tr>\n",
       "    <tr>\n",
       "      <th>WEATHER</th>\n",
       "      <td>4.244000</td>\n",
       "      <td>4.3</td>\n",
       "      <td>3.3</td>\n",
       "      <td>4.8</td>\n",
       "    </tr>\n",
       "  </tbody>\n",
       "</table>\n",
       "</div>"
      ],
      "text/plain": [
       "                         mean  median  amin  amax\n",
       "Category                                         \n",
       "ART_AND_DESIGN       4.377049     4.4   3.4   5.0\n",
       "AUTO_AND_VEHICLES    4.190411     4.3   2.1   4.9\n",
       "BEAUTY               4.278571     4.3   3.1   4.9\n",
       "BOOKS_AND_REFERENCE  4.346067     4.5   2.7   5.0\n",
       "BUSINESS             4.121452     4.3   1.0   5.0\n",
       "COMICS               4.155172     4.4   2.8   5.0\n",
       "COMMUNICATION        4.158537     4.3   1.0   5.0\n",
       "DATING               3.970769     4.1   1.0   5.0\n",
       "EDUCATION            4.389032     4.4   3.5   4.9\n",
       "ENTERTAINMENT        4.126174     4.2   3.0   4.7\n",
       "EVENTS               4.435556     4.5   2.9   5.0\n",
       "FAMILY               4.192383     4.3   1.0   5.0\n",
       "FINANCE              4.131889     4.3   1.0   5.0\n",
       "FOOD_AND_DRINK       4.166972     4.3   1.7   5.0\n",
       "GAME                 4.286326     4.4   1.0   5.0\n",
       "HEALTH_AND_FITNESS   4.277104     4.5   1.4   5.0\n",
       "HOUSE_AND_HOME       4.197368     4.3   2.8   4.8\n",
       "LIBRARIES_AND_DEMO   4.179688     4.2   3.1   5.0\n",
       "LIFESTYLE            4.094904     4.2   1.5   5.0\n",
       "MAPS_AND_NAVIGATION  4.051613     4.2   1.9   4.9\n",
       "MEDICAL              4.189143     4.3   1.0   5.0\n",
       "NEWS_AND_MAGAZINES   4.132189     4.2   1.7   5.0\n",
       "PARENTING            4.300000     4.4   2.0   5.0\n",
       "PERSONALIZATION      4.335256     4.4   2.5   5.0\n",
       "PHOTOGRAPHY          4.192114     4.3   2.0   5.0\n",
       "PRODUCTIVITY         4.211396     4.3   1.0   5.0\n",
       "SHOPPING             4.259664     4.3   1.6   5.0\n",
       "SOCIAL               4.255598     4.3   1.9   5.0\n",
       "SPORTS               4.223511     4.3   1.5   5.0\n",
       "TOOLS                4.047203     4.2   1.0   5.0\n",
       "TRAVEL_AND_LOCAL     4.109292     4.3   2.2   5.0\n",
       "VIDEO_PLAYERS        4.063750     4.2   1.8   4.9\n",
       "WEATHER              4.244000     4.3   3.3   4.8"
      ]
     },
     "execution_count": 78,
     "metadata": {},
     "output_type": "execute_result"
    }
   ],
   "source": [
    "grouped_category = data.groupby(\"Category\")[\"Rating\"].agg([np.mean, np.median, np.min, np.max])\n",
    "grouped_category"
   ]
  },
  {
   "cell_type": "markdown",
   "id": "8e813a51",
   "metadata": {
    "papermill": {
     "duration": 0.042729,
     "end_time": "2023-02-02T06:00:51.664243",
     "exception": false,
     "start_time": "2023-02-02T06:00:51.621514",
     "status": "completed"
    },
    "tags": []
   },
   "source": [
    "### Setting and Removing index\n",
    "\n",
    "<div class=\"alert alert-block alert-info\">\n",
    "As discussed earlier, we can set and remove any column as an index of a dataframe.\n",
    "</div>\n",
    "\n",
    "Let's see an example:"
   ]
  },
  {
   "cell_type": "code",
   "execution_count": 79,
   "id": "52b14def",
   "metadata": {
    "execution": {
     "iopub.execute_input": "2023-02-02T06:00:51.749723Z",
     "iopub.status.busy": "2023-02-02T06:00:51.749329Z",
     "iopub.status.idle": "2023-02-02T06:00:51.770135Z",
     "shell.execute_reply": "2023-02-02T06:00:51.769010Z"
    },
    "papermill": {
     "duration": 0.066183,
     "end_time": "2023-02-02T06:00:51.772565",
     "exception": false,
     "start_time": "2023-02-02T06:00:51.706382",
     "status": "completed"
    },
    "tags": []
   },
   "outputs": [
    {
     "data": {
      "text/html": [
       "<div>\n",
       "<style scoped>\n",
       "    .dataframe tbody tr th:only-of-type {\n",
       "        vertical-align: middle;\n",
       "    }\n",
       "\n",
       "    .dataframe tbody tr th {\n",
       "        vertical-align: top;\n",
       "    }\n",
       "\n",
       "    .dataframe thead th {\n",
       "        text-align: right;\n",
       "    }\n",
       "</style>\n",
       "<table border=\"1\" class=\"dataframe\">\n",
       "  <thead>\n",
       "    <tr style=\"text-align: right;\">\n",
       "      <th></th>\n",
       "      <th>Category</th>\n",
       "      <th>Rating</th>\n",
       "      <th>Reviews</th>\n",
       "      <th>Size</th>\n",
       "      <th>Installs</th>\n",
       "      <th>Type</th>\n",
       "      <th>Price</th>\n",
       "      <th>Content Rating</th>\n",
       "      <th>Genres</th>\n",
       "      <th>Last Updated</th>\n",
       "      <th>Current Ver</th>\n",
       "      <th>Android Ver</th>\n",
       "    </tr>\n",
       "    <tr>\n",
       "      <th>App</th>\n",
       "      <th></th>\n",
       "      <th></th>\n",
       "      <th></th>\n",
       "      <th></th>\n",
       "      <th></th>\n",
       "      <th></th>\n",
       "      <th></th>\n",
       "      <th></th>\n",
       "      <th></th>\n",
       "      <th></th>\n",
       "      <th></th>\n",
       "      <th></th>\n",
       "    </tr>\n",
       "  </thead>\n",
       "  <tbody>\n",
       "    <tr>\n",
       "      <th>Photo Editor &amp; Candy Camera &amp; Grid &amp; ScrapBook</th>\n",
       "      <td>ART_AND_DESIGN</td>\n",
       "      <td>4.1</td>\n",
       "      <td>159</td>\n",
       "      <td>19M</td>\n",
       "      <td>10,000+</td>\n",
       "      <td>Free</td>\n",
       "      <td>0</td>\n",
       "      <td>Everyone</td>\n",
       "      <td>Art &amp; Design</td>\n",
       "      <td>January 7, 2018</td>\n",
       "      <td>1.0.0</td>\n",
       "      <td>4.0.3 and up</td>\n",
       "    </tr>\n",
       "    <tr>\n",
       "      <th>Coloring book moana</th>\n",
       "      <td>ART_AND_DESIGN</td>\n",
       "      <td>3.9</td>\n",
       "      <td>967</td>\n",
       "      <td>14M</td>\n",
       "      <td>500,000+</td>\n",
       "      <td>Free</td>\n",
       "      <td>0</td>\n",
       "      <td>Everyone</td>\n",
       "      <td>Art &amp; Design;Pretend Play</td>\n",
       "      <td>January 15, 2018</td>\n",
       "      <td>2.0.0</td>\n",
       "      <td>4.0.3 and up</td>\n",
       "    </tr>\n",
       "    <tr>\n",
       "      <th>U Launcher Lite – FREE Live Cool Themes, Hide Apps</th>\n",
       "      <td>ART_AND_DESIGN</td>\n",
       "      <td>4.7</td>\n",
       "      <td>87510</td>\n",
       "      <td>8.7M</td>\n",
       "      <td>5,000,000+</td>\n",
       "      <td>Free</td>\n",
       "      <td>0</td>\n",
       "      <td>Everyone</td>\n",
       "      <td>Art &amp; Design</td>\n",
       "      <td>August 1, 2018</td>\n",
       "      <td>1.2.4</td>\n",
       "      <td>4.0.3 and up</td>\n",
       "    </tr>\n",
       "    <tr>\n",
       "      <th>Sketch - Draw &amp; Paint</th>\n",
       "      <td>ART_AND_DESIGN</td>\n",
       "      <td>4.5</td>\n",
       "      <td>215644</td>\n",
       "      <td>25M</td>\n",
       "      <td>50,000,000+</td>\n",
       "      <td>Free</td>\n",
       "      <td>0</td>\n",
       "      <td>Teen</td>\n",
       "      <td>Art &amp; Design</td>\n",
       "      <td>June 8, 2018</td>\n",
       "      <td>Varies with device</td>\n",
       "      <td>4.2 and up</td>\n",
       "    </tr>\n",
       "    <tr>\n",
       "      <th>Pixel Draw - Number Art Coloring Book</th>\n",
       "      <td>ART_AND_DESIGN</td>\n",
       "      <td>4.3</td>\n",
       "      <td>967</td>\n",
       "      <td>2.8M</td>\n",
       "      <td>100,000+</td>\n",
       "      <td>Free</td>\n",
       "      <td>0</td>\n",
       "      <td>Everyone</td>\n",
       "      <td>Art &amp; Design;Creativity</td>\n",
       "      <td>June 20, 2018</td>\n",
       "      <td>1.1</td>\n",
       "      <td>4.4 and up</td>\n",
       "    </tr>\n",
       "  </tbody>\n",
       "</table>\n",
       "</div>"
      ],
      "text/plain": [
       "                                                          Category  Rating  \\\n",
       "App                                                                          \n",
       "Photo Editor & Candy Camera & Grid & ScrapBook      ART_AND_DESIGN     4.1   \n",
       "Coloring book moana                                 ART_AND_DESIGN     3.9   \n",
       "U Launcher Lite – FREE Live Cool Themes, Hide Apps  ART_AND_DESIGN     4.7   \n",
       "Sketch - Draw & Paint                               ART_AND_DESIGN     4.5   \n",
       "Pixel Draw - Number Art Coloring Book               ART_AND_DESIGN     4.3   \n",
       "\n",
       "                                                   Reviews  Size     Installs  \\\n",
       "App                                                                             \n",
       "Photo Editor & Candy Camera & Grid & ScrapBook         159   19M      10,000+   \n",
       "Coloring book moana                                    967   14M     500,000+   \n",
       "U Launcher Lite – FREE Live Cool Themes, Hide Apps   87510  8.7M   5,000,000+   \n",
       "Sketch - Draw & Paint                               215644   25M  50,000,000+   \n",
       "Pixel Draw - Number Art Coloring Book                  967  2.8M     100,000+   \n",
       "\n",
       "                                                    Type Price Content Rating  \\\n",
       "App                                                                             \n",
       "Photo Editor & Candy Camera & Grid & ScrapBook      Free     0       Everyone   \n",
       "Coloring book moana                                 Free     0       Everyone   \n",
       "U Launcher Lite – FREE Live Cool Themes, Hide Apps  Free     0       Everyone   \n",
       "Sketch - Draw & Paint                               Free     0           Teen   \n",
       "Pixel Draw - Number Art Coloring Book               Free     0       Everyone   \n",
       "\n",
       "                                                                       Genres  \\\n",
       "App                                                                             \n",
       "Photo Editor & Candy Camera & Grid & ScrapBook                   Art & Design   \n",
       "Coloring book moana                                 Art & Design;Pretend Play   \n",
       "U Launcher Lite – FREE Live Cool Themes, Hide Apps               Art & Design   \n",
       "Sketch - Draw & Paint                                            Art & Design   \n",
       "Pixel Draw - Number Art Coloring Book                 Art & Design;Creativity   \n",
       "\n",
       "                                                        Last Updated  \\\n",
       "App                                                                    \n",
       "Photo Editor & Candy Camera & Grid & ScrapBook       January 7, 2018   \n",
       "Coloring book moana                                 January 15, 2018   \n",
       "U Launcher Lite – FREE Live Cool Themes, Hide Apps    August 1, 2018   \n",
       "Sketch - Draw & Paint                                   June 8, 2018   \n",
       "Pixel Draw - Number Art Coloring Book                  June 20, 2018   \n",
       "\n",
       "                                                           Current Ver  \\\n",
       "App                                                                      \n",
       "Photo Editor & Candy Camera & Grid & ScrapBook                   1.0.0   \n",
       "Coloring book moana                                              2.0.0   \n",
       "U Launcher Lite – FREE Live Cool Themes, Hide Apps               1.2.4   \n",
       "Sketch - Draw & Paint                               Varies with device   \n",
       "Pixel Draw - Number Art Coloring Book                              1.1   \n",
       "\n",
       "                                                     Android Ver  \n",
       "App                                                               \n",
       "Photo Editor & Candy Camera & Grid & ScrapBook      4.0.3 and up  \n",
       "Coloring book moana                                 4.0.3 and up  \n",
       "U Launcher Lite – FREE Live Cool Themes, Hide Apps  4.0.3 and up  \n",
       "Sketch - Draw & Paint                                 4.2 and up  \n",
       "Pixel Draw - Number Art Coloring Book                 4.4 and up  "
      ]
     },
     "execution_count": 79,
     "metadata": {},
     "output_type": "execute_result"
    }
   ],
   "source": [
    "dummy_data = data.set_index(\"App\")\n",
    "dummy_data.head()"
   ]
  },
  {
   "cell_type": "code",
   "execution_count": 80,
   "id": "86bf9723",
   "metadata": {
    "execution": {
     "iopub.execute_input": "2023-02-02T06:00:51.859843Z",
     "iopub.status.busy": "2023-02-02T06:00:51.859403Z",
     "iopub.status.idle": "2023-02-02T06:00:51.884022Z",
     "shell.execute_reply": "2023-02-02T06:00:51.883098Z"
    },
    "papermill": {
     "duration": 0.070615,
     "end_time": "2023-02-02T06:00:51.886274",
     "exception": false,
     "start_time": "2023-02-02T06:00:51.815659",
     "status": "completed"
    },
    "tags": []
   },
   "outputs": [
    {
     "data": {
      "text/html": [
       "<div>\n",
       "<style scoped>\n",
       "    .dataframe tbody tr th:only-of-type {\n",
       "        vertical-align: middle;\n",
       "    }\n",
       "\n",
       "    .dataframe tbody tr th {\n",
       "        vertical-align: top;\n",
       "    }\n",
       "\n",
       "    .dataframe thead th {\n",
       "        text-align: right;\n",
       "    }\n",
       "</style>\n",
       "<table border=\"1\" class=\"dataframe\">\n",
       "  <thead>\n",
       "    <tr style=\"text-align: right;\">\n",
       "      <th></th>\n",
       "      <th>App</th>\n",
       "      <th>Category</th>\n",
       "      <th>Rating</th>\n",
       "      <th>Reviews</th>\n",
       "      <th>Size</th>\n",
       "      <th>Installs</th>\n",
       "      <th>Type</th>\n",
       "      <th>Price</th>\n",
       "      <th>Content Rating</th>\n",
       "      <th>Genres</th>\n",
       "      <th>Last Updated</th>\n",
       "      <th>Current Ver</th>\n",
       "      <th>Android Ver</th>\n",
       "    </tr>\n",
       "  </thead>\n",
       "  <tbody>\n",
       "    <tr>\n",
       "      <th>0</th>\n",
       "      <td>Photo Editor &amp; Candy Camera &amp; Grid &amp; ScrapBook</td>\n",
       "      <td>ART_AND_DESIGN</td>\n",
       "      <td>4.1</td>\n",
       "      <td>159</td>\n",
       "      <td>19M</td>\n",
       "      <td>10,000+</td>\n",
       "      <td>Free</td>\n",
       "      <td>0</td>\n",
       "      <td>Everyone</td>\n",
       "      <td>Art &amp; Design</td>\n",
       "      <td>January 7, 2018</td>\n",
       "      <td>1.0.0</td>\n",
       "      <td>4.0.3 and up</td>\n",
       "    </tr>\n",
       "    <tr>\n",
       "      <th>1</th>\n",
       "      <td>Coloring book moana</td>\n",
       "      <td>ART_AND_DESIGN</td>\n",
       "      <td>3.9</td>\n",
       "      <td>967</td>\n",
       "      <td>14M</td>\n",
       "      <td>500,000+</td>\n",
       "      <td>Free</td>\n",
       "      <td>0</td>\n",
       "      <td>Everyone</td>\n",
       "      <td>Art &amp; Design;Pretend Play</td>\n",
       "      <td>January 15, 2018</td>\n",
       "      <td>2.0.0</td>\n",
       "      <td>4.0.3 and up</td>\n",
       "    </tr>\n",
       "    <tr>\n",
       "      <th>2</th>\n",
       "      <td>U Launcher Lite – FREE Live Cool Themes, Hide ...</td>\n",
       "      <td>ART_AND_DESIGN</td>\n",
       "      <td>4.7</td>\n",
       "      <td>87510</td>\n",
       "      <td>8.7M</td>\n",
       "      <td>5,000,000+</td>\n",
       "      <td>Free</td>\n",
       "      <td>0</td>\n",
       "      <td>Everyone</td>\n",
       "      <td>Art &amp; Design</td>\n",
       "      <td>August 1, 2018</td>\n",
       "      <td>1.2.4</td>\n",
       "      <td>4.0.3 and up</td>\n",
       "    </tr>\n",
       "    <tr>\n",
       "      <th>3</th>\n",
       "      <td>Sketch - Draw &amp; Paint</td>\n",
       "      <td>ART_AND_DESIGN</td>\n",
       "      <td>4.5</td>\n",
       "      <td>215644</td>\n",
       "      <td>25M</td>\n",
       "      <td>50,000,000+</td>\n",
       "      <td>Free</td>\n",
       "      <td>0</td>\n",
       "      <td>Teen</td>\n",
       "      <td>Art &amp; Design</td>\n",
       "      <td>June 8, 2018</td>\n",
       "      <td>Varies with device</td>\n",
       "      <td>4.2 and up</td>\n",
       "    </tr>\n",
       "    <tr>\n",
       "      <th>4</th>\n",
       "      <td>Pixel Draw - Number Art Coloring Book</td>\n",
       "      <td>ART_AND_DESIGN</td>\n",
       "      <td>4.3</td>\n",
       "      <td>967</td>\n",
       "      <td>2.8M</td>\n",
       "      <td>100,000+</td>\n",
       "      <td>Free</td>\n",
       "      <td>0</td>\n",
       "      <td>Everyone</td>\n",
       "      <td>Art &amp; Design;Creativity</td>\n",
       "      <td>June 20, 2018</td>\n",
       "      <td>1.1</td>\n",
       "      <td>4.4 and up</td>\n",
       "    </tr>\n",
       "  </tbody>\n",
       "</table>\n",
       "</div>"
      ],
      "text/plain": [
       "                                                 App        Category  Rating  \\\n",
       "0     Photo Editor & Candy Camera & Grid & ScrapBook  ART_AND_DESIGN     4.1   \n",
       "1                                Coloring book moana  ART_AND_DESIGN     3.9   \n",
       "2  U Launcher Lite – FREE Live Cool Themes, Hide ...  ART_AND_DESIGN     4.7   \n",
       "3                              Sketch - Draw & Paint  ART_AND_DESIGN     4.5   \n",
       "4              Pixel Draw - Number Art Coloring Book  ART_AND_DESIGN     4.3   \n",
       "\n",
       "  Reviews  Size     Installs  Type Price Content Rating  \\\n",
       "0     159   19M      10,000+  Free     0       Everyone   \n",
       "1     967   14M     500,000+  Free     0       Everyone   \n",
       "2   87510  8.7M   5,000,000+  Free     0       Everyone   \n",
       "3  215644   25M  50,000,000+  Free     0           Teen   \n",
       "4     967  2.8M     100,000+  Free     0       Everyone   \n",
       "\n",
       "                      Genres      Last Updated         Current Ver  \\\n",
       "0               Art & Design   January 7, 2018               1.0.0   \n",
       "1  Art & Design;Pretend Play  January 15, 2018               2.0.0   \n",
       "2               Art & Design    August 1, 2018               1.2.4   \n",
       "3               Art & Design      June 8, 2018  Varies with device   \n",
       "4    Art & Design;Creativity     June 20, 2018                 1.1   \n",
       "\n",
       "    Android Ver  \n",
       "0  4.0.3 and up  \n",
       "1  4.0.3 and up  \n",
       "2  4.0.3 and up  \n",
       "3    4.2 and up  \n",
       "4    4.4 and up  "
      ]
     },
     "execution_count": 80,
     "metadata": {},
     "output_type": "execute_result"
    }
   ],
   "source": [
    "reset_data = dummy_data.reset_index()\n",
    "reset_data.head()"
   ]
  },
  {
   "cell_type": "markdown",
   "id": "8b6a2c9b",
   "metadata": {
    "papermill": {
     "duration": 0.042537,
     "end_time": "2023-02-02T06:00:51.972033",
     "exception": false,
     "start_time": "2023-02-02T06:00:51.929496",
     "status": "completed"
    },
    "tags": []
   },
   "source": [
    "<div class=\"alert alert-block alert-warning\">\n",
    "We can also reset the index and drop its contents.</div>"
   ]
  },
  {
   "cell_type": "code",
   "execution_count": 81,
   "id": "a56c1e75",
   "metadata": {
    "execution": {
     "iopub.execute_input": "2023-02-02T06:00:52.060472Z",
     "iopub.status.busy": "2023-02-02T06:00:52.059276Z",
     "iopub.status.idle": "2023-02-02T06:00:52.087392Z",
     "shell.execute_reply": "2023-02-02T06:00:52.086132Z"
    },
    "papermill": {
     "duration": 0.074803,
     "end_time": "2023-02-02T06:00:52.089842",
     "exception": false,
     "start_time": "2023-02-02T06:00:52.015039",
     "status": "completed"
    },
    "tags": []
   },
   "outputs": [
    {
     "data": {
      "text/html": [
       "<div>\n",
       "<style scoped>\n",
       "    .dataframe tbody tr th:only-of-type {\n",
       "        vertical-align: middle;\n",
       "    }\n",
       "\n",
       "    .dataframe tbody tr th {\n",
       "        vertical-align: top;\n",
       "    }\n",
       "\n",
       "    .dataframe thead th {\n",
       "        text-align: right;\n",
       "    }\n",
       "</style>\n",
       "<table border=\"1\" class=\"dataframe\">\n",
       "  <thead>\n",
       "    <tr style=\"text-align: right;\">\n",
       "      <th></th>\n",
       "      <th>Category</th>\n",
       "      <th>Rating</th>\n",
       "      <th>Reviews</th>\n",
       "      <th>Size</th>\n",
       "      <th>Installs</th>\n",
       "      <th>Type</th>\n",
       "      <th>Price</th>\n",
       "      <th>Content Rating</th>\n",
       "      <th>Genres</th>\n",
       "      <th>Last Updated</th>\n",
       "      <th>Current Ver</th>\n",
       "      <th>Android Ver</th>\n",
       "    </tr>\n",
       "  </thead>\n",
       "  <tbody>\n",
       "    <tr>\n",
       "      <th>0</th>\n",
       "      <td>ART_AND_DESIGN</td>\n",
       "      <td>4.1</td>\n",
       "      <td>159</td>\n",
       "      <td>19M</td>\n",
       "      <td>10,000+</td>\n",
       "      <td>Free</td>\n",
       "      <td>0</td>\n",
       "      <td>Everyone</td>\n",
       "      <td>Art &amp; Design</td>\n",
       "      <td>January 7, 2018</td>\n",
       "      <td>1.0.0</td>\n",
       "      <td>4.0.3 and up</td>\n",
       "    </tr>\n",
       "    <tr>\n",
       "      <th>1</th>\n",
       "      <td>ART_AND_DESIGN</td>\n",
       "      <td>3.9</td>\n",
       "      <td>967</td>\n",
       "      <td>14M</td>\n",
       "      <td>500,000+</td>\n",
       "      <td>Free</td>\n",
       "      <td>0</td>\n",
       "      <td>Everyone</td>\n",
       "      <td>Art &amp; Design;Pretend Play</td>\n",
       "      <td>January 15, 2018</td>\n",
       "      <td>2.0.0</td>\n",
       "      <td>4.0.3 and up</td>\n",
       "    </tr>\n",
       "    <tr>\n",
       "      <th>2</th>\n",
       "      <td>ART_AND_DESIGN</td>\n",
       "      <td>4.7</td>\n",
       "      <td>87510</td>\n",
       "      <td>8.7M</td>\n",
       "      <td>5,000,000+</td>\n",
       "      <td>Free</td>\n",
       "      <td>0</td>\n",
       "      <td>Everyone</td>\n",
       "      <td>Art &amp; Design</td>\n",
       "      <td>August 1, 2018</td>\n",
       "      <td>1.2.4</td>\n",
       "      <td>4.0.3 and up</td>\n",
       "    </tr>\n",
       "    <tr>\n",
       "      <th>3</th>\n",
       "      <td>ART_AND_DESIGN</td>\n",
       "      <td>4.5</td>\n",
       "      <td>215644</td>\n",
       "      <td>25M</td>\n",
       "      <td>50,000,000+</td>\n",
       "      <td>Free</td>\n",
       "      <td>0</td>\n",
       "      <td>Teen</td>\n",
       "      <td>Art &amp; Design</td>\n",
       "      <td>June 8, 2018</td>\n",
       "      <td>Varies with device</td>\n",
       "      <td>4.2 and up</td>\n",
       "    </tr>\n",
       "    <tr>\n",
       "      <th>4</th>\n",
       "      <td>ART_AND_DESIGN</td>\n",
       "      <td>4.3</td>\n",
       "      <td>967</td>\n",
       "      <td>2.8M</td>\n",
       "      <td>100,000+</td>\n",
       "      <td>Free</td>\n",
       "      <td>0</td>\n",
       "      <td>Everyone</td>\n",
       "      <td>Art &amp; Design;Creativity</td>\n",
       "      <td>June 20, 2018</td>\n",
       "      <td>1.1</td>\n",
       "      <td>4.4 and up</td>\n",
       "    </tr>\n",
       "    <tr>\n",
       "      <th>...</th>\n",
       "      <td>...</td>\n",
       "      <td>...</td>\n",
       "      <td>...</td>\n",
       "      <td>...</td>\n",
       "      <td>...</td>\n",
       "      <td>...</td>\n",
       "      <td>...</td>\n",
       "      <td>...</td>\n",
       "      <td>...</td>\n",
       "      <td>...</td>\n",
       "      <td>...</td>\n",
       "      <td>...</td>\n",
       "    </tr>\n",
       "    <tr>\n",
       "      <th>9355</th>\n",
       "      <td>FAMILY</td>\n",
       "      <td>4.0</td>\n",
       "      <td>7</td>\n",
       "      <td>2.6M</td>\n",
       "      <td>500+</td>\n",
       "      <td>Free</td>\n",
       "      <td>0</td>\n",
       "      <td>Everyone</td>\n",
       "      <td>Education</td>\n",
       "      <td>June 18, 2017</td>\n",
       "      <td>1.0.0</td>\n",
       "      <td>4.1 and up</td>\n",
       "    </tr>\n",
       "    <tr>\n",
       "      <th>9356</th>\n",
       "      <td>FAMILY</td>\n",
       "      <td>4.5</td>\n",
       "      <td>38</td>\n",
       "      <td>53M</td>\n",
       "      <td>5,000+</td>\n",
       "      <td>Free</td>\n",
       "      <td>0</td>\n",
       "      <td>Everyone</td>\n",
       "      <td>Education</td>\n",
       "      <td>July 25, 2017</td>\n",
       "      <td>1.48</td>\n",
       "      <td>4.1 and up</td>\n",
       "    </tr>\n",
       "    <tr>\n",
       "      <th>9357</th>\n",
       "      <td>FAMILY</td>\n",
       "      <td>5.0</td>\n",
       "      <td>4</td>\n",
       "      <td>3.6M</td>\n",
       "      <td>100+</td>\n",
       "      <td>Free</td>\n",
       "      <td>0</td>\n",
       "      <td>Everyone</td>\n",
       "      <td>Education</td>\n",
       "      <td>July 6, 2018</td>\n",
       "      <td>1.0</td>\n",
       "      <td>4.1 and up</td>\n",
       "    </tr>\n",
       "    <tr>\n",
       "      <th>9358</th>\n",
       "      <td>BOOKS_AND_REFERENCE</td>\n",
       "      <td>4.5</td>\n",
       "      <td>114</td>\n",
       "      <td>Varies with device</td>\n",
       "      <td>1,000+</td>\n",
       "      <td>Free</td>\n",
       "      <td>0</td>\n",
       "      <td>Mature 17+</td>\n",
       "      <td>Books &amp; Reference</td>\n",
       "      <td>January 19, 2015</td>\n",
       "      <td>Varies with device</td>\n",
       "      <td>Varies with device</td>\n",
       "    </tr>\n",
       "    <tr>\n",
       "      <th>9359</th>\n",
       "      <td>LIFESTYLE</td>\n",
       "      <td>4.5</td>\n",
       "      <td>398307</td>\n",
       "      <td>19M</td>\n",
       "      <td>10,000,000+</td>\n",
       "      <td>Free</td>\n",
       "      <td>0</td>\n",
       "      <td>Everyone</td>\n",
       "      <td>Lifestyle</td>\n",
       "      <td>July 25, 2018</td>\n",
       "      <td>Varies with device</td>\n",
       "      <td>Varies with device</td>\n",
       "    </tr>\n",
       "  </tbody>\n",
       "</table>\n",
       "<p>9360 rows × 12 columns</p>\n",
       "</div>"
      ],
      "text/plain": [
       "                 Category  Rating Reviews                Size     Installs  \\\n",
       "0          ART_AND_DESIGN     4.1     159                 19M      10,000+   \n",
       "1          ART_AND_DESIGN     3.9     967                 14M     500,000+   \n",
       "2          ART_AND_DESIGN     4.7   87510                8.7M   5,000,000+   \n",
       "3          ART_AND_DESIGN     4.5  215644                 25M  50,000,000+   \n",
       "4          ART_AND_DESIGN     4.3     967                2.8M     100,000+   \n",
       "...                   ...     ...     ...                 ...          ...   \n",
       "9355               FAMILY     4.0       7                2.6M         500+   \n",
       "9356               FAMILY     4.5      38                 53M       5,000+   \n",
       "9357               FAMILY     5.0       4                3.6M         100+   \n",
       "9358  BOOKS_AND_REFERENCE     4.5     114  Varies with device       1,000+   \n",
       "9359            LIFESTYLE     4.5  398307                 19M  10,000,000+   \n",
       "\n",
       "      Type Price Content Rating                     Genres      Last Updated  \\\n",
       "0     Free     0       Everyone               Art & Design   January 7, 2018   \n",
       "1     Free     0       Everyone  Art & Design;Pretend Play  January 15, 2018   \n",
       "2     Free     0       Everyone               Art & Design    August 1, 2018   \n",
       "3     Free     0           Teen               Art & Design      June 8, 2018   \n",
       "4     Free     0       Everyone    Art & Design;Creativity     June 20, 2018   \n",
       "...    ...   ...            ...                        ...               ...   \n",
       "9355  Free     0       Everyone                  Education     June 18, 2017   \n",
       "9356  Free     0       Everyone                  Education     July 25, 2017   \n",
       "9357  Free     0       Everyone                  Education      July 6, 2018   \n",
       "9358  Free     0     Mature 17+          Books & Reference  January 19, 2015   \n",
       "9359  Free     0       Everyone                  Lifestyle     July 25, 2018   \n",
       "\n",
       "             Current Ver         Android Ver  \n",
       "0                  1.0.0        4.0.3 and up  \n",
       "1                  2.0.0        4.0.3 and up  \n",
       "2                  1.2.4        4.0.3 and up  \n",
       "3     Varies with device          4.2 and up  \n",
       "4                    1.1          4.4 and up  \n",
       "...                  ...                 ...  \n",
       "9355               1.0.0          4.1 and up  \n",
       "9356                1.48          4.1 and up  \n",
       "9357                 1.0          4.1 and up  \n",
       "9358  Varies with device  Varies with device  \n",
       "9359  Varies with device  Varies with device  \n",
       "\n",
       "[9360 rows x 12 columns]"
      ]
     },
     "execution_count": 81,
     "metadata": {},
     "output_type": "execute_result"
    }
   ],
   "source": [
    "# this will reset the index and reomve the App column\n",
    "dummy_data_drop = dummy_data.reset_index(drop = True)\n",
    "dummy_data_drop"
   ]
  },
  {
   "cell_type": "markdown",
   "id": "24e740db",
   "metadata": {
    "papermill": {
     "duration": 0.055449,
     "end_time": "2023-02-02T06:00:52.192487",
     "exception": false,
     "start_time": "2023-02-02T06:00:52.137038",
     "status": "completed"
    },
    "tags": []
   },
   "source": [
    "## Slicing and Indexing\n",
    "\n",
    "<div class=\"alert alert-block alert-info\">\n",
    "    Now let's see subsetting with <b>loc[ ]</b> and <b>iloc[ ]</b> on our dataset.\n",
    "</div>"
   ]
  },
  {
   "cell_type": "code",
   "execution_count": 82,
   "id": "d71bbec7",
   "metadata": {
    "execution": {
     "iopub.execute_input": "2023-02-02T06:00:52.289444Z",
     "iopub.status.busy": "2023-02-02T06:00:52.289063Z",
     "iopub.status.idle": "2023-02-02T06:00:52.303961Z",
     "shell.execute_reply": "2023-02-02T06:00:52.302453Z"
    },
    "papermill": {
     "duration": 0.062004,
     "end_time": "2023-02-02T06:00:52.306388",
     "exception": false,
     "start_time": "2023-02-02T06:00:52.244384",
     "status": "completed"
    },
    "scrolled": true,
    "tags": []
   },
   "outputs": [
    {
     "data": {
      "text/plain": [
       "App\n",
       "Google Play Games    Free\n",
       "Google Play Games    Free\n",
       "Name: Type, dtype: object"
      ]
     },
     "execution_count": 82,
     "metadata": {},
     "output_type": "execute_result"
    }
   ],
   "source": [
    "dummy_data.loc[\"Google Play Games\", \"Type\"]"
   ]
  },
  {
   "cell_type": "code",
   "execution_count": 83,
   "id": "fc731eea",
   "metadata": {
    "execution": {
     "iopub.execute_input": "2023-02-02T06:00:52.397273Z",
     "iopub.status.busy": "2023-02-02T06:00:52.396815Z",
     "iopub.status.idle": "2023-02-02T06:00:52.413297Z",
     "shell.execute_reply": "2023-02-02T06:00:52.412456Z"
    },
    "papermill": {
     "duration": 0.064172,
     "end_time": "2023-02-02T06:00:52.415568",
     "exception": false,
     "start_time": "2023-02-02T06:00:52.351396",
     "status": "completed"
    },
    "tags": []
   },
   "outputs": [
    {
     "data": {
      "text/html": [
       "<div>\n",
       "<style scoped>\n",
       "    .dataframe tbody tr th:only-of-type {\n",
       "        vertical-align: middle;\n",
       "    }\n",
       "\n",
       "    .dataframe tbody tr th {\n",
       "        vertical-align: top;\n",
       "    }\n",
       "\n",
       "    .dataframe thead th {\n",
       "        text-align: right;\n",
       "    }\n",
       "</style>\n",
       "<table border=\"1\" class=\"dataframe\">\n",
       "  <thead>\n",
       "    <tr style=\"text-align: right;\">\n",
       "      <th></th>\n",
       "      <th>Installs</th>\n",
       "      <th>Type</th>\n",
       "      <th>Price</th>\n",
       "      <th>Content Rating</th>\n",
       "      <th>Genres</th>\n",
       "      <th>Last Updated</th>\n",
       "      <th>Current Ver</th>\n",
       "    </tr>\n",
       "    <tr>\n",
       "      <th>App</th>\n",
       "      <th></th>\n",
       "      <th></th>\n",
       "      <th></th>\n",
       "      <th></th>\n",
       "      <th></th>\n",
       "      <th></th>\n",
       "      <th></th>\n",
       "    </tr>\n",
       "  </thead>\n",
       "  <tbody>\n",
       "    <tr>\n",
       "      <th>Sketch - Draw &amp; Paint</th>\n",
       "      <td>50,000,000+</td>\n",
       "      <td>Free</td>\n",
       "      <td>0</td>\n",
       "      <td>Teen</td>\n",
       "      <td>Art &amp; Design</td>\n",
       "      <td>June 8, 2018</td>\n",
       "      <td>Varies with device</td>\n",
       "    </tr>\n",
       "    <tr>\n",
       "      <th>Pixel Draw - Number Art Coloring Book</th>\n",
       "      <td>100,000+</td>\n",
       "      <td>Free</td>\n",
       "      <td>0</td>\n",
       "      <td>Everyone</td>\n",
       "      <td>Art &amp; Design;Creativity</td>\n",
       "      <td>June 20, 2018</td>\n",
       "      <td>1.1</td>\n",
       "    </tr>\n",
       "    <tr>\n",
       "      <th>Paper flowers instructions</th>\n",
       "      <td>50,000+</td>\n",
       "      <td>Free</td>\n",
       "      <td>0</td>\n",
       "      <td>Everyone</td>\n",
       "      <td>Art &amp; Design</td>\n",
       "      <td>March 26, 2017</td>\n",
       "      <td>1.0</td>\n",
       "    </tr>\n",
       "    <tr>\n",
       "      <th>Smoke Effect Photo Maker - Smoke Editor</th>\n",
       "      <td>50,000+</td>\n",
       "      <td>Free</td>\n",
       "      <td>0</td>\n",
       "      <td>Everyone</td>\n",
       "      <td>Art &amp; Design</td>\n",
       "      <td>April 26, 2018</td>\n",
       "      <td>1.1</td>\n",
       "    </tr>\n",
       "    <tr>\n",
       "      <th>Infinite Painter</th>\n",
       "      <td>1,000,000+</td>\n",
       "      <td>Free</td>\n",
       "      <td>0</td>\n",
       "      <td>Everyone</td>\n",
       "      <td>Art &amp; Design</td>\n",
       "      <td>June 14, 2018</td>\n",
       "      <td>6.1.61.1</td>\n",
       "    </tr>\n",
       "  </tbody>\n",
       "</table>\n",
       "</div>"
      ],
      "text/plain": [
       "                                            Installs  Type Price  \\\n",
       "App                                                                \n",
       "Sketch - Draw & Paint                    50,000,000+  Free     0   \n",
       "Pixel Draw - Number Art Coloring Book       100,000+  Free     0   \n",
       "Paper flowers instructions                   50,000+  Free     0   \n",
       "Smoke Effect Photo Maker - Smoke Editor      50,000+  Free     0   \n",
       "Infinite Painter                          1,000,000+  Free     0   \n",
       "\n",
       "                                        Content Rating  \\\n",
       "App                                                      \n",
       "Sketch - Draw & Paint                             Teen   \n",
       "Pixel Draw - Number Art Coloring Book         Everyone   \n",
       "Paper flowers instructions                    Everyone   \n",
       "Smoke Effect Photo Maker - Smoke Editor       Everyone   \n",
       "Infinite Painter                              Everyone   \n",
       "\n",
       "                                                          Genres  \\\n",
       "App                                                                \n",
       "Sketch - Draw & Paint                               Art & Design   \n",
       "Pixel Draw - Number Art Coloring Book    Art & Design;Creativity   \n",
       "Paper flowers instructions                          Art & Design   \n",
       "Smoke Effect Photo Maker - Smoke Editor             Art & Design   \n",
       "Infinite Painter                                    Art & Design   \n",
       "\n",
       "                                           Last Updated         Current Ver  \n",
       "App                                                                          \n",
       "Sketch - Draw & Paint                      June 8, 2018  Varies with device  \n",
       "Pixel Draw - Number Art Coloring Book     June 20, 2018                 1.1  \n",
       "Paper flowers instructions               March 26, 2017                 1.0  \n",
       "Smoke Effect Photo Maker - Smoke Editor  April 26, 2018                 1.1  \n",
       "Infinite Painter                          June 14, 2018            6.1.61.1  "
      ]
     },
     "execution_count": 83,
     "metadata": {},
     "output_type": "execute_result"
    }
   ],
   "source": [
    "dummy_data.loc[\"Sketch - Draw & Paint\" : \"Infinite Painter\", \"Installs\" : \"Current Ver\"]"
   ]
  },
  {
   "cell_type": "code",
   "execution_count": 84,
   "id": "6ef8a0b4",
   "metadata": {
    "execution": {
     "iopub.execute_input": "2023-02-02T06:00:52.536372Z",
     "iopub.status.busy": "2023-02-02T06:00:52.535641Z",
     "iopub.status.idle": "2023-02-02T06:00:52.552148Z",
     "shell.execute_reply": "2023-02-02T06:00:52.551177Z"
    },
    "papermill": {
     "duration": 0.087343,
     "end_time": "2023-02-02T06:00:52.554790",
     "exception": false,
     "start_time": "2023-02-02T06:00:52.467447",
     "status": "completed"
    },
    "tags": []
   },
   "outputs": [
    {
     "data": {
      "text/html": [
       "<div>\n",
       "<style scoped>\n",
       "    .dataframe tbody tr th:only-of-type {\n",
       "        vertical-align: middle;\n",
       "    }\n",
       "\n",
       "    .dataframe tbody tr th {\n",
       "        vertical-align: top;\n",
       "    }\n",
       "\n",
       "    .dataframe thead th {\n",
       "        text-align: right;\n",
       "    }\n",
       "</style>\n",
       "<table border=\"1\" class=\"dataframe\">\n",
       "  <thead>\n",
       "    <tr style=\"text-align: right;\">\n",
       "      <th></th>\n",
       "      <th>Installs</th>\n",
       "      <th>Type</th>\n",
       "      <th>Price</th>\n",
       "      <th>Content Rating</th>\n",
       "      <th>Genres</th>\n",
       "      <th>Last Updated</th>\n",
       "      <th>Current Ver</th>\n",
       "    </tr>\n",
       "    <tr>\n",
       "      <th>App</th>\n",
       "      <th></th>\n",
       "      <th></th>\n",
       "      <th></th>\n",
       "      <th></th>\n",
       "      <th></th>\n",
       "      <th></th>\n",
       "      <th></th>\n",
       "    </tr>\n",
       "  </thead>\n",
       "  <tbody>\n",
       "    <tr>\n",
       "      <th>Sketch - Draw &amp; Paint</th>\n",
       "      <td>50,000,000+</td>\n",
       "      <td>Free</td>\n",
       "      <td>0</td>\n",
       "      <td>Teen</td>\n",
       "      <td>Art &amp; Design</td>\n",
       "      <td>June 8, 2018</td>\n",
       "      <td>Varies with device</td>\n",
       "    </tr>\n",
       "    <tr>\n",
       "      <th>Pixel Draw - Number Art Coloring Book</th>\n",
       "      <td>100,000+</td>\n",
       "      <td>Free</td>\n",
       "      <td>0</td>\n",
       "      <td>Everyone</td>\n",
       "      <td>Art &amp; Design;Creativity</td>\n",
       "      <td>June 20, 2018</td>\n",
       "      <td>1.1</td>\n",
       "    </tr>\n",
       "    <tr>\n",
       "      <th>Paper flowers instructions</th>\n",
       "      <td>50,000+</td>\n",
       "      <td>Free</td>\n",
       "      <td>0</td>\n",
       "      <td>Everyone</td>\n",
       "      <td>Art &amp; Design</td>\n",
       "      <td>March 26, 2017</td>\n",
       "      <td>1.0</td>\n",
       "    </tr>\n",
       "    <tr>\n",
       "      <th>Smoke Effect Photo Maker - Smoke Editor</th>\n",
       "      <td>50,000+</td>\n",
       "      <td>Free</td>\n",
       "      <td>0</td>\n",
       "      <td>Everyone</td>\n",
       "      <td>Art &amp; Design</td>\n",
       "      <td>April 26, 2018</td>\n",
       "      <td>1.1</td>\n",
       "    </tr>\n",
       "    <tr>\n",
       "      <th>Infinite Painter</th>\n",
       "      <td>1,000,000+</td>\n",
       "      <td>Free</td>\n",
       "      <td>0</td>\n",
       "      <td>Everyone</td>\n",
       "      <td>Art &amp; Design</td>\n",
       "      <td>June 14, 2018</td>\n",
       "      <td>6.1.61.1</td>\n",
       "    </tr>\n",
       "  </tbody>\n",
       "</table>\n",
       "</div>"
      ],
      "text/plain": [
       "                                            Installs  Type Price  \\\n",
       "App                                                                \n",
       "Sketch - Draw & Paint                    50,000,000+  Free     0   \n",
       "Pixel Draw - Number Art Coloring Book       100,000+  Free     0   \n",
       "Paper flowers instructions                   50,000+  Free     0   \n",
       "Smoke Effect Photo Maker - Smoke Editor      50,000+  Free     0   \n",
       "Infinite Painter                          1,000,000+  Free     0   \n",
       "\n",
       "                                        Content Rating  \\\n",
       "App                                                      \n",
       "Sketch - Draw & Paint                             Teen   \n",
       "Pixel Draw - Number Art Coloring Book         Everyone   \n",
       "Paper flowers instructions                    Everyone   \n",
       "Smoke Effect Photo Maker - Smoke Editor       Everyone   \n",
       "Infinite Painter                              Everyone   \n",
       "\n",
       "                                                          Genres  \\\n",
       "App                                                                \n",
       "Sketch - Draw & Paint                               Art & Design   \n",
       "Pixel Draw - Number Art Coloring Book    Art & Design;Creativity   \n",
       "Paper flowers instructions                          Art & Design   \n",
       "Smoke Effect Photo Maker - Smoke Editor             Art & Design   \n",
       "Infinite Painter                                    Art & Design   \n",
       "\n",
       "                                           Last Updated         Current Ver  \n",
       "App                                                                          \n",
       "Sketch - Draw & Paint                      June 8, 2018  Varies with device  \n",
       "Pixel Draw - Number Art Coloring Book     June 20, 2018                 1.1  \n",
       "Paper flowers instructions               March 26, 2017                 1.0  \n",
       "Smoke Effect Photo Maker - Smoke Editor  April 26, 2018                 1.1  \n",
       "Infinite Painter                          June 14, 2018            6.1.61.1  "
      ]
     },
     "execution_count": 84,
     "metadata": {},
     "output_type": "execute_result"
    }
   ],
   "source": [
    "dummy_data.iloc[3:8, 4:11]"
   ]
  },
  {
   "cell_type": "code",
   "execution_count": 85,
   "id": "84ee182c",
   "metadata": {
    "execution": {
     "iopub.execute_input": "2023-02-02T06:00:52.657028Z",
     "iopub.status.busy": "2023-02-02T06:00:52.656162Z",
     "iopub.status.idle": "2023-02-02T06:00:52.675954Z",
     "shell.execute_reply": "2023-02-02T06:00:52.674845Z"
    },
    "papermill": {
     "duration": 0.073995,
     "end_time": "2023-02-02T06:00:52.678458",
     "exception": false,
     "start_time": "2023-02-02T06:00:52.604463",
     "status": "completed"
    },
    "tags": []
   },
   "outputs": [
    {
     "data": {
      "text/html": [
       "<div>\n",
       "<style scoped>\n",
       "    .dataframe tbody tr th:only-of-type {\n",
       "        vertical-align: middle;\n",
       "    }\n",
       "\n",
       "    .dataframe tbody tr th {\n",
       "        vertical-align: top;\n",
       "    }\n",
       "\n",
       "    .dataframe thead th {\n",
       "        text-align: right;\n",
       "    }\n",
       "</style>\n",
       "<table border=\"1\" class=\"dataframe\">\n",
       "  <thead>\n",
       "    <tr style=\"text-align: right;\">\n",
       "      <th></th>\n",
       "      <th>Installs</th>\n",
       "      <th>Type</th>\n",
       "      <th>Price</th>\n",
       "      <th>Content Rating</th>\n",
       "      <th>Genres</th>\n",
       "      <th>Last Updated</th>\n",
       "      <th>Current Ver</th>\n",
       "      <th>Android Ver</th>\n",
       "    </tr>\n",
       "    <tr>\n",
       "      <th>App</th>\n",
       "      <th></th>\n",
       "      <th></th>\n",
       "      <th></th>\n",
       "      <th></th>\n",
       "      <th></th>\n",
       "      <th></th>\n",
       "      <th></th>\n",
       "      <th></th>\n",
       "    </tr>\n",
       "  </thead>\n",
       "  <tbody>\n",
       "    <tr>\n",
       "      <th>Sketch - Draw &amp; Paint</th>\n",
       "      <td>50,000,000+</td>\n",
       "      <td>Free</td>\n",
       "      <td>0</td>\n",
       "      <td>Teen</td>\n",
       "      <td>Art &amp; Design</td>\n",
       "      <td>June 8, 2018</td>\n",
       "      <td>Varies with device</td>\n",
       "      <td>4.2 and up</td>\n",
       "    </tr>\n",
       "    <tr>\n",
       "      <th>Pixel Draw - Number Art Coloring Book</th>\n",
       "      <td>100,000+</td>\n",
       "      <td>Free</td>\n",
       "      <td>0</td>\n",
       "      <td>Everyone</td>\n",
       "      <td>Art &amp; Design;Creativity</td>\n",
       "      <td>June 20, 2018</td>\n",
       "      <td>1.1</td>\n",
       "      <td>4.4 and up</td>\n",
       "    </tr>\n",
       "    <tr>\n",
       "      <th>Paper flowers instructions</th>\n",
       "      <td>50,000+</td>\n",
       "      <td>Free</td>\n",
       "      <td>0</td>\n",
       "      <td>Everyone</td>\n",
       "      <td>Art &amp; Design</td>\n",
       "      <td>March 26, 2017</td>\n",
       "      <td>1.0</td>\n",
       "      <td>2.3 and up</td>\n",
       "    </tr>\n",
       "    <tr>\n",
       "      <th>Smoke Effect Photo Maker - Smoke Editor</th>\n",
       "      <td>50,000+</td>\n",
       "      <td>Free</td>\n",
       "      <td>0</td>\n",
       "      <td>Everyone</td>\n",
       "      <td>Art &amp; Design</td>\n",
       "      <td>April 26, 2018</td>\n",
       "      <td>1.1</td>\n",
       "      <td>4.0.3 and up</td>\n",
       "    </tr>\n",
       "    <tr>\n",
       "      <th>Infinite Painter</th>\n",
       "      <td>1,000,000+</td>\n",
       "      <td>Free</td>\n",
       "      <td>0</td>\n",
       "      <td>Everyone</td>\n",
       "      <td>Art &amp; Design</td>\n",
       "      <td>June 14, 2018</td>\n",
       "      <td>6.1.61.1</td>\n",
       "      <td>4.2 and up</td>\n",
       "    </tr>\n",
       "  </tbody>\n",
       "</table>\n",
       "</div>"
      ],
      "text/plain": [
       "                                            Installs  Type Price  \\\n",
       "App                                                                \n",
       "Sketch - Draw & Paint                    50,000,000+  Free     0   \n",
       "Pixel Draw - Number Art Coloring Book       100,000+  Free     0   \n",
       "Paper flowers instructions                   50,000+  Free     0   \n",
       "Smoke Effect Photo Maker - Smoke Editor      50,000+  Free     0   \n",
       "Infinite Painter                          1,000,000+  Free     0   \n",
       "\n",
       "                                        Content Rating  \\\n",
       "App                                                      \n",
       "Sketch - Draw & Paint                             Teen   \n",
       "Pixel Draw - Number Art Coloring Book         Everyone   \n",
       "Paper flowers instructions                    Everyone   \n",
       "Smoke Effect Photo Maker - Smoke Editor       Everyone   \n",
       "Infinite Painter                              Everyone   \n",
       "\n",
       "                                                          Genres  \\\n",
       "App                                                                \n",
       "Sketch - Draw & Paint                               Art & Design   \n",
       "Pixel Draw - Number Art Coloring Book    Art & Design;Creativity   \n",
       "Paper flowers instructions                          Art & Design   \n",
       "Smoke Effect Photo Maker - Smoke Editor             Art & Design   \n",
       "Infinite Painter                                    Art & Design   \n",
       "\n",
       "                                           Last Updated         Current Ver  \\\n",
       "App                                                                           \n",
       "Sketch - Draw & Paint                      June 8, 2018  Varies with device   \n",
       "Pixel Draw - Number Art Coloring Book     June 20, 2018                 1.1   \n",
       "Paper flowers instructions               March 26, 2017                 1.0   \n",
       "Smoke Effect Photo Maker - Smoke Editor  April 26, 2018                 1.1   \n",
       "Infinite Painter                          June 14, 2018            6.1.61.1   \n",
       "\n",
       "                                          Android Ver  \n",
       "App                                                    \n",
       "Sketch - Draw & Paint                      4.2 and up  \n",
       "Pixel Draw - Number Art Coloring Book      4.4 and up  \n",
       "Paper flowers instructions                 2.3 and up  \n",
       "Smoke Effect Photo Maker - Smoke Editor  4.0.3 and up  \n",
       "Infinite Painter                           4.2 and up  "
      ]
     },
     "execution_count": 85,
     "metadata": {},
     "output_type": "execute_result"
    }
   ],
   "source": [
    "dummy_data.iloc[3:8, 4:]"
   ]
  },
  {
   "cell_type": "markdown",
   "id": "c1693c81",
   "metadata": {
    "papermill": {
     "duration": 0.049074,
     "end_time": "2023-02-02T06:00:52.774765",
     "exception": false,
     "start_time": "2023-02-02T06:00:52.725691",
     "status": "completed"
    },
    "tags": []
   },
   "source": [
    "<a id = '6.'></a>\n",
    "# 6. Visualizing DataFrames\n",
    "\n",
    "<div class=\"alert alert-block alert-info\">\n",
    "We can also visualize the content of dataframes using different methods. We can create plots with <b>plot()</b> method, then we will specify the kind of plot by passing <i>kind</i> argument.</div>\n",
    "\n",
    "Let's see some examples:"
   ]
  },
  {
   "cell_type": "markdown",
   "id": "78457693",
   "metadata": {
    "papermill": {
     "duration": 0.049103,
     "end_time": "2023-02-02T06:00:52.878805",
     "exception": false,
     "start_time": "2023-02-02T06:00:52.829702",
     "status": "completed"
    },
    "tags": []
   },
   "source": [
    "Let's first convert:\n",
    "   * _Everyone_ to **0**\n",
    "   * _Mature 17+_ to **1**\n",
    "   * _Teen_ to **2**\n",
    "   *  _Everyone_ 10+ to **3**\n",
    "   * _Adults only_ 18+ to **4**\n",
    "   * _Unrated_ to **5**\n",
    "   \n",
    "in \"Content Rating\" column."
   ]
  },
  {
   "cell_type": "code",
   "execution_count": 86,
   "id": "4a3eac70",
   "metadata": {
    "execution": {
     "iopub.execute_input": "2023-02-02T06:00:52.970258Z",
     "iopub.status.busy": "2023-02-02T06:00:52.968396Z",
     "iopub.status.idle": "2023-02-02T06:00:52.986735Z",
     "shell.execute_reply": "2023-02-02T06:00:52.985834Z"
    },
    "papermill": {
     "duration": 0.066886,
     "end_time": "2023-02-02T06:00:52.989483",
     "exception": false,
     "start_time": "2023-02-02T06:00:52.922597",
     "status": "completed"
    },
    "tags": []
   },
   "outputs": [],
   "source": [
    "dummy_data['Content Rating']=dummy_data['Content Rating'].replace('Everyone',0)\n",
    "dummy_data['Content Rating']=dummy_data['Content Rating'].replace('Mature 17+',1)\n",
    "dummy_data['Content Rating']=dummy_data['Content Rating'].replace('Teen',2)\n",
    "dummy_data['Content Rating']=dummy_data['Content Rating'].replace('Everyone 10+',3)\n",
    "dummy_data['Content Rating']=dummy_data['Content Rating'].replace('Adults only 18+',4)\n",
    "dummy_data['Content Rating']=dummy_data['Content Rating'].replace('Unrated',5)"
   ]
  },
  {
   "cell_type": "code",
   "execution_count": 87,
   "id": "b2582c09",
   "metadata": {
    "execution": {
     "iopub.execute_input": "2023-02-02T06:00:53.082272Z",
     "iopub.status.busy": "2023-02-02T06:00:53.081532Z",
     "iopub.status.idle": "2023-02-02T06:00:53.415382Z",
     "shell.execute_reply": "2023-02-02T06:00:53.414094Z"
    },
    "papermill": {
     "duration": 0.383054,
     "end_time": "2023-02-02T06:00:53.417829",
     "exception": false,
     "start_time": "2023-02-02T06:00:53.034775",
     "status": "completed"
    },
    "tags": []
   },
   "outputs": [
    {
     "data": {
      "image/png": "[encoded data removed]",
      "text/plain": [
       "<Figure size 432x288 with 1 Axes>"
      ]
     },
     "metadata": {
      "needs_background": "light"
     },
     "output_type": "display_data"
    }
   ],
   "source": [
    "dummy_data.plot(x = \"Content Rating\", y = \"Rating\", kind = \"scatter\");"
   ]
  },
  {
   "cell_type": "code",
   "execution_count": 88,
   "id": "cee054ec",
   "metadata": {
    "execution": {
     "iopub.execute_input": "2023-02-02T06:00:53.510469Z",
     "iopub.status.busy": "2023-02-02T06:00:53.510073Z",
     "iopub.status.idle": "2023-02-02T06:00:53.731472Z",
     "shell.execute_reply": "2023-02-02T06:00:53.730266Z"
    },
    "papermill": {
     "duration": 0.269465,
     "end_time": "2023-02-02T06:00:53.733959",
     "exception": false,
     "start_time": "2023-02-02T06:00:53.464494",
     "status": "completed"
    },
    "tags": []
   },
   "outputs": [
    {
     "data": {
      "image/png": "[encoded data removed]",
      "text/plain": [
       "<Figure size 432x288 with 1 Axes>"
      ]
     },
     "metadata": {
      "needs_background": "light"
     },
     "output_type": "display_data"
    }
   ],
   "source": [
    "data[\"Content Rating\"].value_counts().plot(kind = \"bar\");"
   ]
  },
  {
   "cell_type": "code",
   "execution_count": 89,
   "id": "adc85b46",
   "metadata": {
    "execution": {
     "iopub.execute_input": "2023-02-02T06:00:53.825815Z",
     "iopub.status.busy": "2023-02-02T06:00:53.825413Z",
     "iopub.status.idle": "2023-02-02T06:00:53.849803Z",
     "shell.execute_reply": "2023-02-02T06:00:53.848527Z"
    },
    "papermill": {
     "duration": 0.073558,
     "end_time": "2023-02-02T06:00:53.852532",
     "exception": false,
     "start_time": "2023-02-02T06:00:53.778974",
     "status": "completed"
    },
    "tags": []
   },
   "outputs": [
    {
     "data": {
      "text/html": [
       "<div>\n",
       "<style scoped>\n",
       "    .dataframe tbody tr th:only-of-type {\n",
       "        vertical-align: middle;\n",
       "    }\n",
       "\n",
       "    .dataframe tbody tr th {\n",
       "        vertical-align: top;\n",
       "    }\n",
       "\n",
       "    .dataframe thead th {\n",
       "        text-align: right;\n",
       "    }\n",
       "</style>\n",
       "<table border=\"1\" class=\"dataframe\">\n",
       "  <thead>\n",
       "    <tr style=\"text-align: right;\">\n",
       "      <th></th>\n",
       "      <th>App</th>\n",
       "      <th>Category</th>\n",
       "      <th>Rating</th>\n",
       "      <th>Reviews</th>\n",
       "      <th>Size</th>\n",
       "      <th>Installs</th>\n",
       "      <th>Type</th>\n",
       "      <th>Price</th>\n",
       "      <th>Content Rating</th>\n",
       "      <th>Genres</th>\n",
       "      <th>Last Updated</th>\n",
       "      <th>Current Ver</th>\n",
       "      <th>Android Ver</th>\n",
       "    </tr>\n",
       "  </thead>\n",
       "  <tbody>\n",
       "    <tr>\n",
       "      <th>0</th>\n",
       "      <td>Photo Editor &amp; Candy Camera &amp; Grid &amp; ScrapBook</td>\n",
       "      <td>ART_AND_DESIGN</td>\n",
       "      <td>4.1</td>\n",
       "      <td>159</td>\n",
       "      <td>19M</td>\n",
       "      <td>10,000+</td>\n",
       "      <td>Free</td>\n",
       "      <td>0</td>\n",
       "      <td>Everyone</td>\n",
       "      <td>Art &amp; Design</td>\n",
       "      <td>January 7, 2018</td>\n",
       "      <td>1.0.0</td>\n",
       "      <td>4.0.3 and up</td>\n",
       "    </tr>\n",
       "    <tr>\n",
       "      <th>1</th>\n",
       "      <td>Coloring book moana</td>\n",
       "      <td>ART_AND_DESIGN</td>\n",
       "      <td>3.9</td>\n",
       "      <td>967</td>\n",
       "      <td>14M</td>\n",
       "      <td>500,000+</td>\n",
       "      <td>Free</td>\n",
       "      <td>0</td>\n",
       "      <td>Everyone</td>\n",
       "      <td>Art &amp; Design;Pretend Play</td>\n",
       "      <td>January 15, 2018</td>\n",
       "      <td>2.0.0</td>\n",
       "      <td>4.0.3 and up</td>\n",
       "    </tr>\n",
       "    <tr>\n",
       "      <th>2</th>\n",
       "      <td>U Launcher Lite – FREE Live Cool Themes, Hide ...</td>\n",
       "      <td>ART_AND_DESIGN</td>\n",
       "      <td>4.7</td>\n",
       "      <td>87510</td>\n",
       "      <td>8.7M</td>\n",
       "      <td>5,000,000+</td>\n",
       "      <td>Free</td>\n",
       "      <td>0</td>\n",
       "      <td>Everyone</td>\n",
       "      <td>Art &amp; Design</td>\n",
       "      <td>August 1, 2018</td>\n",
       "      <td>1.2.4</td>\n",
       "      <td>4.0.3 and up</td>\n",
       "    </tr>\n",
       "    <tr>\n",
       "      <th>3</th>\n",
       "      <td>Sketch - Draw &amp; Paint</td>\n",
       "      <td>ART_AND_DESIGN</td>\n",
       "      <td>4.5</td>\n",
       "      <td>215644</td>\n",
       "      <td>25M</td>\n",
       "      <td>50,000,000+</td>\n",
       "      <td>Free</td>\n",
       "      <td>0</td>\n",
       "      <td>Teen</td>\n",
       "      <td>Art &amp; Design</td>\n",
       "      <td>June 8, 2018</td>\n",
       "      <td>Varies with device</td>\n",
       "      <td>4.2 and up</td>\n",
       "    </tr>\n",
       "    <tr>\n",
       "      <th>4</th>\n",
       "      <td>Pixel Draw - Number Art Coloring Book</td>\n",
       "      <td>ART_AND_DESIGN</td>\n",
       "      <td>4.3</td>\n",
       "      <td>967</td>\n",
       "      <td>2.8M</td>\n",
       "      <td>100,000+</td>\n",
       "      <td>Free</td>\n",
       "      <td>0</td>\n",
       "      <td>Everyone</td>\n",
       "      <td>Art &amp; Design;Creativity</td>\n",
       "      <td>June 20, 2018</td>\n",
       "      <td>1.1</td>\n",
       "      <td>4.4 and up</td>\n",
       "    </tr>\n",
       "  </tbody>\n",
       "</table>\n",
       "</div>"
      ],
      "text/plain": [
       "                                                 App        Category  Rating  \\\n",
       "0     Photo Editor & Candy Camera & Grid & ScrapBook  ART_AND_DESIGN     4.1   \n",
       "1                                Coloring book moana  ART_AND_DESIGN     3.9   \n",
       "2  U Launcher Lite – FREE Live Cool Themes, Hide ...  ART_AND_DESIGN     4.7   \n",
       "3                              Sketch - Draw & Paint  ART_AND_DESIGN     4.5   \n",
       "4              Pixel Draw - Number Art Coloring Book  ART_AND_DESIGN     4.3   \n",
       "\n",
       "  Reviews  Size     Installs  Type Price Content Rating  \\\n",
       "0     159   19M      10,000+  Free     0       Everyone   \n",
       "1     967   14M     500,000+  Free     0       Everyone   \n",
       "2   87510  8.7M   5,000,000+  Free     0       Everyone   \n",
       "3  215644   25M  50,000,000+  Free     0           Teen   \n",
       "4     967  2.8M     100,000+  Free     0       Everyone   \n",
       "\n",
       "                      Genres      Last Updated         Current Ver  \\\n",
       "0               Art & Design   January 7, 2018               1.0.0   \n",
       "1  Art & Design;Pretend Play  January 15, 2018               2.0.0   \n",
       "2               Art & Design    August 1, 2018               1.2.4   \n",
       "3               Art & Design      June 8, 2018  Varies with device   \n",
       "4    Art & Design;Creativity     June 20, 2018                 1.1   \n",
       "\n",
       "    Android Ver  \n",
       "0  4.0.3 and up  \n",
       "1  4.0.3 and up  \n",
       "2  4.0.3 and up  \n",
       "3    4.2 and up  \n",
       "4    4.4 and up  "
      ]
     },
     "execution_count": 89,
     "metadata": {},
     "output_type": "execute_result"
    }
   ],
   "source": [
    "category_list = [\"Everyone\", \"Teen\", \"Adults only 18+\"]\n",
    "condition = data[\"Content Rating\"].isin(category_list)\n",
    "new_data = data[condition]\n",
    "new_data.head()"
   ]
  },
  {
   "cell_type": "code",
   "execution_count": 90,
   "id": "2f0c1984",
   "metadata": {
    "execution": {
     "iopub.execute_input": "2023-02-02T06:00:53.946700Z",
     "iopub.status.busy": "2023-02-02T06:00:53.946272Z",
     "iopub.status.idle": "2023-02-02T06:00:54.138663Z",
     "shell.execute_reply": "2023-02-02T06:00:54.137745Z"
    },
    "papermill": {
     "duration": 0.243093,
     "end_time": "2023-02-02T06:00:54.140999",
     "exception": false,
     "start_time": "2023-02-02T06:00:53.897906",
     "status": "completed"
    },
    "tags": []
   },
   "outputs": [
    {
     "data": {
      "image/png": "[encoded data removed]",
      "text/plain": [
       "<Figure size 432x288 with 1 Axes>"
      ]
     },
     "metadata": {
      "needs_background": "light"
     },
     "output_type": "display_data"
    }
   ],
   "source": [
    "new_data.groupby(\"Content Rating\")['Rating'].mean().plot(kind = \"bar\");"
   ]
  },
  {
   "cell_type": "code",
   "execution_count": 91,
   "id": "be54555d",
   "metadata": {
    "execution": {
     "iopub.execute_input": "2023-02-02T06:00:54.235455Z",
     "iopub.status.busy": "2023-02-02T06:00:54.234318Z",
     "iopub.status.idle": "2023-02-02T06:00:54.258009Z",
     "shell.execute_reply": "2023-02-02T06:00:54.257001Z"
    },
    "papermill": {
     "duration": 0.073472,
     "end_time": "2023-02-02T06:00:54.260707",
     "exception": false,
     "start_time": "2023-02-02T06:00:54.187235",
     "status": "completed"
    },
    "tags": []
   },
   "outputs": [
    {
     "data": {
      "text/html": [
       "<div>\n",
       "<style scoped>\n",
       "    .dataframe tbody tr th:only-of-type {\n",
       "        vertical-align: middle;\n",
       "    }\n",
       "\n",
       "    .dataframe tbody tr th {\n",
       "        vertical-align: top;\n",
       "    }\n",
       "\n",
       "    .dataframe thead th {\n",
       "        text-align: right;\n",
       "    }\n",
       "</style>\n",
       "<table border=\"1\" class=\"dataframe\">\n",
       "  <thead>\n",
       "    <tr style=\"text-align: right;\">\n",
       "      <th></th>\n",
       "      <th>App</th>\n",
       "      <th>Category</th>\n",
       "      <th>Rating</th>\n",
       "      <th>Reviews</th>\n",
       "      <th>Size</th>\n",
       "      <th>Installs</th>\n",
       "      <th>Type</th>\n",
       "      <th>Price</th>\n",
       "      <th>Content Rating</th>\n",
       "      <th>Genres</th>\n",
       "      <th>Last Updated</th>\n",
       "      <th>Current Ver</th>\n",
       "      <th>Android Ver</th>\n",
       "    </tr>\n",
       "  </thead>\n",
       "  <tbody>\n",
       "    <tr>\n",
       "      <th>1004</th>\n",
       "      <td>All Events in City</td>\n",
       "      <td>EVENTS</td>\n",
       "      <td>4.0</td>\n",
       "      <td>3782</td>\n",
       "      <td>9.5M</td>\n",
       "      <td>100,000+</td>\n",
       "      <td>Free</td>\n",
       "      <td>0</td>\n",
       "      <td>Everyone</td>\n",
       "      <td>Events</td>\n",
       "      <td>June 12, 2018</td>\n",
       "      <td>8.4</td>\n",
       "      <td>4.0.3 and up</td>\n",
       "    </tr>\n",
       "    <tr>\n",
       "      <th>1005</th>\n",
       "      <td>Ticketmaster Event Tickets</td>\n",
       "      <td>EVENTS</td>\n",
       "      <td>4.0</td>\n",
       "      <td>40113</td>\n",
       "      <td>36M</td>\n",
       "      <td>5,000,000+</td>\n",
       "      <td>Free</td>\n",
       "      <td>0</td>\n",
       "      <td>Everyone</td>\n",
       "      <td>Events</td>\n",
       "      <td>July 23, 2018</td>\n",
       "      <td>Varies with device</td>\n",
       "      <td>Varies with device</td>\n",
       "    </tr>\n",
       "    <tr>\n",
       "      <th>1006</th>\n",
       "      <td>Reminder</td>\n",
       "      <td>EVENTS</td>\n",
       "      <td>4.5</td>\n",
       "      <td>7074</td>\n",
       "      <td>6.3M</td>\n",
       "      <td>500,000+</td>\n",
       "      <td>Free</td>\n",
       "      <td>0</td>\n",
       "      <td>Everyone</td>\n",
       "      <td>Events</td>\n",
       "      <td>June 25, 2018</td>\n",
       "      <td>1.57</td>\n",
       "      <td>4.1 and up</td>\n",
       "    </tr>\n",
       "    <tr>\n",
       "      <th>1007</th>\n",
       "      <td>Birdays - Birthday reminder</td>\n",
       "      <td>EVENTS</td>\n",
       "      <td>4.5</td>\n",
       "      <td>2153</td>\n",
       "      <td>5.9M</td>\n",
       "      <td>50,000+</td>\n",
       "      <td>Free</td>\n",
       "      <td>0</td>\n",
       "      <td>Everyone</td>\n",
       "      <td>Events</td>\n",
       "      <td>December 14, 2017</td>\n",
       "      <td>1.5.0</td>\n",
       "      <td>4.1 and up</td>\n",
       "    </tr>\n",
       "    <tr>\n",
       "      <th>1008</th>\n",
       "      <td>StubHub - Tickets to Sports, Concerts &amp; Events</td>\n",
       "      <td>EVENTS</td>\n",
       "      <td>4.0</td>\n",
       "      <td>26089</td>\n",
       "      <td>Varies with device</td>\n",
       "      <td>5,000,000+</td>\n",
       "      <td>Free</td>\n",
       "      <td>0</td>\n",
       "      <td>Everyone</td>\n",
       "      <td>Events</td>\n",
       "      <td>August 2, 2018</td>\n",
       "      <td>4.2.1</td>\n",
       "      <td>Varies with device</td>\n",
       "    </tr>\n",
       "  </tbody>\n",
       "</table>\n",
       "</div>"
      ],
      "text/plain": [
       "                                                 App Category  Rating Reviews  \\\n",
       "1004                              All Events in City   EVENTS     4.0    3782   \n",
       "1005                      Ticketmaster Event Tickets   EVENTS     4.0   40113   \n",
       "1006                                        Reminder   EVENTS     4.5    7074   \n",
       "1007                     Birdays - Birthday reminder   EVENTS     4.5    2153   \n",
       "1008  StubHub - Tickets to Sports, Concerts & Events   EVENTS     4.0   26089   \n",
       "\n",
       "                    Size    Installs  Type Price Content Rating  Genres  \\\n",
       "1004                9.5M    100,000+  Free     0       Everyone  Events   \n",
       "1005                 36M  5,000,000+  Free     0       Everyone  Events   \n",
       "1006                6.3M    500,000+  Free     0       Everyone  Events   \n",
       "1007                5.9M     50,000+  Free     0       Everyone  Events   \n",
       "1008  Varies with device  5,000,000+  Free     0       Everyone  Events   \n",
       "\n",
       "           Last Updated         Current Ver         Android Ver  \n",
       "1004      June 12, 2018                 8.4        4.0.3 and up  \n",
       "1005      July 23, 2018  Varies with device  Varies with device  \n",
       "1006      June 25, 2018                1.57          4.1 and up  \n",
       "1007  December 14, 2017               1.5.0          4.1 and up  \n",
       "1008     August 2, 2018               4.2.1  Varies with device  "
      ]
     },
     "execution_count": 91,
     "metadata": {},
     "output_type": "execute_result"
    }
   ],
   "source": [
    "category_list = [\"Action\", \"Racing\", \"Sports\", \"Events\"]\n",
    "condition = data[\"Genres\"].isin(category_list)\n",
    "new_data = data[condition]\n",
    "new_data.head()"
   ]
  },
  {
   "cell_type": "code",
   "execution_count": 92,
   "id": "180e2ee6",
   "metadata": {
    "execution": {
     "iopub.execute_input": "2023-02-02T06:00:54.355146Z",
     "iopub.status.busy": "2023-02-02T06:00:54.354351Z",
     "iopub.status.idle": "2023-02-02T06:00:54.548835Z",
     "shell.execute_reply": "2023-02-02T06:00:54.547890Z"
    },
    "papermill": {
     "duration": 0.244398,
     "end_time": "2023-02-02T06:00:54.551084",
     "exception": false,
     "start_time": "2023-02-02T06:00:54.306686",
     "status": "completed"
    },
    "tags": []
   },
   "outputs": [
    {
     "data": {
      "image/png": "[encoded data removed]",
      "text/plain": [
       "<Figure size 432x288 with 1 Axes>"
      ]
     },
     "metadata": {
      "needs_background": "light"
     },
     "output_type": "display_data"
    }
   ],
   "source": [
    "new_data.groupby(\"Genres\")['Rating'].mean().plot(kind = \"bar\");"
   ]
  },
  {
   "cell_type": "markdown",
   "id": "66ac43bb",
   "metadata": {
    "papermill": {
     "duration": 0.04555,
     "end_time": "2023-02-02T06:00:54.643335",
     "exception": false,
     "start_time": "2023-02-02T06:00:54.597785",
     "status": "completed"
    },
    "tags": []
   },
   "source": [
    "<div class=\"alert alert-block alert-success\">\n",
    "Alright! That's the end of this tutorial. If you like it then please upvote this notebook.\n",
    "</div>"
   ]
  }
 ],
 "metadata": {
  "kernelspec": {
   "display_name": "Python 3",
   "language": "python",
   "name": "python3"
  },
  "language_info": {
   "codemirror_mode": {
    "name": "ipython",
    "version": 3
   },
   "file_extension": ".py",
   "mimetype": "text/x-python",
   "name": "python",
   "nbconvert_exporter": "python",
   "pygments_lexer": "ipython3",
   "version": "3.7.12"
  },
  "papermill": {
   "default_parameters": {},
   "duration": 24.127172,
   "end_time": "2023-02-02T06:00:55.413166",
   "environment_variables": {},
   "exception": null,
   "input_path": "__notebook__.ipynb",
   "output_path": "__notebook__.ipynb",
   "parameters": {},
   "start_time": "2023-02-02T06:00:31.285994",
   "version": "2.3.4"
  }
 },
 "nbformat": 4,
 "nbformat_minor": 5
}
